{
  "nbformat": 4,
  "nbformat_minor": 0,
  "metadata": {
    "colab": {
      "provenance": [],
      "authorship_tag": "ABX9TyPQ22CrAwQzEJiMHyxYX0XR",
      "include_colab_link": true
    },
    "kernelspec": {
      "name": "python3",
      "display_name": "Python 3"
    },
    "language_info": {
      "name": "python"
    }
  },
  "cells": [
    {
      "cell_type": "markdown",
      "metadata": {
        "id": "view-in-github",
        "colab_type": "text"
      },
      "source": [
        "<a href=\"https://colab.research.google.com/github/lsylcy0307/Accented-speech-transcription/blob/main/Data_exploration.ipynb\" target=\"_parent\"><img src=\"https://colab.research.google.com/assets/colab-badge.svg\" alt=\"Open In Colab\"/></a>"
      ]
    },
    {
      "cell_type": "code",
      "metadata": {
        "id": "hhbs7vFBT66D"
      },
      "source": [
        "!pip install -q kaggle"
      ],
      "execution_count": null,
      "outputs": []
    },
    {
      "cell_type": "code",
      "metadata": {
        "id": "_CGYuuuGUAyh"
      },
      "source": [
        "from google.colab import files"
      ],
      "execution_count": null,
      "outputs": []
    },
    {
      "cell_type": "code",
      "metadata": {
        "id": "m_aXvhKmcDYm"
      },
      "source": [
        "files.upload()\n",
        "#uploads file"
      ],
      "execution_count": null,
      "outputs": []
    },
    {
      "cell_type": "code",
      "metadata": {
        "id": "V9ftRCoCULvS"
      },
      "source": [
        "! mkdir ~/.kaggle"
      ],
      "execution_count": null,
      "outputs": []
    },
    {
      "cell_type": "code",
      "metadata": {
        "id": "OWKgS8_nUW7X"
      },
      "source": [
        "! cp kaggle.json ~/.kaggle/"
      ],
      "execution_count": null,
      "outputs": []
    },
    {
      "cell_type": "code",
      "metadata": {
        "colab": {
          "base_uri": "https://localhost:8080/"
        },
        "id": "9AAZKilhUp5P",
        "outputId": "04ccebe9-fcf8-4607-f337-2ce5f4952a5d"
      },
      "source": [
        "!kaggle datasets download -d rtatman/speech-accent-archive "
      ],
      "execution_count": null,
      "outputs": [
        {
          "output_type": "stream",
          "text": [
            "Warning: Your Kaggle API key is readable by other users on this system! To fix this, you can run 'chmod 600 /root/.kaggle/kaggle.json'\n",
            "Downloading speech-accent-archive.zip to /content\n",
            " 98% 848M/865M [00:04<00:00, 212MB/s]\n",
            "100% 865M/865M [00:04<00:00, 189MB/s]\n"
          ],
          "name": "stdout"
        }
      ]
    },
    {
      "cell_type": "code",
      "metadata": {
        "id": "kUf1kPwiU3Rv"
      },
      "source": [
        "!unzip speech-accent-archive.zip"
      ],
      "execution_count": null,
      "outputs": []
    },
    {
      "cell_type": "code",
      "metadata": {
        "id": "CfBvZusEVo53"
      },
      "source": [
        "! chmod 600 ~/.kaggle/kaggle.json"
      ],
      "execution_count": null,
      "outputs": []
    },
    {
      "cell_type": "code",
      "metadata": {
        "id": "gj9QCw6TWOaO"
      },
      "source": [
        "import pandas as pd       \n",
        "import os \n",
        "import math \n",
        "import numpy as np\n",
        "import matplotlib.pyplot as plt  \n",
        "import IPython.display as ipd  # To play sound in the notebook\n",
        "import librosa\n",
        "import librosa.display\n",
        "import os"
      ],
      "execution_count": null,
      "outputs": []
    },
    {
      "cell_type": "code",
      "metadata": {
        "colab": {
          "base_uri": "https://localhost:8080/"
        },
        "id": "svTmPUUiWSOk",
        "outputId": "418c173f-25f4-4be4-c781-f30b0bd430a3"
      },
      "source": [
        "#load the data \n",
        "df = pd.read_csv(\"speakers_all.csv\", header=0)\n",
        "# Check the data\n",
        "print(df.shape, 'is the shape of the dataset') \n",
        "print('------------------------') \n",
        "print(df.head())"
      ],
      "execution_count": null,
      "outputs": [
        {
          "output_type": "stream",
          "text": [
            "(2172, 12) is the shape of the dataset\n",
            "------------------------\n",
            "    age  age_onset              birthplace  ... Unnamed: 9 Unnamed: 10 Unnamed: 11\n",
            "0  24.0       12.0         koussi, senegal  ...        NaN         NaN         NaN\n",
            "1  18.0       10.0          buea, cameroon  ...        NaN         NaN         NaN\n",
            "2  48.0        8.0  hong, adamawa, nigeria  ...        NaN         NaN         NaN\n",
            "3  42.0       42.0   port-au-prince, haiti  ...        NaN         NaN         NaN\n",
            "4  40.0       35.0   port-au-prince, haiti  ...        NaN         NaN         NaN\n",
            "\n",
            "[5 rows x 12 columns]\n"
          ],
          "name": "stdout"
        }
      ]
    },
    {
      "cell_type": "code",
      "metadata": {
        "id": "YyO5jnZdRqtk"
      },
      "source": [
        "files.upload()"
      ],
      "execution_count": null,
      "outputs": []
    },
    {
      "cell_type": "code",
      "metadata": {
        "colab": {
          "base_uri": "https://localhost:8080/"
        },
        "id": "73ou3PYaYGwI",
        "outputId": "2a3ce33e-230b-4afa-b26d-23b214c316c2"
      },
      "source": [
        "#load the data \n",
        "df = pd.read_csv(\"speakers_all.csv\", header=0)\n",
        "# Check the data\n",
        "print(df.shape, 'is the shape of the dataset') \n",
        "print('------------------------') \n",
        "print(df.head())"
      ],
      "execution_count": null,
      "outputs": [
        {
          "output_type": "stream",
          "text": [
            "(2172, 12) is the shape of the dataset\n",
            "------------------------\n",
            "    age  age_onset              birthplace  ... Unnamed: 9 Unnamed: 10 Unnamed: 11\n",
            "0  24.0       12.0         koussi, senegal  ...        NaN         NaN         NaN\n",
            "1  18.0       10.0          buea, cameroon  ...        NaN         NaN         NaN\n",
            "2  48.0        8.0  hong, adamawa, nigeria  ...        NaN         NaN         NaN\n",
            "3  42.0       42.0   port-au-prince, haiti  ...        NaN         NaN         NaN\n",
            "4  40.0       35.0   port-au-prince, haiti  ...        NaN         NaN         NaN\n",
            "\n",
            "[5 rows x 12 columns]\n"
          ],
          "name": "stdout"
        }
      ]
    },
    {
      "cell_type": "code",
      "metadata": {
        "colab": {
          "base_uri": "https://localhost:8080/"
        },
        "id": "Cin0fAC_XCLo",
        "outputId": "fd762c39-45eb-4a57-85d5-e2b56d18dfe2"
      },
      "source": [
        "#load the data \n",
        "df_mod = pd.read_csv(\"speakers_all_modified.csv\", header=0)\n",
        "# Check the data\n",
        "print(df_mod.shape, 'is the shape of the dataset') \n",
        "print('------------------------') \n",
        "print(df_mod.head())"
      ],
      "execution_count": null,
      "outputs": [
        {
          "output_type": "stream",
          "text": [
            "(172, 9) is the shape of the dataset\n",
            "------------------------\n",
            "   age  age_onset                  birthplace  ... speakerid country file_missing?\n",
            "0   27        2.0  nagpur, maharashtra, india  ...       207   india         False\n",
            "1   19       10.5            new delhi, india  ...      1202   india         False\n",
            "2   20        4.0           chandigarh, india  ...      1437   india         False\n",
            "3   25        4.0            allahabad, india  ...      1440   india         False\n",
            "4   43       13.0               jaipur, india  ...      1633   india         False\n",
            "\n",
            "[5 rows x 9 columns]\n"
          ],
          "name": "stdout"
        }
      ]
    },
    {
      "cell_type": "code",
      "metadata": {
        "colab": {
          "base_uri": "https://localhost:8080/",
          "height": 320
        },
        "id": "awcBmsDPYx4k",
        "outputId": "e42af5ad-83ed-4bcc-acfb-2fb2a50a88a5"
      },
      "source": [
        "df_mod['native_language'].value_counts().plot(kind='bar')"
      ],
      "execution_count": null,
      "outputs": [
        {
          "output_type": "execute_result",
          "data": {
            "text/plain": [
              "<matplotlib.axes._subplots.AxesSubplot at 0x7f68f6736310>"
            ]
          },
          "metadata": {
            "tags": []
          },
          "execution_count": 19
        },
        {
          "output_type": "display_data",
          "data": {
            "image/png": "[encoded data removed]",
            "text/plain": [
              "<Figure size 432x288 with 1 Axes>"
            ]
          },
          "metadata": {
            "tags": [],
            "needs_background": "light"
          }
        }
      ]
    },
    {
      "cell_type": "code",
      "metadata": {
        "id": "uvKYijaHXyG_"
      },
      "source": [
        "import keras\n",
        "from keras import regularizers\n",
        "from keras.preprocessing import sequence\n",
        "from keras.preprocessing.text import Tokenizer\n",
        "from keras.preprocessing.sequence import pad_sequences\n",
        "from keras.models import Sequential, Model, model_from_json\n",
        "from keras.layers import Dense, Embedding, LSTM\n",
        "from keras.layers import Input, Flatten, Dropout, Activation, BatchNormalization\n",
        "from keras.layers import Conv1D, MaxPooling1D, AveragePooling1D\n",
        "# from keras.utils import np_utils, to_categorical\n",
        "from keras.callbacks import ModelCheckpoint\n",
        "\n",
        "# sklearn\n",
        "from sklearn.metrics import confusion_matrix, accuracy_score, classification_report\n",
        "from sklearn.model_selection import train_test_split\n",
        "from sklearn.preprocessing import LabelEncoder\n",
        "\n",
        "# Other  \n",
        "import librosa\n",
        "import librosa.display\n",
        "import json\n",
        "import numpy as np\n",
        "import matplotlib.pyplot as plt\n",
        "import tensorflow as tf\n",
        "from matplotlib.pyplot import specgram\n",
        "import pandas as pd\n",
        "import seaborn as sns\n",
        "import glob \n",
        "import os\n",
        "import pickle\n",
        "import IPython.display as ipd  # To play sound in the notebook\n",
        "import string"
      ],
      "execution_count": null,
      "outputs": []
    },
    {
      "cell_type": "markdown",
      "metadata": {
        "id": "7jL970IUYbgv"
      },
      "source": [
        "Tokenize the Sentence"
      ]
    },
    {
      "cell_type": "code",
      "metadata": {
        "id": "F7HAmnSpYdro"
      },
      "source": [
        "\n",
        "def tokenize_corpus(corpus, num_words=-1):\n",
        "  # Fit a Tokenizer on the corpus\n",
        "  if num_words > -1:\n",
        "    tokenizer = Tokenizer(num_words=num_words)\n",
        "  else:\n",
        "    tokenizer = Tokenizer()\n",
        "  tokenizer.fit_on_texts(corpus)\n",
        "  return tokenizer\n",
        "\n",
        "def create_corpus(dataset, field):\n",
        "  # Remove all other punctuation\n",
        "  dataset[field] = dataset[field].str.replace('[{}]'.format(string.punctuation), '')\n",
        "  # Make it lowercase\n",
        "  dataset[field] = dataset[field].str.upper()\n",
        "  # Make it one long string to split by line\n",
        "  lyrics = dataset[field].str.cat()\n",
        "  corpus = lyrics.split('\\n')\n",
        "  # Remove any trailing whitespace\n",
        "  for l in range(len(corpus)):\n",
        "    corpus[l] = corpus[l].rstrip()\n",
        "  # Remove any empty lines\n",
        "  corpus = [l for l in corpus if l != '']\n",
        "\n",
        "  return corpus\n",
        "\n",
        "def create_corpus_string(string_rc):\n",
        "  # Remove all other punctuation\n",
        "  string_rc = string_rc.replace('[{}]'.format(string.punctuation), '')\n",
        "  # Make it lowercase\n",
        "  string_rc = string_rc.upper()\n",
        "  # Make it one long string to split by line\n",
        "  lyrics = string_rc.cat()\n",
        "  corpus = lyrics.split('\\n')\n",
        "  # Remove any trailing whitespace\n",
        "  for l in range(len(corpus)):\n",
        "    corpus[l] = corpus[l].rstrip()\n",
        "  # Remove any empty lines\n",
        "  corpus = [l for l in corpus if l != '']\n",
        "\n",
        "  return corpus"
      ],
      "execution_count": null,
      "outputs": []
    },
    {
      "cell_type": "code",
      "metadata": {
        "id": "9CMgIoEWYq9O"
      },
      "source": [
        "# Read the transcript from csv\n",
        "# transcript = pd.read_csv('transcript.csv', dtype=str)\n",
        "# transcript = transcript.drop(['Unnamed: 0'], axis = 1)"
      ],
      "execution_count": null,
      "outputs": []
    },
    {
      "cell_type": "code",
      "metadata": {
        "id": "z8ITaC6_ZL5f"
      },
      "source": [
        "# transcript.head()"
      ],
      "execution_count": null,
      "outputs": []
    },
    {
      "cell_type": "code",
      "metadata": {
        "id": "UhDV9D3lZSAf"
      },
      "source": [
        "# Create the corpus using the 'transcript' column containing the transcript\n",
        "# corpus = create_corpus(dataset, 'transcript')\n",
        "# # Tokenize the corpus\n",
        "# tokenizer = tokenize_corpus(corpus, num_words=100)\n",
        "# total_words = tokenizer.num_words\n",
        "\n",
        "\n",
        "# sequences = tokenizer.texts_to_sequences(corpus)\n",
        "# one_hot_results = tokenizer.texts_to_matrix(dataset['transcript'], mode='binary')\n",
        "# word_index = tokenizer.word_index\n",
        "\n",
        "# print('Found %s unique tokens.' % len(word_index))"
      ],
      "execution_count": null,
      "outputs": []
    },
    {
      "cell_type": "code",
      "metadata": {
        "id": "KkBIVrBfahQd"
      },
      "source": [
        "#transcript words tokenized\n",
        "# trans_sequences = tokenizer.texts_to_sequences(dataset['transcript'])\n",
        "# print(trans_sequences)"
      ],
      "execution_count": null,
      "outputs": []
    },
    {
      "cell_type": "code",
      "metadata": {
        "id": "tMniQVcTavVS"
      },
      "source": [
        "#Korean\n",
        "kr_phonemes = []\n",
        "kr_word_total = []\n",
        "kr_word_list = []\n",
        "counter = 0\n",
        "new_person = False\n",
        "new_word = False\n",
        "word_counter = 0\n",
        "with open(\"korean_align.mlf\", \"r\") as a_file:\n",
        "    for line in a_file:\n",
        "        stripped_line = line.strip()\n",
        "        words = stripped_line.split( )\n",
        "        if (counter>0 and words[0].find(\".rec\")==-1):\n",
        "            if (words[0]==\".\"):\n",
        "                if word_counter == 69: \n",
        "                    kr_word_total.append(kr_word_list)\n",
        "                word_counter = 0\n",
        "                new_person = True\n",
        "                kr_phonemes.append(kr_word_total)\n",
        "                kr_word_total = []\n",
        "            else:\n",
        "                if len(words)==5:\n",
        "                    word_counter = word_counter+1\n",
        "                    kr_word_total.append(kr_word_list)\n",
        "                    kr_word_list = []\n",
        "                    new_word = True\n",
        "                    kr_word_list.append(words[2])\n",
        "                else:\n",
        "                    new_word = False\n",
        "\n",
        "                if new_word == False:\n",
        "                    kr_word_list.append(words[2])\n",
        "        counter = counter+1"
      ],
      "execution_count": null,
      "outputs": []
    },
    {
      "cell_type": "code",
      "metadata": {
        "colab": {
          "base_uri": "https://localhost:8080/"
        },
        "id": "72MHXPztcipd",
        "outputId": "14053323-1371-4f44-b3dd-f490cfd2fb4f"
      },
      "source": [
        "len(kr_phonemes)"
      ],
      "execution_count": null,
      "outputs": [
        {
          "output_type": "execute_result",
          "data": {
            "text/plain": [
              "52"
            ]
          },
          "metadata": {
            "tags": []
          },
          "execution_count": 123
        }
      ]
    },
    {
      "cell_type": "code",
      "metadata": {
        "id": "lLymTyyFdCt7"
      },
      "source": [
        "kr_phonemes[0].pop(0)\n",
        "for i in kr_phonemes:\n",
        "    i.pop(0)"
      ],
      "execution_count": null,
      "outputs": []
    },
    {
      "cell_type": "markdown",
      "metadata": {
        "id": "V6NfJIBecmCe"
      },
      "source": [
        "Hindi"
      ]
    },
    {
      "cell_type": "code",
      "metadata": {
        "id": "zRV4CzIZcmnq"
      },
      "source": [
        "#hindi\n",
        "hd_phonemes = []\n",
        "hd_word_total = []\n",
        "hd_word_list = []\n",
        "counter = 0\n",
        "new_person = False\n",
        "new_word = False\n",
        "word_counter = 0\n",
        "with open(\"hindi_align.mlf\", \"r\") as a_file:\n",
        "    for line in a_file:\n",
        "        stripped_line = line.strip()\n",
        "        words = stripped_line.split( )\n",
        "        if (counter>0 and words[0].find(\".rec\")==-1):\n",
        "            if (words[0]==\".\"):\n",
        "                if word_counter == 69: \n",
        "                    hd_word_total.append(hd_word_list)\n",
        "                word_counter = 0\n",
        "                new_person = True\n",
        "                hd_phonemes.append(hd_word_total)\n",
        "                hd_word_total = []\n",
        "            else:\n",
        "                if len(words)==5:\n",
        "                    word_counter = word_counter+1\n",
        "                    hd_word_total.append(hd_word_list)\n",
        "                    hd_word_list = []\n",
        "                    new_word = True\n",
        "                    hd_word_list.append(words[2])\n",
        "                else:\n",
        "                    new_word = False\n",
        "\n",
        "                if new_word == False:\n",
        "                    hd_word_list.append(words[2])\n",
        "        counter = counter+1"
      ],
      "execution_count": null,
      "outputs": []
    },
    {
      "cell_type": "code",
      "metadata": {
        "colab": {
          "base_uri": "https://localhost:8080/"
        },
        "id": "HQUhzSfhcq5R",
        "outputId": "04feb0ba-ea55-491b-f65c-82b3e5103e71"
      },
      "source": [
        "len(hd_phonemes)"
      ],
      "execution_count": null,
      "outputs": [
        {
          "output_type": "execute_result",
          "data": {
            "text/plain": [
              "18"
            ]
          },
          "metadata": {
            "tags": []
          },
          "execution_count": 126
        }
      ]
    },
    {
      "cell_type": "code",
      "metadata": {
        "id": "VZtQSAl7dHhv"
      },
      "source": [
        "hd_phonemes[0].pop(0)\n",
        "for i in hd_phonemes:\n",
        "    i.pop(0)"
      ],
      "execution_count": null,
      "outputs": []
    },
    {
      "cell_type": "markdown",
      "metadata": {
        "id": "lsjau8gEctb_"
      },
      "source": [
        "Mandarin"
      ]
    },
    {
      "cell_type": "code",
      "metadata": {
        "id": "3AxFFRENcuBq"
      },
      "source": [
        "#mandarin\n",
        "md_phonemes = []\n",
        "md_word_total = []\n",
        "md_word_list = []\n",
        "counter = 0\n",
        "new_person = False\n",
        "new_word = False\n",
        "word_counter = 0\n",
        "with open(\"mandarin_align.mlf\", \"r\") as a_file:\n",
        "    for line in a_file:\n",
        "        stripped_line = line.strip()\n",
        "        words = stripped_line.split( )\n",
        "        if (counter>0 and words[0].find(\".rec\")==-1):\n",
        "            if (words[0]==\".\"):\n",
        "                if word_counter == 69: \n",
        "                    md_word_total.append(md_word_list)\n",
        "                word_counter = 0\n",
        "                new_person = True\n",
        "                md_phonemes.append(md_word_total)\n",
        "                md_word_total = []\n",
        "            else:\n",
        "                if len(words)==5:\n",
        "                    word_counter = word_counter+1\n",
        "                    md_word_total.append(md_word_list)\n",
        "                    md_word_list = []\n",
        "                    new_word = True\n",
        "                    md_word_list.append(words[2])\n",
        "                else:\n",
        "                    new_word = False\n",
        "\n",
        "                if new_word == False:\n",
        "                    md_word_list.append(words[2])\n",
        "        counter = counter+1"
      ],
      "execution_count": null,
      "outputs": []
    },
    {
      "cell_type": "code",
      "metadata": {
        "colab": {
          "base_uri": "https://localhost:8080/"
        },
        "id": "F7TG-h4vcxOo",
        "outputId": "76acd7dd-462d-4658-ec0e-76b6c36c2157"
      },
      "source": [
        "len(md_phonemes)"
      ],
      "execution_count": null,
      "outputs": [
        {
          "output_type": "execute_result",
          "data": {
            "text/plain": [
              "65"
            ]
          },
          "metadata": {
            "tags": []
          },
          "execution_count": 129
        }
      ]
    },
    {
      "cell_type": "code",
      "metadata": {
        "id": "OhTfLmeVdJmR"
      },
      "source": [
        "md_phonemes[0].pop(0)\n",
        "for i in md_phonemes:\n",
        "    i.pop(0)"
      ],
      "execution_count": null,
      "outputs": []
    },
    {
      "cell_type": "markdown",
      "metadata": {
        "id": "RIPAbX00c2ht"
      },
      "source": [
        "Turkish"
      ]
    },
    {
      "cell_type": "code",
      "metadata": {
        "id": "M-wkrPnZczA0"
      },
      "source": [
        "#turkey\n",
        "tk_phonemes = []\n",
        "tk_word_total = []\n",
        "tk_word_list = []\n",
        "counter = 0\n",
        "new_person = False\n",
        "new_word = False\n",
        "word_counter = 0\n",
        "with open(\"turkish_align.mlf\", \"r\") as a_file:\n",
        "    for line in a_file:\n",
        "        stripped_line = line.strip()\n",
        "        words = stripped_line.split( )\n",
        "        if (counter>0 and words[0].find(\".rec\")==-1):\n",
        "            if (words[0]==\".\"):\n",
        "                if word_counter == 69: \n",
        "                    tk_word_total.append(tk_word_list)\n",
        "                word_counter = 0\n",
        "                new_person = True\n",
        "                tk_phonemes.append(tk_word_total)\n",
        "                tk_word_total = []\n",
        "            else:\n",
        "                if len(words)==5:\n",
        "                    word_counter = word_counter+1\n",
        "                    tk_word_total.append(tk_word_list)\n",
        "                    tk_word_list = []\n",
        "                    new_word = True\n",
        "                    tk_word_list.append(words[2])\n",
        "                else:\n",
        "                    new_word = False\n",
        "\n",
        "                if new_word == False:\n",
        "                    tk_word_list.append(words[2])\n",
        "        counter = counter+1"
      ],
      "execution_count": null,
      "outputs": []
    },
    {
      "cell_type": "code",
      "metadata": {
        "colab": {
          "base_uri": "https://localhost:8080/"
        },
        "id": "NHymfRMNc6nH",
        "outputId": "e966ceb2-25b6-46b7-9f64-9a1790c1f0f5"
      },
      "source": [
        "print(tk_phonemes"
      ],
      "execution_count": null,
      "outputs": [
        {
          "output_type": "stream",
          "text": [
            "[[[], ['P', 'L', 'IY1', 'Z'], ['K', 'AO1', 'L'], ['S', 'T', 'EH1', 'L', 'AH0'], ['AE1', 'S', 'K'], ['HH', 'ER0'], ['T', 'UW1'], ['B', 'R', 'IH1', 'NG'], ['DH', 'IY1', 'Z'], ['TH', 'IH1', 'NG', 'Z'], ['W', 'IH1', 'TH'], ['HH', 'ER0'], ['F', 'R', 'AH1', 'M'], ['DH', 'AH0'], ['S', 'T', 'AO1', 'R'], ['S', 'IH1', 'K', 'S'], ['S', 'P', 'UW1', 'N', 'Z'], ['AH1', 'V'], ['F', 'R', 'EH1', 'SH'], ['S', 'N', 'OW1'], ['P', 'IY1', 'Z'], ['F', 'AY1', 'V'], ['TH', 'IH1', 'K'], ['S', 'L', 'AE1', 'B', 'Z'], ['AH1', 'V'], ['B', 'L', 'UW1'], ['CH', 'IY1', 'Z'], ['AE1', 'N', 'D'], ['M', 'EY1', 'B', 'IY0'], ['AH0'], ['S', 'N', 'AE1', 'K'], ['F', 'AO1', 'R'], ['HH', 'ER0'], ['B', 'R', 'AH1', 'DH', 'ER0'], ['B', 'AA1', 'B'], ['W', 'IY1'], ['AO1', 'L', 'S', 'OW0'], ['N', 'IY1', 'D'], ['AH0'], ['S', 'M', 'AO1', 'L'], ['P', 'L', 'AE1', 'S', 'T', 'IH0', 'K'], ['S', 'N', 'EY1', 'K'], ['AE1', 'N', 'D'], ['EY1'], ['B', 'IH1', 'G'], ['T', 'OY1'], ['F', 'R', 'AA1', 'G'], ['F', 'AO1', 'R'], ['DH', 'IY0'], ['K', 'IH1', 'D', 'Z'], ['SH', 'IY1'], ['K', 'AE1', 'N'], ['S', 'K', 'UW1', 'P'], ['DH', 'IY1', 'Z'], ['TH', 'IH1', 'NG', 'Z'], ['IH2', 'N', 'T', 'UW1'], ['TH', 'R', 'IY1'], ['R', 'EH1', 'D'], ['B', 'AE1', 'G', 'Z'], ['AE1', 'N', 'D'], ['W', 'IY1'], ['W', 'IH1', 'L'], ['G', 'OW1'], ['M', 'IY1', 'T'], ['HH', 'ER1'], ['W', 'EH1', 'N', 'Z', 'D', 'EY2'], ['AE1', 'T'], ['DH', 'AH0'], ['T', 'R', 'EY1', 'N'], ['S', 'T', 'EY1', 'SH', 'AH0', 'N']], [['S', 'T', 'EY1', 'SH', 'AH0', 'N'], ['P', 'L', 'IY1', 'Z'], ['K', 'AO1', 'L'], ['S', 'T', 'EH1', 'L', 'AH0'], ['AE1', 'S', 'K'], ['HH', 'ER0'], ['T', 'AH0'], ['B', 'R', 'IH1', 'NG'], ['DH', 'IY1', 'Z'], ['TH', 'IH1', 'NG', 'Z'], ['W', 'AH0', 'DH'], ['HH', 'ER0'], ['F', 'ER0', 'M'], ['DH', 'AH0'], ['S', 'T', 'AO1', 'R'], ['S', 'IH1', 'K', 'S'], ['S', 'P', 'UW1', 'N', 'Z'], ['AH0', 'V'], ['F', 'R', 'EH1', 'SH'], ['S', 'N', 'OW1'], ['P', 'IY1', 'Z'], ['F', 'AY1', 'V'], ['TH', 'IH1', 'K'], ['S', 'L', 'AE1', 'B', 'Z'], ['AH0', 'V'], ['B', 'L', 'UW1'], ['CH', 'IY1', 'Z'], ['AE1', 'N', 'D'], ['M', 'EY1', 'B', 'IY0'], ['AH0'], ['S', 'N', 'AE1', 'K'], ['F', 'AO1', 'R'], ['HH', 'ER0'], ['B', 'R', 'AH1', 'DH', 'ER0'], ['B', 'AA1', 'B'], ['W', 'IY1'], ['AO1', 'L', 'S', 'OW0'], ['N', 'IY1', 'D'], ['AH0'], ['S', 'M', 'AO1', 'L'], ['P', 'L', 'AE1', 'S', 'T', 'IH0', 'K'], ['S', 'N', 'EY1', 'K'], ['AE1', 'N', 'D'], ['AH0'], ['B', 'IH1', 'G'], ['T', 'OY1'], ['F', 'R', 'AA1', 'G'], ['F', 'AO1', 'R'], ['DH', 'AH0'], ['K', 'IH1', 'D', 'Z'], ['SH', 'IY1'], ['K', 'AH0', 'N'], ['S', 'K', 'UW1', 'P'], ['DH', 'IY1', 'Z'], ['TH', 'IH1', 'NG', 'Z'], ['IH2', 'N', 'T', 'AH0'], ['TH', 'R', 'IY1'], ['R', 'EH1', 'D'], ['B', 'AE1', 'G', 'Z'], ['AE1', 'N', 'D'], ['W', 'IY1'], ['W', 'AH0', 'L'], ['G', 'OW1'], ['M', 'IY1', 'T'], ['HH', 'ER0'], ['W', 'EH1', 'N', 'Z', 'D', 'EY2'], ['AE1', 'T'], ['DH', 'AH0'], ['T', 'R', 'EY1', 'N'], ['S', 'T', 'EY1', 'SH', 'AH0', 'N']], [['S', 'T', 'EY1', 'SH', 'AH0', 'N'], ['P', 'L', 'IY1', 'Z'], ['K', 'AO1', 'L'], ['S', 'T', 'EH1', 'L', 'AH0'], ['AE1', 'S', 'K'], ['HH', 'ER1'], ['T', 'AH0'], ['B', 'R', 'IH1', 'NG'], ['DH', 'IY1', 'Z'], ['TH', 'IH1', 'NG', 'Z'], ['W', 'IH1', 'DH'], ['HH', 'ER1'], ['F', 'R', 'AH1', 'M'], ['DH', 'AH0'], ['S', 'T', 'AO1', 'R'], ['S', 'IH1', 'K', 'S'], ['S', 'P', 'UW1', 'N', 'Z'], ['AH1', 'V'], ['F', 'R', 'EH1', 'SH'], ['S', 'N', 'OW1'], ['P', 'IY1', 'Z'], ['F', 'AY1', 'V'], ['TH', 'IH1', 'K'], ['S', 'L', 'AE1', 'B', 'Z'], ['AH0', 'V'], ['B', 'L', 'UW1'], ['CH', 'IY1', 'Z'], ['AE1', 'N', 'D'], ['M', 'EY1', 'B', 'IY0'], ['AH0'], ['S', 'N', 'AE1', 'K'], ['F', 'ER0'], ['HH', 'ER0'], ['B', 'R', 'AH1', 'DH', 'ER0'], ['B', 'AA1', 'B'], ['W', 'IY1'], ['AO1', 'L', 'S', 'OW0'], ['N', 'IY1', 'D'], ['AH0'], ['S', 'M', 'AO1', 'L'], ['P', 'L', 'AE1', 'S', 'T', 'IH0', 'K'], ['S', 'N', 'EY1', 'K'], ['AH0', 'N', 'D'], ['AH0'], ['B', 'IH1', 'G'], ['T', 'OY1'], ['F', 'R', 'AA1', 'G'], ['F', 'AO1', 'R'], ['DH', 'AH0'], ['K', 'IH1', 'D', 'Z'], ['SH', 'IY1'], ['K', 'AE1', 'N'], ['S', 'K', 'UW1', 'P'], ['DH', 'IY1', 'Z'], ['TH', 'IH1', 'NG', 'Z'], ['IH2', 'N', 'T', 'AH0'], ['TH', 'R', 'IY1'], ['R', 'EH1', 'D'], ['B', 'AE1', 'G', 'Z'], ['AE1', 'N', 'D'], ['W', 'IY1'], ['W', 'AH0', 'L'], ['G', 'OW1'], ['M', 'IY1', 'T'], ['HH', 'ER0'], ['W', 'EH1', 'N', 'Z', 'D', 'EY2'], ['AE1', 'T'], ['DH', 'AH0'], ['T', 'R', 'EY1', 'N'], ['S', 'T', 'EY1', 'SH', 'AH0', 'N']], [['S', 'T', 'EY1', 'SH', 'AH0', 'N'], ['P', 'L', 'IY1', 'Z'], ['K', 'AO1', 'L'], ['S', 'T', 'EH1', 'L', 'AH0'], ['AE1', 'S', 'K'], ['HH', 'ER0'], ['T', 'AH0'], ['B', 'R', 'IH1', 'NG'], ['DH', 'IY1', 'Z'], ['TH', 'IH1', 'NG', 'Z'], ['W', 'AH0', 'DH'], ['HH', 'ER0'], ['F', 'R', 'AH1', 'M'], ['DH', 'AH0'], ['S', 'T', 'AO1', 'R'], ['S', 'IH1', 'K', 'S'], ['S', 'P', 'UW1', 'N', 'Z'], ['AH0', 'V'], ['F', 'R', 'EH1', 'SH'], ['S', 'N', 'OW1'], ['P', 'IY1', 'Z'], ['F', 'AY1', 'V'], ['TH', 'IH1', 'K'], ['S', 'L', 'AE1', 'B', 'Z'], ['AH0', 'V'], ['B', 'L', 'UW1'], ['CH', 'IY1', 'Z'], ['AE1', 'N', 'D'], ['M', 'EY1', 'B', 'IY0'], ['EY1'], ['S', 'N', 'AE1', 'K'], ['F', 'AO1', 'R'], ['HH', 'ER0'], ['B', 'R', 'AH1', 'DH', 'ER0'], ['B', 'AA1', 'B'], ['W', 'IY1'], ['AO1', 'L', 'S', 'OW0'], ['N', 'IY1', 'D'], ['EY1'], ['S', 'M', 'AO1', 'L'], ['P', 'L', 'AE1', 'S', 'T', 'IH0', 'K'], ['S', 'N', 'EY1', 'K'], ['AE1', 'N', 'D'], ['EY1'], ['B', 'IH1', 'G'], ['T', 'OY1'], ['F', 'R', 'AA1', 'G'], ['F', 'AO1', 'R'], ['DH', 'IY0'], ['K', 'IH1', 'D', 'Z'], ['SH', 'IY1'], ['K', 'AH0', 'N'], ['S', 'K', 'UW1', 'P'], ['DH', 'IY1', 'Z'], ['TH', 'IH1', 'NG', 'Z'], ['IH2', 'N', 'T', 'AH0'], ['TH', 'R', 'IY1'], ['R', 'EH1', 'D'], ['B', 'AE1', 'G', 'Z'], ['AH0', 'N', 'D'], ['W', 'IY1'], ['W', 'AH0', 'L'], ['G', 'OW1'], ['M', 'IY1', 'T'], ['HH', 'ER0'], ['W', 'EH1', 'N', 'Z', 'D', 'EY2'], ['AE1', 'T'], ['DH', 'AH0'], ['T', 'R', 'EY1', 'N'], ['S', 'T', 'EY1', 'SH', 'AH0', 'N']], [['S', 'T', 'EY1', 'SH', 'AH0', 'N'], ['P', 'L', 'IY1', 'Z'], ['K', 'AO1', 'L'], ['S', 'T', 'EH1', 'L', 'AH0'], ['AE1', 'S', 'K'], ['HH', 'ER1'], ['T', 'AH0'], ['B', 'R', 'IH1', 'NG'], ['DH', 'IY1', 'Z'], ['TH', 'IH1', 'NG', 'Z'], ['W', 'IH1', 'TH'], ['HH', 'ER0'], ['F', 'R', 'AH1', 'M'], ['DH', 'AH0'], ['S', 'T', 'AO1', 'R'], ['S', 'IH1', 'K', 'S'], ['S', 'P', 'UW1', 'N', 'Z'], ['AH0', 'V'], ['F', 'R', 'EH1', 'SH'], ['S', 'N', 'OW1'], ['P', 'IY1', 'Z'], ['F', 'AY1', 'V'], ['TH', 'IH1', 'K'], ['S', 'L', 'AE1', 'B', 'Z'], ['AH0', 'V'], ['B', 'L', 'UW1'], ['CH', 'IY1', 'Z'], ['AE1', 'N', 'D'], ['M', 'EY1', 'B', 'IY0'], ['EY1'], ['S', 'N', 'AE1', 'K'], ['F', 'R', 'ER0'], ['HH', 'ER1'], ['B', 'R', 'AH1', 'DH', 'ER0'], ['B', 'AA1', 'B'], ['W', 'IY1'], ['AO1', 'L', 'S', 'OW0'], ['N', 'IY1', 'D'], ['AH0'], ['S', 'M', 'AO1', 'L'], ['P', 'L', 'AE1', 'S', 'T', 'IH0', 'K'], ['S', 'N', 'EY1', 'K'], ['AE1', 'N', 'D'], ['AH0'], ['B', 'IH1', 'G'], ['T', 'OY1'], ['F', 'R', 'AA1', 'G'], ['F', 'R', 'ER0'], ['DH', 'IY0'], ['K', 'IH1', 'D', 'Z'], ['SH', 'IY1'], ['K', 'AH0', 'N'], ['S', 'K', 'UW1', 'P'], ['DH', 'IY1', 'Z'], ['TH', 'IH1', 'NG', 'Z'], ['IH2', 'N', 'T', 'UW1'], ['TH', 'R', 'IY1'], ['R', 'EH1', 'D'], ['B', 'AE1', 'G', 'Z'], ['AE1', 'N', 'D'], ['W', 'IY1'], ['W', 'AH0', 'L'], ['G', 'OW1'], ['M', 'IY1', 'T'], ['HH', 'ER1'], ['W', 'EH1', 'N', 'Z', 'D', 'EY2'], ['AE1', 'T'], ['DH', 'AH0'], ['T', 'R', 'EY1', 'N'], ['S', 'T', 'EY1', 'SH', 'AH0', 'N']], [['S', 'T', 'EY1', 'SH', 'AH0', 'N'], ['P', 'L', 'IY1', 'Z'], ['K', 'AO1', 'L'], ['S', 'T', 'EH1', 'L', 'AH0'], ['AE1', 'S', 'K'], ['HH', 'ER1'], ['T', 'AH0'], ['B', 'R', 'IH1', 'NG'], ['DH', 'IY1', 'Z'], ['TH', 'IH1', 'NG', 'Z'], ['W', 'IH1', 'TH'], ['HH', 'ER0'], ['F', 'R', 'AH1', 'M'], ['DH', 'AH0'], ['S', 'T', 'AO1', 'R'], ['S', 'IH1', 'K', 'S'], ['S', 'P', 'UW1', 'N', 'Z'], ['AH0', 'V'], ['F', 'R', 'EH1', 'SH'], ['S', 'N', 'OW1'], ['P', 'IY1', 'Z'], ['F', 'AY1', 'V'], ['TH', 'IH1', 'K'], ['S', 'L', 'AE1', 'B', 'Z'], ['AH0', 'V'], ['B', 'L', 'UW1'], ['CH', 'IY1', 'Z'], ['AH0', 'N', 'D'], ['M', 'EY1', 'B', 'IY0'], ['AH0'], ['S', 'N', 'AE1', 'K'], ['F', 'AO1', 'R'], ['HH', 'ER0'], ['B', 'R', 'AH1', 'DH', 'ER0'], ['B', 'AA1', 'B'], ['W', 'IY1'], ['AO1', 'L', 'S', 'OW0'], ['N', 'IY1', 'D'], ['AH0'], ['S', 'M', 'AO1', 'L'], ['P', 'L', 'AE1', 'S', 'T', 'IH0', 'K'], ['S', 'N', 'EY1', 'K'], ['AE1', 'N', 'D'], ['AH0'], ['B', 'IH1', 'G'], ['T', 'OY1'], ['F', 'R', 'AA1', 'G'], ['F', 'AO1', 'R'], ['DH', 'AH0'], ['K', 'IH1', 'D', 'Z'], ['SH', 'IY1'], ['K', 'AH0', 'N'], ['S', 'K', 'UW1', 'P'], ['DH', 'IY1', 'Z'], ['TH', 'IH1', 'NG', 'Z'], ['IH2', 'N', 'T', 'AH0'], ['TH', 'R', 'IY1'], ['R', 'EH1', 'D'], ['B', 'AE1', 'G', 'Z'], ['AH0', 'N', 'D'], ['W', 'IY1'], ['W', 'AH0', 'L'], ['G', 'OW1'], ['M', 'IY1', 'T'], ['HH', 'ER0'], ['W', 'EH1', 'N', 'Z', 'D', 'IY0'], ['AE1', 'T'], ['DH', 'AH1'], ['T', 'R', 'EY1', 'N'], ['S', 'T', 'EY1', 'SH', 'AH0', 'N']], [['S', 'T', 'EY1', 'SH', 'AH0', 'N'], ['P', 'L', 'IY1', 'Z'], ['K', 'AO1', 'L'], ['S', 'T', 'EH1', 'L', 'AH0'], ['AE1', 'S', 'K'], ['HH', 'ER0'], ['T', 'AH0'], ['B', 'R', 'IH1', 'NG'], ['DH', 'IY1', 'Z'], ['TH', 'IH1', 'NG', 'Z'], ['W', 'IH1', 'TH'], ['HH', 'ER0'], ['F', 'R', 'AH1', 'M'], ['DH', 'AH0'], ['S', 'T', 'AO1', 'R'], ['S', 'IH1', 'K', 'S'], ['S', 'P', 'UW1', 'N', 'Z'], ['AH0', 'V'], ['F', 'R', 'EH1', 'SH'], ['S', 'N', 'OW1'], ['P', 'IY1', 'Z'], ['F', 'AY1', 'V'], ['TH', 'IH1', 'K'], ['S', 'L', 'AE1', 'B', 'Z'], ['AH0', 'V'], ['B', 'L', 'UW1'], ['CH', 'IY1', 'Z'], ['AE1', 'N', 'D'], ['M', 'EY1', 'B', 'IY0'], ['AH0'], ['S', 'N', 'AE1', 'K'], ['F', 'ER0'], ['HH', 'ER0'], ['B', 'R', 'AH1', 'DH', 'ER0'], ['B', 'AA1', 'B'], ['W', 'IY1'], ['AO1', 'L', 'S', 'OW0'], ['N', 'IY1', 'D'], ['AH0'], ['S', 'M', 'AO1', 'L'], ['P', 'L', 'AE1', 'S', 'T', 'IH0', 'K'], ['S', 'N', 'EY1', 'K'], ['AE1', 'N', 'D'], ['AH0'], ['B', 'IH1', 'G'], ['T', 'OY1'], ['F', 'R', 'AA1', 'G'], ['F', 'AO1', 'R'], ['DH', 'IY0'], ['K', 'IH1', 'D', 'Z'], ['SH', 'IY1'], ['K', 'AH0', 'N'], ['S', 'K', 'UW1', 'P'], ['DH', 'IY1', 'Z'], ['TH', 'IH1', 'NG', 'Z'], ['IH2', 'N', 'T', 'AH0'], ['TH', 'R', 'IY1'], ['R', 'EH1', 'D'], ['B', 'AE1', 'G', 'Z'], ['AH0', 'N', 'D'], ['W', 'IY1'], ['W', 'AH0', 'L'], ['G', 'OW1'], ['M', 'IY1', 'T'], ['HH', 'ER0'], ['W', 'EH1', 'N', 'Z', 'D', 'EY2'], ['AE1', 'T'], ['DH', 'AH0'], ['T', 'R', 'EY1', 'N'], ['S', 'T', 'EY1', 'SH', 'AH0', 'N']], [['S', 'T', 'EY1', 'SH', 'AH0', 'N'], ['P', 'L', 'IY1', 'Z'], ['K', 'AO1', 'L'], ['S', 'T', 'EH1', 'L', 'AH0'], ['AE1', 'S', 'K'], ['HH', 'ER0'], ['T', 'AH0'], ['B', 'R', 'IH1', 'NG'], ['DH', 'IY1', 'Z'], ['TH', 'IH1', 'NG', 'Z'], ['W', 'AH0', 'DH'], ['HH', 'ER0'], ['F', 'R', 'AH1', 'M'], ['DH', 'AH1'], ['S', 'T', 'AO1', 'R'], ['S', 'IH1', 'K', 'S'], ['S', 'P', 'UW1', 'N', 'Z'], ['AH1', 'V'], ['F', 'R', 'EH1', 'SH'], ['S', 'N', 'OW1'], ['P', 'IY1', 'Z'], ['F', 'AY1', 'V'], ['TH', 'IH1', 'K'], ['S', 'L', 'AE1', 'B', 'Z'], ['AH1', 'V'], ['B', 'L', 'UW1'], ['CH', 'IY1', 'Z'], ['AE1', 'N', 'D'], ['M', 'EY1', 'B', 'IY0'], ['AH0'], ['S', 'N', 'AE1', 'K'], ['F', 'AO1', 'R'], ['HH', 'ER0'], ['B', 'R', 'AH1', 'DH', 'ER0'], ['B', 'AA1', 'B'], ['W', 'IY1'], ['AO1', 'L', 'S', 'OW0'], ['N', 'IY1', 'D'], ['AH0'], ['S', 'M', 'AO1', 'L'], ['P', 'L', 'AE1', 'S', 'T', 'IH0', 'K'], ['S', 'N', 'EY1', 'K'], ['AE1', 'N', 'D'], ['AH0'], ['B', 'IH1', 'G'], ['T', 'OY1'], ['F', 'R', 'AA1', 'G'], ['F', 'AO1', 'R'], ['DH', 'AH0'], ['K', 'IH1', 'D', 'Z'], ['SH', 'IY1'], ['K', 'AH0', 'N'], ['S', 'K', 'UW1', 'P'], ['DH', 'IY1', 'Z'], ['TH', 'IH1', 'NG', 'Z'], ['IH2', 'N', 'T', 'AH0'], ['TH', 'R', 'IY1'], ['R', 'EH1', 'D'], ['B', 'AE1', 'G', 'Z'], ['AE1', 'N', 'D'], ['W', 'IY1'], ['W', 'AH0', 'L'], ['G', 'OW1'], ['M', 'IY1', 'T'], ['HH', 'ER0'], ['W', 'EH1', 'N', 'Z', 'D', 'EY2'], ['AE1', 'T'], ['DH', 'IY0'], ['T', 'R', 'EY1', 'N'], ['S', 'T', 'EY1', 'SH', 'AH0', 'N']], [['S', 'T', 'EY1', 'SH', 'AH0', 'N'], ['P', 'L', 'IY1', 'Z'], ['K', 'AO1', 'L'], ['S', 'T', 'EH1', 'L', 'AH0'], ['AE1', 'S', 'K'], ['HH', 'ER0'], ['T', 'AH0'], ['B', 'R', 'IH1', 'NG'], ['DH', 'IY1', 'Z'], ['TH', 'IH1', 'NG', 'Z'], ['W', 'AH0', 'DH'], ['HH', 'ER1'], ['F', 'R', 'AH1', 'M'], ['DH', 'AH0'], ['S', 'T', 'AO1', 'R'], ['S', 'IH1', 'K', 'S'], ['S', 'P', 'UW1', 'N', 'Z'], ['AH1', 'V'], ['F', 'R', 'EH1', 'SH'], ['S', 'N', 'OW1'], ['P', 'IY1', 'Z'], ['F', 'AY1', 'V'], ['TH', 'IH1', 'K'], ['S', 'L', 'AE1', 'B', 'Z'], ['AH0', 'V'], ['B', 'L', 'UW1'], ['CH', 'IY1', 'Z'], ['AH0', 'N', 'D'], ['M', 'EY1', 'B', 'IY0'], ['AH0'], ['S', 'N', 'AE1', 'K'], ['F', 'AO1', 'R'], ['HH', 'ER0'], ['B', 'R', 'AH1', 'DH', 'ER0'], ['B', 'AA1', 'B'], ['W', 'IY1'], ['AO1', 'L', 'S', 'OW0'], ['N', 'IY1', 'D'], ['AH0'], ['S', 'M', 'AO1', 'L'], ['P', 'L', 'AE1', 'S', 'T', 'IH0', 'K'], ['S', 'N', 'EY1', 'K'], ['AE1', 'N', 'D'], ['AH0'], ['B', 'IH1', 'G'], ['T', 'OY1'], ['F', 'R', 'AA1', 'G'], ['F', 'AO1', 'R'], ['DH', 'AH0'], ['K', 'IH1', 'D', 'Z'], ['SH', 'IY1'], ['K', 'AE1', 'N'], ['S', 'K', 'UW1', 'P'], ['DH', 'IY1', 'Z'], ['TH', 'IH1', 'NG', 'Z'], ['IH2', 'N', 'T', 'AH0'], ['TH', 'R', 'IY1'], ['R', 'EH1', 'D'], ['B', 'AE1', 'G', 'Z'], ['AE1', 'N', 'D'], ['W', 'IY1'], ['W', 'AH0', 'L'], ['G', 'OW1'], ['M', 'IY1', 'T'], ['HH', 'ER0'], ['W', 'EH1', 'N', 'Z', 'D', 'EY2'], ['AE1', 'T'], ['DH', 'AH0'], ['T', 'R', 'EY1', 'N'], ['S', 'T', 'EY1', 'SH', 'AH0', 'N']], [['S', 'T', 'EY1', 'SH', 'AH0', 'N'], ['P', 'L', 'IY1', 'Z'], ['K', 'AO1', 'L'], ['S', 'T', 'EH1', 'L', 'AH0'], ['AE1', 'S', 'K'], ['HH', 'ER0'], ['T', 'AH0'], ['B', 'R', 'IH1', 'NG'], ['DH', 'IY1', 'Z'], ['TH', 'IH1', 'NG', 'Z'], ['W', 'IH1', 'TH'], ['HH', 'ER0'], ['F', 'R', 'AH1', 'M'], ['DH', 'AH0'], ['S', 'T', 'AO1', 'R'], ['S', 'IH1', 'K', 'S'], ['S', 'P', 'UW1', 'N', 'Z'], ['AH1', 'V'], ['F', 'R', 'EH1', 'SH'], ['S', 'N', 'OW1'], ['P', 'IY1', 'Z'], ['F', 'AY1', 'V'], ['TH', 'IH1', 'K'], ['S', 'L', 'AE1', 'B', 'Z'], ['AH0', 'V'], ['B', 'L', 'UW1'], ['CH', 'IY1', 'Z'], ['AH0', 'N', 'D'], ['M', 'EY1', 'B', 'IY0'], ['AH0'], ['S', 'N', 'AE1', 'K'], ['F', 'AO1', 'R'], ['HH', 'ER1'], ['B', 'R', 'AH1', 'DH', 'ER0'], ['B', 'AA1', 'B'], ['W', 'IY1'], ['AO1', 'L', 'S', 'OW0'], ['N', 'IY1', 'D'], ['AH0'], ['S', 'M', 'AO1', 'L'], ['P', 'L', 'AE1', 'S', 'T', 'IH0', 'K'], ['S', 'N', 'EY1', 'K'], ['AE1', 'N', 'D'], ['AH0'], ['B', 'IH1', 'G'], ['T', 'OY1'], ['F', 'R', 'AA1', 'G'], ['F', 'R', 'ER0'], ['DH', 'AH0'], ['K', 'IH1', 'D', 'Z'], ['SH', 'IY1'], ['K', 'AE1', 'N'], ['S', 'K', 'UW1', 'P'], ['DH', 'IY1', 'Z'], ['TH', 'IH1', 'NG', 'Z'], ['IH2', 'N', 'T', 'AH0'], ['TH', 'R', 'IY1'], ['R', 'EH1', 'D'], ['B', 'AE1', 'G', 'Z'], ['AE1', 'N', 'D'], ['W', 'IY1'], ['W', 'AH0', 'L'], ['G', 'OW1'], ['M', 'IY1', 'T'], ['HH', 'ER0'], ['W', 'EH1', 'N', 'Z', 'D', 'EY2'], ['AE1', 'T'], ['DH', 'AH0'], ['T', 'R', 'EY1', 'N'], ['S', 'T', 'EY1', 'SH', 'AH0', 'N']], [['S', 'T', 'EY1', 'SH', 'AH0', 'N'], ['P', 'L', 'IY1', 'Z'], ['K', 'AO1', 'L'], ['S', 'T', 'EH1', 'L', 'AH0'], ['AE1', 'S', 'K'], ['HH', 'ER0'], ['T', 'AH0'], ['B', 'R', 'IH1', 'NG'], ['DH', 'IY1', 'Z'], ['TH', 'IH1', 'NG', 'Z'], ['W', 'IH1', 'TH'], ['HH', 'ER0'], ['F', 'R', 'AH1', 'M'], ['DH', 'AH0'], ['S', 'T', 'AO1', 'R'], ['S', 'IH1', 'K', 'S'], ['S', 'P', 'UW1', 'N', 'Z'], ['AH1', 'V'], ['F', 'R', 'EH1', 'SH'], ['S', 'N', 'OW1'], ['P', 'IY1', 'Z'], ['F', 'AY1', 'V'], ['TH', 'IH1', 'K'], ['S', 'L', 'AE1', 'B', 'Z'], ['AH0', 'V'], ['B', 'L', 'UW1'], ['CH', 'IY1', 'Z'], ['AE1', 'N', 'D'], ['M', 'EY1', 'B', 'IY0'], ['EY1'], ['S', 'N', 'AE1', 'K'], ['F', 'AO1', 'R'], ['HH', 'ER0'], ['B', 'R', 'AH1', 'DH', 'ER0'], ['B', 'AA1', 'B'], ['W', 'IY1'], ['AO1', 'L', 'S', 'OW0'], ['N', 'IY1', 'D'], ['AH0'], ['S', 'M', 'AO1', 'L'], ['P', 'L', 'AE1', 'S', 'T', 'IH0', 'K'], ['S', 'N', 'EY1', 'K'], ['AE1', 'N', 'D'], ['EY1'], ['B', 'IH1', 'G'], ['T', 'OY1'], ['F', 'R', 'AA1', 'G'], ['F', 'AO1', 'R'], ['DH', 'AH1'], ['K', 'IH1', 'D', 'Z'], ['SH', 'IY1'], ['K', 'AE1', 'N'], ['S', 'K', 'UW1', 'P'], ['DH', 'IY1', 'Z'], ['TH', 'IH1', 'NG', 'Z'], ['IH2', 'N', 'T', 'UW1'], ['TH', 'R', 'IY1'], ['R', 'EH1', 'D'], ['B', 'AE1', 'G', 'Z'], ['AE1', 'N', 'D'], ['W', 'IY1'], ['W', 'IH1', 'L'], ['G', 'OW1'], ['M', 'IY1', 'T'], ['HH', 'ER0'], ['W', 'EH1', 'N', 'Z', 'D', 'IY0'], ['AE1', 'T'], ['DH', 'AH0'], ['T', 'R', 'EY1', 'N'], ['S', 'T', 'EY1', 'SH', 'AH0', 'N']], [['S', 'T', 'EY1', 'SH', 'AH0', 'N'], ['P', 'L', 'IY1', 'Z'], ['K', 'AO1', 'L'], ['S', 'T', 'EH1', 'L', 'AH0'], ['AE1', 'S', 'K'], ['HH', 'ER1'], ['T', 'AH0'], ['B', 'R', 'IH1', 'NG'], ['DH', 'IY1', 'Z'], ['TH', 'IH1', 'NG', 'Z'], ['W', 'AH0', 'DH'], ['HH', 'ER0'], ['F', 'R', 'AH1', 'M'], ['DH', 'AH0'], ['S', 'T', 'AO1', 'R'], ['S', 'IH1', 'K', 'S'], ['S', 'P', 'UW1', 'N', 'Z'], ['AH1', 'V'], ['F', 'R', 'EH1', 'SH'], ['S', 'N', 'OW1'], ['P', 'IY1', 'Z'], ['F', 'AY1', 'V'], ['TH', 'IH1', 'K'], ['S', 'L', 'AE1', 'B', 'Z'], ['AH1', 'V'], ['B', 'L', 'UW1'], ['CH', 'IY1', 'Z'], ['AE1', 'N', 'D'], ['M', 'EY1', 'B', 'IY0'], ['AH0'], ['S', 'N', 'AE1', 'K'], ['F', 'AO1', 'R'], ['HH', 'ER0'], ['B', 'R', 'AH1', 'DH', 'ER0'], ['B', 'AA1', 'B'], ['W', 'IY1'], ['AO1', 'L', 'S', 'OW0'], ['N', 'IY1', 'D'], ['AH0'], ['S', 'M', 'AO1', 'L'], ['P', 'L', 'AE1', 'S', 'T', 'IH0', 'K'], ['S', 'N', 'EY1', 'K'], ['AE1', 'N', 'D'], ['AH0'], ['B', 'IH1', 'G'], ['T', 'OY1'], ['F', 'R', 'AA1', 'G'], ['F', 'AO1', 'R'], ['DH', 'AH0'], ['K', 'IH1', 'D', 'Z'], ['SH', 'IY1'], ['K', 'AE1', 'N'], ['S', 'K', 'UW1', 'P'], ['DH', 'IY1', 'Z'], ['TH', 'IH1', 'NG', 'Z'], ['IH2', 'N', 'T', 'UW1'], ['TH', 'R', 'IY1'], ['R', 'EH1', 'D'], ['B', 'AE1', 'G', 'Z'], ['AE1', 'N', 'D'], ['W', 'IY1'], ['W', 'AH0', 'L'], ['G', 'OW1'], ['M', 'IY1', 'T'], ['HH', 'ER0'], ['W', 'EH1', 'N', 'Z', 'D', 'EY2'], ['AE1', 'T'], ['DH', 'AH0'], ['T', 'R', 'EY1', 'N'], ['S', 'T', 'EY1', 'SH', 'AH0', 'N']], [['S', 'T', 'EY1', 'SH', 'AH0', 'N'], ['P', 'L', 'IY1', 'Z'], ['K', 'AO1', 'L'], ['S', 'T', 'EH1', 'L', 'AH0'], ['AE1', 'S', 'K'], ['HH', 'ER0'], ['T', 'AH0'], ['B', 'R', 'IH1', 'NG'], ['DH', 'IY1', 'Z'], ['TH', 'IH1', 'NG', 'Z'], ['W', 'IH1', 'TH'], ['HH', 'ER1'], ['F', 'R', 'AH1', 'M'], ['DH', 'AH0'], ['S', 'T', 'AO1', 'R'], ['S', 'IH1', 'K', 'S'], ['S', 'P', 'UW1', 'N', 'Z'], ['AH0', 'V'], ['F', 'R', 'EH1', 'SH'], ['S', 'N', 'OW1'], ['P', 'IY1', 'Z'], ['F', 'AY1', 'V'], ['TH', 'IH1', 'K'], ['S', 'L', 'AE1', 'B', 'Z'], ['AH0', 'V'], ['B', 'L', 'UW1'], ['CH', 'IY1', 'Z'], ['AE1', 'N', 'D'], ['M', 'EY1', 'B', 'IY0'], ['AH0'], ['S', 'N', 'AE1', 'K'], ['F', 'AO1', 'R'], ['HH', 'ER0'], ['B', 'R', 'AH1', 'DH', 'ER0'], ['B', 'AA1', 'B'], ['W', 'IY1'], ['AO1', 'L', 'S', 'OW0'], ['N', 'IY1', 'D'], ['AH0'], ['S', 'M', 'AO1', 'L'], ['P', 'L', 'AE1', 'S', 'T', 'IH0', 'K'], ['S', 'N', 'EY1', 'K'], ['AE1', 'N', 'D'], ['AH0'], ['B', 'IH1', 'G'], ['T', 'OY1'], ['F', 'R', 'AA1', 'G'], ['F', 'AO1', 'R'], ['DH', 'IY0'], ['K', 'IH1', 'D', 'Z'], ['SH', 'IY1'], ['K', 'AE1', 'N'], ['S', 'K', 'UW1', 'P'], ['DH', 'IY1', 'Z'], ['TH', 'IH1', 'NG', 'Z'], ['IH2', 'N', 'T', 'AH0'], ['TH', 'R', 'IY1'], ['R', 'EH1', 'D'], ['B', 'AE1', 'G', 'Z'], ['AE1', 'N', 'D'], ['W', 'IY1'], ['W', 'AH0', 'L'], ['G', 'OW1'], ['M', 'IY1', 'T'], ['HH', 'ER0'], ['W', 'EH1', 'N', 'Z', 'D', 'IY0'], ['AE1', 'T'], ['DH', 'AH0'], ['T', 'R', 'EY1', 'N'], ['S', 'T', 'EY1', 'SH', 'AH0', 'N']], [['S', 'T', 'EY1', 'SH', 'AH0', 'N'], ['P', 'L', 'IY1', 'Z'], ['K', 'AO1', 'L'], ['S', 'T', 'EH1', 'L', 'AH0'], ['AE1', 'S', 'K'], ['HH', 'ER0'], ['T', 'UW1'], ['B', 'R', 'IH1', 'NG'], ['DH', 'IY1', 'Z'], ['TH', 'IH1', 'NG', 'Z'], ['W', 'AH0', 'DH'], ['HH', 'ER1'], ['F', 'ER0', 'M'], ['DH', 'AH0'], ['S', 'T', 'AO1', 'R'], ['S', 'IH1', 'K', 'S'], ['S', 'P', 'UW1', 'N', 'Z'], ['AH1', 'V'], ['F', 'R', 'EH1', 'SH'], ['S', 'N', 'OW1'], ['P', 'IY1', 'Z'], ['F', 'AY1', 'V'], ['TH', 'IH1', 'K'], ['S', 'L', 'AE1', 'B', 'Z'], ['AH0', 'V'], ['B', 'L', 'UW1'], ['CH', 'IY1', 'Z'], ['AE1', 'N', 'D'], ['M', 'EY1', 'B', 'IY0'], ['AH0'], ['S', 'N', 'AE1', 'K'], ['F', 'R', 'ER0'], ['HH', 'ER0'], ['B', 'R', 'AH1', 'DH', 'ER0'], ['B', 'AA1', 'B'], ['W', 'IY1'], ['AO1', 'L', 'S', 'OW0'], ['N', 'IY1', 'D'], ['AH0'], ['S', 'M', 'AO1', 'L'], ['P', 'L', 'AE1', 'S', 'T', 'IH0', 'K'], ['S', 'N', 'EY1', 'K'], ['AE1', 'N', 'D'], ['AH0'], ['B', 'IH1', 'G'], ['T', 'OY1'], ['F', 'R', 'AA1', 'G'], ['F', 'R', 'ER0'], ['DH', 'AH0'], ['K', 'IH1', 'D', 'Z'], ['SH', 'IY1'], ['K', 'AH0', 'N'], ['S', 'K', 'UW1', 'P'], ['DH', 'IY1', 'Z'], ['TH', 'IH1', 'NG', 'Z'], ['IH2', 'N', 'T', 'AH0'], ['TH', 'R', 'IY1'], ['R', 'EH1', 'D'], ['B', 'AE1', 'G', 'Z'], ['AE1', 'N', 'D'], ['W', 'IY1'], ['W', 'AH0', 'L'], ['G', 'OW1'], ['M', 'IY1', 'T'], ['HH', 'ER0'], ['W', 'EH1', 'N', 'Z', 'D', 'EY2'], ['AE1', 'T'], ['DH', 'AH0'], ['T', 'R', 'EY1', 'N'], ['S', 'T', 'EY1', 'SH', 'AH0', 'N']], [['S', 'T', 'EY1', 'SH', 'AH0', 'N'], ['P', 'L', 'IY1', 'Z'], ['K', 'AO1', 'L'], ['S', 'T', 'EH1', 'L', 'AH0'], ['AE1', 'S', 'K'], ['HH', 'ER1'], ['T', 'AH0'], ['B', 'R', 'IH1', 'NG'], ['DH', 'IY1', 'Z'], ['TH', 'IH1', 'NG', 'Z'], ['W', 'AH0', 'DH'], ['HH', 'ER1'], ['F', 'ER0', 'M'], ['DH', 'AH0'], ['S', 'T', 'AO1', 'R'], ['S', 'IH1', 'K', 'S'], ['S', 'P', 'UW1', 'N', 'Z'], ['AH1', 'V'], ['F', 'R', 'EH1', 'SH'], ['S', 'N', 'OW1'], ['P', 'IY1', 'Z'], ['F', 'AY1', 'V'], ['TH', 'IH1', 'K'], ['S', 'L', 'AE1', 'B', 'Z'], ['AH0', 'V'], ['B', 'L', 'UW1'], ['CH', 'IY1', 'Z'], ['AE1', 'N', 'D'], ['M', 'EY1', 'B', 'IY0'], ['AH0'], ['S', 'N', 'AE1', 'K'], ['F', 'R', 'ER0'], ['HH', 'ER1'], ['B', 'R', 'AH1', 'DH', 'ER0'], ['B', 'AA1', 'B'], ['W', 'IY1'], ['AO1', 'L', 'S', 'OW0'], ['N', 'IY1', 'D'], ['AH0'], ['S', 'M', 'AO1', 'L'], ['P', 'L', 'AE1', 'S', 'T', 'IH0', 'K'], ['S', 'N', 'EY1', 'K'], ['AE1', 'N', 'D'], ['EY1'], ['B', 'IH1', 'G'], ['T', 'OY1'], ['F', 'R', 'AA1', 'G'], ['F', 'AO1', 'R'], ['DH', 'IY0'], ['K', 'IH1', 'D', 'Z'], ['SH', 'IY1'], ['K', 'AE1', 'N'], ['S', 'K', 'UW1', 'P'], ['DH', 'IY1', 'Z'], ['TH', 'IH1', 'NG', 'Z'], ['IH1', 'N', 'T', 'UW0'], ['TH', 'R', 'IY1'], ['R', 'EH1', 'D'], ['B', 'AE1', 'G', 'Z'], ['AH0', 'N', 'D'], ['W', 'IY1'], ['W', 'AH0', 'L'], ['G', 'OW1'], ['M', 'IY1', 'T'], ['HH', 'ER1'], ['W', 'EH1', 'N', 'Z', 'D', 'EY2'], ['AE1', 'T'], ['DH', 'AH0'], ['T', 'R', 'EY1', 'N'], ['S', 'T', 'EY1', 'SH', 'AH0', 'N']], [['S', 'T', 'EY1', 'SH', 'AH0', 'N'], ['P', 'L', 'IY1', 'Z'], ['K', 'AO1', 'L'], ['S', 'T', 'EH1', 'L', 'AH0'], ['AE1', 'S', 'K'], ['HH', 'ER0'], ['T', 'AH0'], ['B', 'R', 'IH1', 'NG'], ['DH', 'IY1', 'Z'], ['TH', 'IH1', 'NG', 'Z'], ['W', 'IH1', 'TH'], ['HH', 'ER0'], ['F', 'R', 'AH1', 'M'], ['DH', 'AH0'], ['S', 'T', 'AO1', 'R'], ['S', 'IH1', 'K', 'S'], ['S', 'P', 'UW1', 'N', 'Z'], ['AH1', 'V'], ['F', 'R', 'EH1', 'SH'], ['S', 'N', 'OW1'], ['P', 'IY1', 'Z'], ['F', 'AY1', 'V'], ['TH', 'IH1', 'K'], ['S', 'L', 'AE1', 'B', 'Z'], ['AH1', 'V'], ['B', 'L', 'UW1'], ['CH', 'IY1', 'Z'], ['AE1', 'N', 'D'], ['M', 'EY1', 'B', 'IY0'], ['AH0'], ['S', 'N', 'AE1', 'K'], ['F', 'AO1', 'R'], ['HH', 'ER0'], ['B', 'R', 'AH1', 'DH', 'ER0'], ['B', 'AA1', 'B'], ['W', 'IY1'], ['AO1', 'L', 'S', 'OW0'], ['N', 'IY1', 'D'], ['AH0'], ['S', 'M', 'AO1', 'L'], ['P', 'L', 'AE1', 'S', 'T', 'IH0', 'K'], ['S', 'N', 'EY1', 'K'], ['AE1', 'N', 'D'], ['AH0'], ['B', 'IH1', 'G'], ['T', 'OY1'], ['F', 'R', 'AA1', 'G'], ['F', 'AO1', 'R'], ['DH', 'AH0'], ['K', 'IH1', 'D', 'Z'], ['SH', 'IY1'], ['K', 'AE1', 'N'], ['S', 'K', 'UW1', 'P'], ['DH', 'IY1', 'Z'], ['TH', 'IH1', 'NG', 'Z'], ['IH2', 'N', 'T', 'AH0'], ['TH', 'R', 'IY1'], ['R', 'EH1', 'D'], ['B', 'AE1', 'G', 'Z'], ['AE1', 'N', 'D'], ['W', 'IY1'], ['W', 'IH1', 'L'], ['G', 'OW1'], ['M', 'IY1', 'T'], ['HH', 'ER0'], ['W', 'EH1', 'N', 'Z', 'D', 'EY2'], ['AE1', 'T'], ['DH', 'AH0'], ['T', 'R', 'EY1', 'N'], ['S', 'T', 'EY1', 'SH', 'AH0', 'N']], [['S', 'T', 'EY1', 'SH', 'AH0', 'N'], ['P', 'L', 'IY1', 'Z'], ['K', 'AO1', 'L'], ['S', 'T', 'EH1', 'L', 'AH0'], ['AE1', 'S', 'K'], ['HH', 'ER0'], ['T', 'IH0'], ['B', 'R', 'IH1', 'NG'], ['DH', 'IY1', 'Z'], ['TH', 'IH1', 'NG', 'Z'], ['W', 'IH1', 'TH'], ['HH', 'ER1'], ['F', 'R', 'AH1', 'M'], ['DH', 'AH0'], ['S', 'T', 'AO1', 'R'], ['S', 'IH1', 'K', 'S'], ['S', 'P', 'UW1', 'N', 'Z'], ['AH0', 'V'], ['F', 'R', 'EH1', 'SH'], ['S', 'N', 'OW1'], ['P', 'IY1', 'Z'], ['F', 'AY1', 'V'], ['TH', 'IH1', 'K'], ['S', 'L', 'AE1', 'B', 'Z'], ['AH0', 'V'], ['B', 'L', 'UW1'], ['CH', 'IY1', 'Z'], ['AH0', 'N', 'D'], ['M', 'EY1', 'B', 'IY0'], ['EY1'], ['S', 'N', 'AE1', 'K'], ['F', 'AO1', 'R'], ['HH', 'ER0'], ['B', 'R', 'AH1', 'DH', 'ER0'], ['B', 'AA1', 'B'], ['W', 'IY1'], ['AO1', 'L', 'S', 'OW0'], ['N', 'IY1', 'D'], ['AH0'], ['S', 'M', 'AO1', 'L'], ['P', 'L', 'AE1', 'S', 'T', 'IH0', 'K'], ['S', 'N', 'EY1', 'K'], ['AE1', 'N', 'D'], ['AH0'], ['B', 'IH1', 'G'], ['T', 'OY1'], ['F', 'R', 'AA1', 'G'], ['F', 'AO1', 'R'], ['DH', 'IY0'], ['K', 'IH1', 'D', 'Z'], ['SH', 'IY1'], ['K', 'AE1', 'N'], ['S', 'K', 'UW1', 'P'], ['DH', 'IY1', 'Z'], ['TH', 'IH1', 'NG', 'Z'], ['IH2', 'N', 'T', 'UW1'], ['TH', 'R', 'IY1'], ['R', 'EH1', 'D'], ['B', 'AE1', 'G', 'Z'], ['AE1', 'N', 'D'], ['W', 'IY1'], ['W', 'AH0', 'L'], ['G', 'OW1'], ['M', 'IY1', 'T'], ['HH', 'ER0'], ['W', 'EH1', 'N', 'Z', 'D', 'EY2'], ['AE1', 'T'], ['DH', 'AH0'], ['T', 'R', 'EY1', 'N'], ['S', 'T', 'EY1', 'SH', 'AH0', 'N']], [['S', 'T', 'EY1', 'SH', 'AH0', 'N'], ['P', 'L', 'IY1', 'Z'], ['K', 'AO1', 'L'], ['S', 'T', 'EH1', 'L', 'AH0'], ['AE1', 'S', 'K'], ['HH', 'ER1'], ['T', 'UW1'], ['B', 'R', 'IH1', 'NG'], ['DH', 'IY1', 'Z'], ['TH', 'IH1', 'NG', 'Z'], ['W', 'IH1', 'TH'], ['HH', 'ER1'], ['F', 'R', 'AH1', 'M'], ['DH', 'AH0'], ['S', 'T', 'AO1', 'R'], ['S', 'IH1', 'K', 'S'], ['S', 'P', 'UW1', 'N', 'Z'], ['AH1', 'V'], ['F', 'R', 'EH1', 'SH'], ['S', 'N', 'OW1'], ['P', 'IY1', 'Z'], ['F', 'AY1', 'V'], ['TH', 'IH1', 'K'], ['S', 'L', 'AE1', 'B', 'Z'], ['AH1', 'V'], ['B', 'L', 'UW1'], ['CH', 'IY1', 'Z'], ['AE1', 'N', 'D'], ['M', 'EY1', 'B', 'IY0'], ['AH0'], ['S', 'N', 'AE1', 'K'], ['F', 'AO1', 'R'], ['HH', 'ER0'], ['B', 'R', 'AH1', 'DH', 'ER0'], ['B', 'AA1', 'B'], ['W', 'IY1'], ['AO1', 'L', 'S', 'OW0'], ['N', 'IY1', 'D'], ['AH0'], ['S', 'M', 'AO1', 'L'], ['P', 'L', 'AE1', 'S', 'T', 'IH0', 'K'], ['S', 'N', 'EY1', 'K'], ['AE1', 'N', 'D'], ['AH0'], ['B', 'IH1', 'G'], ['T', 'OY1'], ['F', 'R', 'AA1', 'G'], ['F', 'AO1', 'R'], ['DH', 'IY0'], ['K', 'IH1', 'D', 'Z'], ['SH', 'IY1'], ['K', 'AE1', 'N'], ['S', 'K', 'UW1', 'P'], ['DH', 'IY1', 'Z'], ['TH', 'IH1', 'NG', 'Z'], ['IH2', 'N', 'T', 'AH0'], ['TH', 'R', 'IY1'], ['R', 'EH1', 'D'], ['B', 'AE1', 'G', 'Z'], ['AE1', 'N', 'D'], ['W', 'IY1'], ['W', 'IH1', 'L'], ['G', 'OW1'], ['M', 'IY1', 'T'], ['HH', 'ER0'], ['W', 'EH1', 'N', 'Z', 'D', 'EY2'], ['AE1', 'T'], ['DH', 'AH0'], ['T', 'R', 'EY1', 'N'], ['S', 'T', 'EY1', 'SH', 'AH0', 'N']], [['S', 'T', 'EY1', 'SH', 'AH0', 'N'], ['P', 'L', 'IY1', 'Z'], ['K', 'AO1', 'L'], ['S', 'T', 'EH1', 'L', 'AH0'], ['AE1', 'S', 'K'], ['HH', 'ER0'], ['T', 'UW1'], ['B', 'R', 'IH1', 'NG'], ['DH', 'IY1', 'Z'], ['TH', 'IH1', 'NG', 'Z'], ['W', 'IH1', 'TH'], ['HH', 'ER0'], ['F', 'R', 'AH1', 'M'], ['DH', 'AH0'], ['S', 'T', 'AO1', 'R'], ['S', 'IH1', 'K', 'S'], ['S', 'P', 'UW1', 'N', 'Z'], ['AH1', 'V'], ['F', 'R', 'EH1', 'SH'], ['S', 'N', 'OW1'], ['P', 'IY1', 'Z'], ['F', 'AY1', 'V'], ['TH', 'IH1', 'K'], ['S', 'L', 'AE1', 'B', 'Z'], ['AH1', 'V'], ['B', 'L', 'UW1'], ['CH', 'IY1', 'Z'], ['AE1', 'N', 'D'], ['M', 'EY1', 'B', 'IY0'], ['AH0'], ['S', 'N', 'AE1', 'K'], ['F', 'AO1', 'R'], ['HH', 'ER0'], ['B', 'R', 'AH1', 'DH', 'ER0'], ['B', 'AA1', 'B'], ['W', 'IY1'], ['AO1', 'L', 'S', 'OW0'], ['N', 'IY1', 'D'], ['AH0'], ['S', 'M', 'AO1', 'L'], ['P', 'L', 'AE1', 'S', 'T', 'IH0', 'K'], ['S', 'N', 'EY1', 'K'], ['AE1', 'N', 'D'], ['EY1'], ['B', 'IH1', 'G'], ['T', 'OY1'], ['F', 'R', 'AA1', 'G'], ['F', 'AO1', 'R'], ['DH', 'IY0'], ['K', 'IH1', 'D', 'Z'], ['SH', 'IY1'], ['K', 'AE1', 'N'], ['S', 'K', 'UW1', 'P'], ['DH', 'IY1', 'Z'], ['TH', 'IH1', 'NG', 'Z'], ['IH2', 'N', 'T', 'UW1'], ['TH', 'R', 'IY1'], ['R', 'EH1', 'D'], ['B', 'AE1', 'G', 'Z'], ['AE1', 'N', 'D'], ['W', 'IY1'], ['W', 'AH0', 'L'], ['G', 'OW1'], ['M', 'IY1', 'T'], ['HH', 'ER0'], ['W', 'EH1', 'N', 'Z', 'D', 'EY2'], ['AE1', 'T'], ['DH', 'AH0'], ['T', 'R', 'EY1', 'N'], ['S', 'T', 'EY1', 'SH', 'AH0', 'N']], [['S', 'T', 'EY1', 'SH', 'AH0', 'N'], ['P', 'L', 'IY1', 'Z'], ['K', 'AO1', 'L'], ['S', 'T', 'EH1', 'L', 'AH0'], ['AE1', 'S', 'K'], ['HH', 'ER0'], ['T', 'AH0'], ['B', 'R', 'IH1', 'NG'], ['DH', 'IY1', 'Z'], ['TH', 'IH1', 'NG', 'Z'], ['W', 'AH0', 'DH'], ['HH', 'ER1'], ['F', 'ER0', 'M'], ['DH', 'AH0'], ['S', 'T', 'AO1', 'R'], ['S', 'IH1', 'K', 'S'], ['S', 'P', 'UW1', 'N', 'Z'], ['AH1', 'V'], ['F', 'R', 'EH1', 'SH'], ['S', 'N', 'OW1'], ['P', 'IY1', 'Z'], ['F', 'AY1', 'V'], ['TH', 'IH1', 'K'], ['S', 'L', 'AE1', 'B', 'Z'], ['AH0', 'V'], ['B', 'L', 'UW1'], ['CH', 'IY1', 'Z'], ['AE1', 'N', 'D'], ['M', 'EY1', 'B', 'IY0'], ['AH0'], ['S', 'N', 'AE1', 'K'], ['F', 'AO1', 'R'], ['HH', 'ER1'], ['B', 'R', 'AH1', 'DH', 'ER0'], ['B', 'AA1', 'B'], ['W', 'IY1'], ['AO1', 'L', 'S', 'OW0'], ['N', 'IY1', 'D'], ['AH0'], ['S', 'M', 'AO1', 'L'], ['P', 'L', 'AE1', 'S', 'T', 'IH0', 'K'], ['S', 'N', 'EY1', 'K'], ['AE1', 'N', 'D'], ['AH0'], ['B', 'IH1', 'G'], ['T', 'OY1'], ['F', 'R', 'AA1', 'G'], ['F', 'AO1', 'R'], ['DH', 'AH0'], ['K', 'IH1', 'D', 'Z'], ['SH', 'IY1'], ['K', 'AH0', 'N'], ['S', 'K', 'UW1', 'P'], ['DH', 'IY1', 'Z'], ['TH', 'IH1', 'NG', 'Z'], ['IH2', 'N', 'T', 'UW1'], ['TH', 'R', 'IY1'], ['R', 'EH1', 'D'], ['B', 'AE1', 'G', 'Z'], ['AE1', 'N', 'D'], ['W', 'IY1'], ['W', 'AH0', 'L'], ['G', 'OW1'], ['M', 'IY1', 'T'], ['HH', 'ER1'], ['W', 'EH1', 'N', 'Z', 'D', 'EY2'], ['AE1', 'T'], ['DH', 'AH0'], ['T', 'R', 'EY1', 'N'], ['S', 'T', 'EY1', 'SH', 'AH0', 'N']], [['S', 'T', 'EY1', 'SH', 'AH0', 'N'], ['P', 'L', 'IY1', 'Z'], ['K', 'AO1', 'L'], ['S', 'T', 'EH1', 'L', 'AH0'], ['AE1', 'S', 'K'], ['HH', 'ER0'], ['T', 'IH0'], ['B', 'R', 'IH1', 'NG'], ['DH', 'IY1', 'Z'], ['TH', 'IH1', 'NG', 'Z'], ['W', 'AH0', 'DH'], ['HH', 'ER0'], ['F', 'ER0', 'M'], ['DH', 'AH0'], ['S', 'T', 'AO1', 'R'], ['S', 'IH1', 'K', 'S'], ['S', 'P', 'UW1', 'N', 'Z'], ['AH1', 'V'], ['F', 'R', 'EH1', 'SH'], ['S', 'N', 'OW1'], ['P', 'IY1', 'Z'], ['F', 'AY1', 'V'], ['TH', 'IH1', 'K'], ['S', 'L', 'AE1', 'B', 'Z'], ['AH1', 'V'], ['B', 'L', 'UW1'], ['CH', 'IY1', 'Z'], ['AE1', 'N', 'D'], ['M', 'EY1', 'B', 'IY0'], ['AH0'], ['S', 'N', 'AE1', 'K'], ['F', 'ER0'], ['HH', 'ER1'], ['B', 'R', 'AH1', 'DH', 'ER0'], ['B', 'AA1', 'B'], ['W', 'IY1'], ['AO1', 'L', 'S', 'OW0'], ['N', 'IY1', 'D'], ['AH0'], ['S', 'M', 'AO1', 'L'], ['P', 'L', 'AE1', 'S', 'T', 'IH0', 'K'], ['S', 'N', 'EY1', 'K'], ['AE1', 'N', 'D'], ['AH0'], ['B', 'IH1', 'G'], ['T', 'OY1'], ['F', 'R', 'AA1', 'G'], ['F', 'ER0'], ['DH', 'IY0'], ['K', 'IH1', 'D', 'Z'], ['SH', 'IY1'], ['K', 'AE1', 'N'], ['S', 'K', 'UW1', 'P'], ['DH', 'IY1', 'Z'], ['TH', 'IH1', 'NG', 'Z'], ['IH2', 'N', 'T', 'AH0'], ['TH', 'R', 'IY1'], ['R', 'EH1', 'D'], ['B', 'AE1', 'G', 'Z'], ['AE1', 'N', 'D'], ['W', 'IY1'], ['W', 'AH0', 'L'], ['G', 'OW1'], ['M', 'IY1', 'T'], ['HH', 'ER0'], ['W', 'EH1', 'N', 'Z', 'D', 'EY2'], ['AE1', 'T'], ['DH', 'AH0'], ['T', 'R', 'EY1', 'N'], ['S', 'T', 'EY1', 'SH', 'AH0', 'N']], [['S', 'T', 'EY1', 'SH', 'AH0', 'N'], ['P', 'L', 'IY1', 'Z'], ['K', 'AO1', 'L'], ['S', 'T', 'EH1', 'L', 'AH0'], ['AE1', 'S', 'K'], ['HH', 'ER1'], ['T', 'AH0'], ['B', 'R', 'IH1', 'NG'], ['DH', 'IY1', 'Z'], ['TH', 'IH1', 'NG', 'Z'], ['W', 'IH1', 'TH'], ['HH', 'ER1'], ['F', 'R', 'AH1', 'M'], ['DH', 'AH0'], ['S', 'T', 'AO1', 'R'], ['S', 'IH1', 'K', 'S'], ['S', 'P', 'UW1', 'N', 'Z'], ['AH1', 'V'], ['F', 'R', 'EH1', 'SH'], ['S', 'N', 'OW1'], ['P', 'IY1', 'Z'], ['F', 'AY1', 'V'], ['TH', 'IH1', 'K'], ['S', 'L', 'AE1', 'B', 'Z'], ['AH1', 'V'], ['B', 'L', 'UW1'], ['CH', 'IY1', 'Z'], ['AE1', 'N', 'D'], ['M', 'EY1', 'B', 'IY0'], ['AH0'], ['S', 'N', 'AE1', 'K'], ['F', 'AO1', 'R'], ['HH', 'ER1'], ['B', 'R', 'AH1', 'DH', 'ER0'], ['B', 'AA1', 'B'], ['W', 'IY1'], ['AO1', 'L', 'S', 'OW0'], ['N', 'IY1', 'D'], ['AH0'], ['S', 'M', 'AO1', 'L'], ['P', 'L', 'AE1', 'S', 'T', 'IH0', 'K'], ['S', 'N', 'EY1', 'K'], ['AH0', 'N', 'D'], ['AH0'], ['B', 'IH1', 'G'], ['T', 'OY1'], ['F', 'R', 'AA1', 'G'], ['F', 'AO1', 'R'], ['DH', 'AH0'], ['K', 'IH1', 'D', 'Z'], ['SH', 'IY1'], ['K', 'AH0', 'N'], ['S', 'K', 'UW1', 'P'], ['DH', 'IY1', 'Z'], ['TH', 'IH1', 'NG', 'Z'], ['IH2', 'N', 'T', 'UW1'], ['TH', 'R', 'IY1'], ['R', 'EH1', 'D'], ['B', 'AE1', 'G', 'Z'], ['AE1', 'N', 'D'], ['W', 'IY1'], ['W', 'AH0', 'L'], ['G', 'OW1'], ['M', 'IY1', 'T'], ['HH', 'ER0'], ['W', 'EH1', 'N', 'Z', 'D', 'EY2'], ['AE1', 'T'], ['DH', 'AH0'], ['T', 'R', 'EY1', 'N'], ['S', 'T', 'EY1', 'SH', 'AH0', 'N']], [['S', 'T', 'EY1', 'SH', 'AH0', 'N'], ['P', 'L', 'IY1', 'Z'], ['K', 'AO1', 'L'], ['S', 'T', 'EH1', 'L', 'AH0'], ['AE1', 'S', 'K'], ['HH', 'ER0'], ['T', 'AH0'], ['B', 'R', 'IH1', 'NG'], ['DH', 'IY1', 'Z'], ['TH', 'IH1', 'NG', 'Z'], ['W', 'IH1', 'TH'], ['HH', 'ER0'], ['F', 'R', 'AH1', 'M'], ['DH', 'IY0'], ['S', 'T', 'AO1', 'R'], ['S', 'IH1', 'K', 'S'], ['S', 'P', 'UW1', 'N', 'Z'], ['AH0', 'V'], ['F', 'R', 'EH1', 'SH'], ['S', 'N', 'OW1'], ['P', 'IY1', 'Z'], ['F', 'AY1', 'V'], ['TH', 'IH1', 'K'], ['S', 'L', 'AE1', 'B', 'Z'], ['AH0', 'V'], ['B', 'L', 'UW1'], ['CH', 'IY1', 'Z'], ['AE1', 'N', 'D'], ['M', 'EY1', 'B', 'IY0'], ['AH0'], ['S', 'N', 'AE1', 'K'], ['F', 'AO1', 'R'], ['HH', 'ER0'], ['B', 'R', 'AH1', 'DH', 'ER0'], ['B', 'AA1', 'B'], ['W', 'IY1'], ['AO1', 'L', 'S', 'OW0'], ['N', 'IY1', 'D'], ['AH0'], ['S', 'M', 'AO1', 'L'], ['P', 'L', 'AE1', 'S', 'T', 'IH0', 'K'], ['S', 'N', 'EY1', 'K'], ['AE1', 'N', 'D'], ['AH0'], ['B', 'IH1', 'G'], ['T', 'OY1'], ['F', 'R', 'AA1', 'G'], ['F', 'AO1', 'R'], ['DH', 'AH0'], ['K', 'IH1', 'D', 'Z'], ['SH', 'IY1'], ['K', 'AH0', 'N'], ['S', 'K', 'UW1', 'P'], ['DH', 'IY1', 'Z'], ['TH', 'IH1', 'NG', 'Z'], ['IH2', 'N', 'T', 'UW1'], ['TH', 'R', 'IY1'], ['R', 'EH1', 'D'], ['B', 'AE1', 'G', 'Z'], ['AE1', 'N', 'D'], ['W', 'IY1'], ['W', 'AH0', 'L'], ['G', 'OW1'], ['M', 'IY1', 'T'], ['HH', 'ER0'], ['W', 'EH1', 'N', 'Z', 'D', 'IY0'], ['AE1', 'T'], ['DH', 'AH1'], ['T', 'R', 'EY1', 'N'], ['S', 'T', 'EY1', 'SH', 'AH0', 'N']], [['S', 'T', 'EY1', 'SH', 'AH0', 'N'], ['P', 'L', 'IY1', 'Z'], ['K', 'AO1', 'L'], ['S', 'T', 'EH1', 'L', 'AH0'], ['AE1', 'S', 'K'], ['HH', 'ER0'], ['T', 'AH0'], ['B', 'R', 'IH1', 'NG'], ['DH', 'IY1', 'Z'], ['TH', 'IH1', 'NG', 'Z'], ['W', 'IH1', 'TH'], ['HH', 'ER0'], ['F', 'R', 'AH1', 'M'], ['DH', 'AH0'], ['S', 'T', 'AO1', 'R'], ['S', 'IH1', 'K', 'S'], ['S', 'P', 'UW1', 'N', 'Z'], ['AH1', 'V'], ['F', 'R', 'EH1', 'SH'], ['S', 'N', 'OW1'], ['P', 'IY1', 'Z'], ['F', 'AY1', 'V'], ['TH', 'IH1', 'K'], ['S', 'L', 'AE1', 'B', 'Z'], ['AH1', 'V'], ['B', 'L', 'UW1'], ['CH', 'IY1', 'Z'], ['AE1', 'N', 'D'], ['M', 'EY1', 'B', 'IY0'], ['EY1'], ['S', 'N', 'AE1', 'K'], ['F', 'AO1', 'R'], ['HH', 'ER0'], ['B', 'R', 'AH1', 'DH', 'ER0'], ['B', 'AA1', 'B'], ['W', 'IY1'], ['AO1', 'L', 'S', 'OW0'], ['N', 'IY1', 'D'], ['EY1'], ['S', 'M', 'AO1', 'L'], ['P', 'L', 'AE1', 'S', 'T', 'IH0', 'K'], ['S', 'N', 'EY1', 'K'], ['AE1', 'N', 'D'], ['AH0'], ['B', 'IH1', 'G'], ['T', 'OY1'], ['F', 'R', 'AA1', 'G'], ['F', 'AO1', 'R'], ['DH', 'IY0'], ['K', 'IH1', 'D', 'Z'], ['SH', 'IY1'], ['K', 'AE1', 'N'], ['S', 'K', 'UW1', 'P'], ['DH', 'IY1', 'Z'], ['TH', 'IH1', 'NG', 'Z'], ['IH1', 'N', 'T', 'UW0'], ['TH', 'R', 'IY1'], ['R', 'EH1', 'D'], ['B', 'AE1', 'G', 'Z'], ['AE1', 'N', 'D'], ['W', 'IY1'], ['W', 'IH1', 'L'], ['G', 'OW1'], ['M', 'IY1', 'T'], ['HH', 'ER0'], ['W', 'EH1', 'N', 'Z', 'D', 'EY2'], ['AE1', 'T'], ['DH', 'AH0'], ['T', 'R', 'EY1', 'N'], ['S', 'T', 'EY1', 'SH', 'AH0', 'N']], [['S', 'T', 'EY1', 'SH', 'AH0', 'N'], ['P', 'L', 'IY1', 'Z'], ['K', 'AO1', 'L'], ['S', 'T', 'EH1', 'L', 'AH0'], ['AE1', 'S', 'K'], ['HH', 'ER0'], ['T', 'UW1'], ['B', 'R', 'IH1', 'NG'], ['DH', 'IY1', 'Z'], ['TH', 'IH1', 'NG', 'Z'], ['W', 'AH0', 'DH'], ['HH', 'ER0'], ['F', 'R', 'AH1', 'M'], ['DH', 'AH1'], ['S', 'T', 'AO1', 'R'], ['S', 'IH1', 'K', 'S'], ['S', 'P', 'UW1', 'N', 'Z'], ['AH1', 'V'], ['F', 'R', 'EH1', 'SH'], ['S', 'N', 'OW1'], ['P', 'IY1', 'Z'], ['F', 'AY1', 'V'], ['TH', 'IH1', 'K'], ['S', 'L', 'AE1', 'B', 'Z'], ['AH1', 'V'], ['B', 'L', 'UW1'], ['CH', 'IY1', 'Z'], ['AE1', 'N', 'D'], ['M', 'EY1', 'B', 'IY0'], ['EY1'], ['S', 'N', 'AE1', 'K'], ['F', 'AO1', 'R'], ['HH', 'ER0'], ['B', 'R', 'AH1', 'DH', 'ER0'], ['B', 'AA1', 'B'], ['W', 'IY1'], ['AO1', 'L', 'S', 'OW0'], ['N', 'IY1', 'D'], ['AH0'], ['S', 'M', 'AO1', 'L'], ['P', 'L', 'AE1', 'S', 'T', 'IH0', 'K'], ['S', 'N', 'EY1', 'K'], ['AE1', 'N', 'D'], ['AH0'], ['B', 'IH1', 'G'], ['T', 'OY1'], ['F', 'R', 'AA1', 'G'], ['F', 'AO1', 'R'], ['DH', 'AH0'], ['K', 'IH1', 'D', 'Z'], ['SH', 'IY1'], ['K', 'AE1', 'N'], ['S', 'K', 'UW1', 'P'], ['DH', 'IY1', 'Z'], ['TH', 'IH1', 'NG', 'Z'], ['IH2', 'N', 'T', 'AH0'], ['TH', 'R', 'IY1'], ['R', 'EH1', 'D'], ['B', 'AE1', 'G', 'Z'], ['AE1', 'N', 'D'], ['W', 'IY1'], ['W', 'IH1', 'L'], ['G', 'OW1'], ['M', 'IY1', 'T'], ['HH', 'ER0'], ['W', 'EH1', 'N', 'Z', 'D', 'EY2'], ['AE1', 'T'], ['DH', 'AH0'], ['T', 'R', 'EY1', 'N'], ['S', 'T', 'EY1', 'SH', 'AH0', 'N']], [['S', 'T', 'EY1', 'SH', 'AH0', 'N'], ['P', 'L', 'IY1', 'Z'], ['K', 'AO1', 'L'], ['S', 'T', 'EH1', 'L', 'AH0'], ['AE1', 'S', 'K'], ['HH', 'ER1'], ['T', 'UW1'], ['B', 'R', 'IH1', 'NG'], ['DH', 'IY1', 'Z'], ['TH', 'IH1', 'NG', 'Z'], ['W', 'AH0', 'DH'], ['HH', 'ER0'], ['F', 'R', 'AH1', 'M'], ['DH', 'AH0'], ['S', 'T', 'AO1', 'R'], ['S', 'IH1', 'K', 'S'], ['S', 'P', 'UW1', 'N', 'Z'], ['AH0', 'V'], ['F', 'R', 'EH1', 'SH'], ['S', 'N', 'OW1'], ['P', 'IY1', 'Z'], ['F', 'AY1', 'V'], ['TH', 'IH1', 'K'], ['S', 'L', 'AE1', 'B', 'Z'], ['AH0', 'V'], ['B', 'L', 'UW1'], ['CH', 'IY1', 'Z'], ['AE1', 'N', 'D'], ['M', 'EY1', 'B', 'IY0'], ['AH0'], ['S', 'N', 'AE1', 'K'], ['F', 'R', 'ER0'], ['HH', 'ER1'], ['B', 'R', 'AH1', 'DH', 'ER0'], ['B', 'AA1', 'B'], ['W', 'IY1'], ['AO1', 'L', 'S', 'OW0'], ['N', 'IY1', 'D'], ['AH0'], ['S', 'M', 'AO1', 'L'], ['P', 'L', 'AE1', 'S', 'T', 'IH0', 'K'], ['S', 'N', 'EY1', 'K'], ['AE1', 'N', 'D'], ['AH0'], ['B', 'IH1', 'G'], ['T', 'OY1'], ['F', 'R', 'AA1', 'G'], ['F', 'AO1', 'R'], ['DH', 'AH0'], ['K', 'IH1', 'D', 'Z'], ['SH', 'IY1'], ['K', 'AH0', 'N'], ['S', 'K', 'UW1', 'P'], ['DH', 'IY1', 'Z'], ['TH', 'IH1', 'NG', 'Z'], ['IH2', 'N', 'T', 'UW1'], ['TH', 'R', 'IY1'], ['R', 'EH1', 'D'], ['B', 'AE1', 'G', 'Z'], ['AE1', 'N', 'D'], ['W', 'IY1'], ['W', 'IH1', 'L'], ['G', 'OW1'], ['M', 'IY1', 'T'], ['HH', 'ER1'], ['W', 'EH1', 'N', 'Z', 'D', 'EY2'], ['AE1', 'T'], ['DH', 'AH0'], ['T', 'R', 'EY1', 'N'], ['S', 'T', 'EY1', 'SH', 'AH0', 'N']], [['S', 'T', 'EY1', 'SH', 'AH0', 'N'], ['P', 'L', 'IY1', 'Z'], ['K', 'AO1', 'L'], ['S', 'T', 'EH1', 'L', 'AH0'], ['AE1', 'S', 'K'], ['HH', 'ER0'], ['T', 'UW1'], ['B', 'R', 'IH1', 'NG'], ['DH', 'IY1', 'Z'], ['TH', 'IH1', 'NG', 'Z'], ['W', 'IH1', 'DH'], ['HH', 'ER0'], ['F', 'R', 'AH1', 'M'], ['DH', 'AH0'], ['S', 'T', 'AO1', 'R'], ['S', 'IH1', 'K', 'S'], ['S', 'P', 'UW1', 'N', 'Z'], ['AH1', 'V'], ['F', 'R', 'EH1', 'SH'], ['S', 'N', 'OW1'], ['P', 'IY1', 'Z'], ['F', 'AY1', 'V'], ['TH', 'IH1', 'K'], ['S', 'L', 'AE1', 'B', 'Z'], ['AH0', 'V'], ['B', 'L', 'UW1'], ['CH', 'IY1', 'Z'], ['AE1', 'N', 'D'], ['M', 'EY1', 'B', 'IY0'], ['EY1'], ['S', 'N', 'AE1', 'K'], ['F', 'AO1', 'R'], ['HH', 'ER0'], ['B', 'R', 'AH1', 'DH', 'ER0'], ['B', 'AA1', 'B'], ['W', 'IY1'], ['AO1', 'L', 'S', 'OW0'], ['N', 'IY1', 'D'], ['AH0'], ['S', 'M', 'AO1', 'L'], ['P', 'L', 'AE1', 'S', 'T', 'IH0', 'K'], ['S', 'N', 'EY1', 'K'], ['AE1', 'N', 'D'], ['AH0'], ['B', 'IH1', 'G'], ['T', 'OY1'], ['F', 'R', 'AA1', 'G'], ['F', 'AO1', 'R'], ['DH', 'AH0'], ['K', 'IH1', 'D', 'Z'], ['SH', 'IY1'], ['K', 'AE1', 'N'], ['S', 'K', 'UW1', 'P'], ['DH', 'IY1', 'Z'], ['TH', 'IH1', 'NG', 'Z'], ['IH2', 'N', 'T', 'AH0'], ['TH', 'R', 'IY1'], ['R', 'EH1', 'D'], ['B', 'AE1', 'G', 'Z'], ['AE1', 'N', 'D'], ['W', 'IY1'], ['W', 'IH1', 'L'], ['G', 'OW1'], ['M', 'IY1', 'T'], ['HH', 'ER0'], ['W', 'EH1', 'N', 'Z', 'D', 'EY2'], ['AE1', 'T'], ['DH', 'AH0'], ['T', 'R', 'EY1', 'N'], ['S', 'T', 'EY1', 'SH', 'AH0', 'N']], [['S', 'T', 'EY1', 'SH', 'AH0', 'N'], ['P', 'L', 'IY1', 'Z'], ['K', 'AO1', 'L'], ['S', 'T', 'EH1', 'L', 'AH0'], ['AE1', 'S', 'K'], ['HH', 'ER0'], ['T', 'UW1'], ['B', 'R', 'IH1', 'NG'], ['DH', 'IY1', 'Z'], ['TH', 'IH1', 'NG', 'Z'], ['W', 'AH0', 'DH'], ['HH', 'ER1'], ['F', 'R', 'AH1', 'M'], ['DH', 'AH0'], ['S', 'T', 'AO1', 'R'], ['S', 'IH1', 'K', 'S'], ['S', 'P', 'UW1', 'N', 'Z'], ['AH0', 'V'], ['F', 'R', 'EH1', 'SH'], ['S', 'N', 'OW1'], ['P', 'IY1', 'Z'], ['F', 'AY1', 'V'], ['TH', 'IH1', 'K'], ['S', 'L', 'AE1', 'B', 'Z'], ['AH1', 'V'], ['B', 'L', 'UW1'], ['CH', 'IY1', 'Z'], ['AE1', 'N', 'D'], ['M', 'EY1', 'B', 'IY0'], ['EY1'], ['S', 'N', 'AE1', 'K'], ['F', 'AO1', 'R'], ['HH', 'ER0'], ['B', 'R', 'AH1', 'DH', 'ER0'], ['B', 'AA1', 'B'], ['W', 'IY1'], ['AO1', 'L', 'S', 'OW0'], ['N', 'IY1', 'D'], ['AH0'], ['S', 'M', 'AO1', 'L'], ['P', 'L', 'AE1', 'S', 'T', 'IH0', 'K'], ['S', 'N', 'EY1', 'K'], ['AE1', 'N', 'D'], ['AH0'], ['B', 'IH1', 'G'], ['T', 'OY1'], ['F', 'R', 'AA1', 'G'], ['F', 'AO1', 'R'], ['DH', 'IY0'], ['K', 'IH1', 'D', 'Z'], ['SH', 'IY1'], ['K', 'AE1', 'N'], ['S', 'K', 'UW1', 'P'], ['DH', 'IY1', 'Z'], ['TH', 'IH1', 'NG', 'Z'], ['IH2', 'N', 'T', 'UW1'], ['TH', 'R', 'IY1'], ['R', 'EH1', 'D'], ['B', 'AE1', 'G', 'Z'], ['AH0', 'N', 'D'], ['W', 'IY1'], ['W', 'IH1', 'L'], ['G', 'OW1'], ['M', 'IY1', 'T'], ['HH', 'ER0'], ['W', 'EH1', 'N', 'Z', 'D', 'EY2'], ['AE1', 'T'], ['DH', 'AH1'], ['T', 'R', 'EY1', 'N'], ['S', 'T', 'EY1', 'SH', 'AH0', 'N']], [['S', 'T', 'EY1', 'SH', 'AH0', 'N'], ['P', 'L', 'IY1', 'Z'], ['K', 'AO1', 'L'], ['S', 'T', 'EH1', 'L', 'AH0'], ['AE1', 'S', 'K'], ['HH', 'ER0'], ['T', 'AH0'], ['B', 'R', 'IH1', 'NG'], ['DH', 'IY1', 'Z'], ['TH', 'IH1', 'NG', 'Z'], ['W', 'AH0', 'DH'], ['HH', 'ER1'], ['F', 'R', 'AH1', 'M'], ['DH', 'AH0'], ['S', 'T', 'AO1', 'R'], ['S', 'IH1', 'K', 'S'], ['S', 'P', 'UW1', 'N', 'Z'], ['AH0', 'V'], ['F', 'R', 'EH1', 'SH'], ['S', 'N', 'OW1'], ['P', 'IY1', 'Z'], ['F', 'AY1', 'V'], ['TH', 'IH1', 'K'], ['S', 'L', 'AE1', 'B', 'Z'], ['AH1', 'V'], ['B', 'L', 'UW1'], ['CH', 'IY1', 'Z'], ['AE1', 'N', 'D'], ['M', 'EY1', 'B', 'IY0'], ['AH0'], ['S', 'N', 'AE1', 'K'], ['F', 'AO1', 'R'], ['HH', 'ER0'], ['B', 'R', 'AH1', 'DH', 'ER0'], ['B', 'AA1', 'B'], ['W', 'IY1'], ['AO1', 'L', 'S', 'OW0'], ['N', 'IY1', 'D'], ['AH0'], ['S', 'M', 'AO1', 'L'], ['P', 'L', 'AE1', 'S', 'T', 'IH0', 'K'], ['S', 'N', 'EY1', 'K'], ['AH0', 'N', 'D'], ['AH0'], ['B', 'IH1', 'G'], ['T', 'OY1'], ['F', 'R', 'AA1', 'G'], ['F', 'AO1', 'R'], ['DH', 'AH0'], ['K', 'IH1', 'D', 'Z'], ['SH', 'IY1'], ['K', 'AE1', 'N'], ['S', 'K', 'UW1', 'P'], ['DH', 'IY1', 'Z'], ['TH', 'IH1', 'NG', 'Z'], ['IH2', 'N', 'T', 'AH0'], ['TH', 'R', 'IY1'], ['R', 'EH1', 'D'], ['B', 'AE1', 'G', 'Z'], ['AE1', 'N', 'D'], ['W', 'IY1'], ['W', 'AH0', 'L'], ['G', 'OW1'], ['M', 'IY1', 'T'], ['HH', 'ER0'], ['W', 'EH1', 'N', 'Z', 'D', 'IY0'], ['AE1', 'T'], ['DH', 'AH0'], ['T', 'R', 'EY1', 'N'], ['S', 'T', 'EY1', 'SH', 'AH0', 'N']], [['S', 'T', 'EY1', 'SH', 'AH0', 'N'], ['P', 'L', 'IY1', 'Z'], ['K', 'AO1', 'L'], ['S', 'T', 'EH1', 'L', 'AH0'], ['AE1', 'S', 'K'], ['HH', 'ER1'], ['T', 'AH0'], ['B', 'R', 'IH1', 'NG'], ['DH', 'IY1', 'Z'], ['TH', 'IH1', 'NG', 'Z'], ['W', 'IH1', 'TH'], ['HH', 'ER1'], ['F', 'R', 'AH1', 'M'], ['DH', 'AH0'], ['S', 'T', 'AO1', 'R'], ['S', 'IH1', 'K', 'S'], ['S', 'P', 'UW1', 'N', 'Z'], ['AH0', 'V'], ['F', 'R', 'EH1', 'SH'], ['S', 'N', 'OW1'], ['P', 'IY1', 'Z'], ['F', 'AY1', 'V'], ['TH', 'IH1', 'K'], ['S', 'L', 'AE1', 'B', 'Z'], ['AH0', 'V'], ['B', 'L', 'UW1'], ['CH', 'IY1', 'Z'], ['AE1', 'N', 'D'], ['M', 'EY1', 'B', 'IY0'], ['AH0'], ['S', 'N', 'AE1', 'K'], ['F', 'AO1', 'R'], ['HH', 'ER0'], ['B', 'R', 'AH1', 'DH', 'ER0'], ['B', 'AA1', 'B'], ['W', 'IY1'], ['AO1', 'L', 'S', 'OW0'], ['N', 'IY1', 'D'], ['AH0'], ['S', 'M', 'AO1', 'L'], ['P', 'L', 'AE1', 'S', 'T', 'IH0', 'K'], ['S', 'N', 'EY1', 'K'], ['AE1', 'N', 'D'], ['EY1'], ['B', 'IH1', 'G'], ['T', 'OY1'], ['F', 'R', 'AA1', 'G'], ['F', 'AO1', 'R'], ['DH', 'AH0'], ['K', 'IH1', 'D', 'Z'], ['SH', 'IY1'], ['K', 'AE1', 'N'], ['S', 'K', 'UW1', 'P'], ['DH', 'IY1', 'Z'], ['TH', 'IH1', 'NG', 'Z'], ['IH2', 'N', 'T', 'AH0'], ['TH', 'R', 'IY1'], ['R', 'EH1', 'D'], ['B', 'AE1', 'G', 'Z'], ['AE1', 'N', 'D'], ['W', 'IY1'], ['W', 'AH0', 'L'], ['G', 'OW1'], ['M', 'IY1', 'T'], ['HH', 'ER0'], ['W', 'EH1', 'N', 'Z', 'D', 'EY2'], ['AE1', 'T'], ['DH', 'AH0'], ['T', 'R', 'EY1', 'N'], ['S', 'T', 'EY1', 'SH', 'AH0', 'N']], [['S', 'T', 'EY1', 'SH', 'AH0', 'N'], ['P', 'L', 'IY1', 'Z'], ['K', 'AO1', 'L'], ['S', 'T', 'EH1', 'L', 'AH0'], ['AE1', 'S', 'K'], ['HH', 'ER0'], ['T', 'AH0'], ['B', 'R', 'IH1', 'NG'], ['DH', 'IY1', 'Z'], ['TH', 'IH1', 'NG', 'Z'], ['W', 'AH0', 'DH'], ['HH', 'ER0'], ['F', 'R', 'AH1', 'M'], ['DH', 'AH0'], ['S', 'T', 'AO1', 'R'], ['S', 'IH1', 'K', 'S'], ['S', 'P', 'UW1', 'N', 'Z'], ['AH0', 'V'], ['F', 'R', 'EH1', 'SH'], ['S', 'N', 'OW1'], ['P', 'IY1', 'Z'], ['F', 'AY1', 'V'], ['TH', 'IH1', 'K'], ['S', 'L', 'AE1', 'B', 'Z'], ['AH0', 'V'], ['B', 'L', 'UW1'], ['CH', 'IY1', 'Z'], ['AE1', 'N', 'D'], ['M', 'EY1', 'B', 'IY0'], ['AH0'], ['S', 'N', 'AE1', 'K'], ['F', 'AO1', 'R'], ['HH', 'ER0'], ['B', 'R', 'AH1', 'DH', 'ER0'], ['B', 'AA1', 'B'], ['W', 'IY1'], ['AO1', 'L', 'S', 'OW0'], ['N', 'IY1', 'D'], ['AH0'], ['S', 'M', 'AO1', 'L'], ['P', 'L', 'AE1', 'S', 'T', 'IH0', 'K'], ['S', 'N', 'EY1', 'K'], ['AE1', 'N', 'D'], ['EY1'], ['B', 'IH1', 'G'], ['T', 'OY1'], ['F', 'R', 'AA1', 'G'], ['F', 'AO1', 'R'], ['DH', 'IY0'], ['K', 'IH1', 'D', 'Z'], ['SH', 'IY1'], ['K', 'AH0', 'N'], ['S', 'K', 'UW1', 'P'], ['DH', 'IY1', 'Z'], ['TH', 'IH1', 'NG', 'Z'], ['IH2', 'N', 'T', 'UW1'], ['TH', 'R', 'IY1'], ['R', 'EH1', 'D'], ['B', 'AE1', 'G', 'Z'], ['AE1', 'N', 'D'], ['W', 'IY1'], ['W', 'AH0', 'L'], ['G', 'OW1'], ['M', 'IY1', 'T'], ['HH', 'ER0'], ['W', 'EH1', 'N', 'Z', 'D', 'EY2'], ['AE1', 'T'], ['DH', 'AH0'], ['T', 'R', 'EY1', 'N'], ['S', 'T', 'EY1', 'SH', 'AH0', 'N']], [['S', 'T', 'EY1', 'SH', 'AH0', 'N'], ['P', 'L', 'IY1', 'Z'], ['K', 'AO1', 'L'], ['S', 'T', 'EH1', 'L', 'AH0'], ['AE1', 'S', 'K'], ['HH', 'ER0'], ['T', 'AH0'], ['B', 'R', 'IH1', 'NG'], ['DH', 'IY1', 'Z'], ['TH', 'IH1', 'NG', 'Z'], ['W', 'IH1', 'TH'], ['HH', 'ER0'], ['F', 'R', 'AH1', 'M'], ['DH', 'AH0'], ['S', 'T', 'AO1', 'R'], ['S', 'IH1', 'K', 'S'], ['S', 'P', 'UW1', 'N', 'Z'], ['AH0', 'V'], ['F', 'R', 'EH1', 'SH'], ['S', 'N', 'OW1'], ['P', 'IY1', 'Z'], ['F', 'AY1', 'V'], ['TH', 'IH1', 'K'], ['S', 'L', 'AE1', 'B', 'Z'], ['AH0', 'V'], ['B', 'L', 'UW1'], ['CH', 'IY1', 'Z'], ['AE1', 'N', 'D'], ['M', 'EY1', 'B', 'IY0'], ['EY1'], ['S', 'N', 'AE1', 'K'], ['F', 'AO1', 'R'], ['HH', 'ER0'], ['B', 'R', 'AH1', 'DH', 'ER0'], ['B', 'AA1', 'B'], ['W', 'IY1'], ['AO1', 'L', 'S', 'OW0'], ['N', 'IY1', 'D'], ['AH0'], ['S', 'M', 'AO1', 'L'], ['P', 'L', 'AE1', 'S', 'T', 'IH0', 'K'], ['S', 'N', 'EY1', 'K'], ['AE1', 'N', 'D'], ['EY1'], ['B', 'IH1', 'G'], ['T', 'OY1'], ['F', 'R', 'AA1', 'G'], ['F', 'AO1', 'R'], ['DH', 'AH0'], ['K', 'IH1', 'D', 'Z'], ['SH', 'IY1'], ['K', 'AH0', 'N'], ['S', 'K', 'UW1', 'P'], ['DH', 'IY1', 'Z'], ['TH', 'IH1', 'NG', 'Z'], ['IH2', 'N', 'T', 'AH0'], ['TH', 'R', 'IY1'], ['R', 'EH1', 'D'], ['B', 'AE1', 'G', 'Z'], ['AE1', 'N', 'D'], ['W', 'IY1'], ['W', 'IH1', 'L'], ['G', 'OW1'], ['M', 'IY1', 'T'], ['HH', 'ER0'], ['W', 'EH1', 'N', 'Z', 'D', 'EY2'], ['AE1', 'T'], ['DH', 'AH1'], ['T', 'R', 'EY1', 'N'], ['S', 'T', 'EY1', 'SH', 'AH0', 'N']], [['S', 'T', 'EY1', 'SH', 'AH0', 'N'], ['P', 'L', 'IY1', 'Z'], ['K', 'AO1', 'L'], ['S', 'T', 'EH1', 'L', 'AH0'], ['AE1', 'S', 'K'], ['HH', 'ER0'], ['T', 'AH0'], ['B', 'R', 'IH1', 'NG'], ['DH', 'IY1', 'Z'], ['TH', 'IH1', 'NG', 'Z'], ['W', 'IH1', 'DH'], ['HH', 'ER0'], ['F', 'R', 'AH1', 'M'], ['DH', 'AH0'], ['S', 'T', 'AO1', 'R'], ['S', 'IH1', 'K', 'S'], ['S', 'P', 'UW1', 'N', 'Z'], ['AH1', 'V'], ['F', 'R', 'EH1', 'SH'], ['S', 'N', 'OW1'], ['P', 'IY1', 'Z'], ['F', 'AY1', 'V'], ['TH', 'IH1', 'K'], ['S', 'L', 'AE1', 'B', 'Z'], ['AH1', 'V'], ['B', 'L', 'UW1'], ['CH', 'IY1', 'Z'], ['AE1', 'N', 'D'], ['M', 'EY1', 'B', 'IY0'], ['EY1'], ['S', 'N', 'AE1', 'K'], ['F', 'AO1', 'R'], ['HH', 'ER0'], ['B', 'R', 'AH1', 'DH', 'ER0'], ['B', 'AA1', 'B'], ['W', 'IY1'], ['AO1', 'L', 'S', 'OW0'], ['N', 'IY1', 'D'], ['AH0'], ['S', 'M', 'AO1', 'L'], ['P', 'L', 'AE1', 'S', 'T', 'IH0', 'K'], ['S', 'N', 'EY1', 'K'], ['AE1', 'N', 'D'], ['AH0'], ['B', 'IH1', 'G'], ['T', 'OY1'], ['F', 'R', 'AA1', 'G'], ['F', 'AO1', 'R'], ['DH', 'IY0'], ['K', 'IH1', 'D', 'Z'], ['SH', 'IY1'], ['K', 'AE1', 'N'], ['S', 'K', 'UW1', 'P'], ['DH', 'IY1', 'Z'], ['TH', 'IH1', 'NG', 'Z'], ['IH2', 'N', 'T', 'UW1'], ['TH', 'R', 'IY1'], ['R', 'EH1', 'D'], ['B', 'AE1', 'G', 'Z'], ['AE1', 'N', 'D'], ['W', 'IY1'], ['W', 'IH1', 'L'], ['G', 'OW1'], ['M', 'IY1', 'T'], ['HH', 'ER1'], ['W', 'EH1', 'N', 'Z', 'D', 'EY2'], ['AE1', 'T'], ['DH', 'AH0'], ['T', 'R', 'EY1', 'N'], ['S', 'T', 'EY1', 'SH', 'AH0', 'N']], [['S', 'T', 'EY1', 'SH', 'AH0', 'N'], ['P', 'L', 'IY1', 'Z'], ['K', 'AO1', 'L'], ['S', 'T', 'EH1', 'L', 'AH0'], ['AE1', 'S', 'K'], ['HH', 'ER0'], ['T', 'AH0'], ['B', 'R', 'IH1', 'NG'], ['DH', 'IY1', 'Z'], ['TH', 'IH1', 'NG', 'Z'], ['W', 'IH1', 'TH'], ['HH', 'ER1'], ['F', 'R', 'AH1', 'M'], ['DH', 'AH0'], ['S', 'T', 'AO1', 'R'], ['S', 'IH1', 'K', 'S'], ['S', 'P', 'UW1', 'N', 'Z'], ['AH1', 'V'], ['F', 'R', 'EH1', 'SH'], ['S', 'N', 'OW1'], ['P', 'IY1', 'Z'], ['F', 'AY1', 'V'], ['TH', 'IH1', 'K'], ['S', 'L', 'AE1', 'B', 'Z'], ['AH0', 'V'], ['B', 'L', 'UW1'], ['CH', 'IY1', 'Z'], ['AE1', 'N', 'D'], ['M', 'EY1', 'B', 'IY0'], ['AH0'], ['S', 'N', 'AE1', 'K'], ['F', 'R', 'ER0'], ['HH', 'ER1'], ['B', 'R', 'AH1', 'DH', 'ER0'], ['B', 'AA1', 'B'], ['W', 'IY1'], ['AO1', 'L', 'S', 'OW0'], ['N', 'IY1', 'D'], ['AH0'], ['S', 'M', 'AO1', 'L'], ['P', 'L', 'AE1', 'S', 'T', 'IH0', 'K'], ['S', 'N', 'EY1', 'K'], ['AE1', 'N', 'D'], ['AH0'], ['B', 'IH1', 'G'], ['T', 'OY1'], ['F', 'R', 'AA1', 'G'], ['F', 'AO1', 'R'], ['DH', 'AH0'], ['K', 'IH1', 'D', 'Z'], ['SH', 'IY1'], ['K', 'AH0', 'N'], ['S', 'K', 'UW1', 'P'], ['DH', 'IY1', 'Z'], ['TH', 'IH1', 'NG', 'Z'], ['IH2', 'N', 'T', 'AH0'], ['TH', 'R', 'IY1'], ['R', 'EH1', 'D'], ['B', 'AE1', 'G', 'Z'], ['AE1', 'N', 'D'], ['W', 'IY1'], ['W', 'AH0', 'L'], ['G', 'OW1'], ['M', 'IY1', 'T'], ['HH', 'ER1'], ['W', 'EH1', 'N', 'Z', 'D', 'EY2'], ['AE1', 'T'], ['DH', 'AH0'], ['T', 'R', 'EY1', 'N'], ['S', 'T', 'EY1', 'SH', 'AH0', 'N']], [['S', 'T', 'EY1', 'SH', 'AH0', 'N'], ['P', 'L', 'IY1', 'Z'], ['K', 'AO1', 'L'], ['S', 'T', 'EH1', 'L', 'AH0'], ['AE1', 'S', 'K'], ['HH', 'ER1'], ['T', 'AH0'], ['B', 'R', 'IH1', 'NG'], ['DH', 'IY1', 'Z'], ['TH', 'IH1', 'NG', 'Z'], ['W', 'IH1', 'TH'], ['HH', 'ER0'], ['F', 'R', 'AH1', 'M'], ['DH', 'AH0'], ['S', 'T', 'AO1', 'R'], ['S', 'IH1', 'K', 'S'], ['S', 'P', 'UW1', 'N', 'Z'], ['AH1', 'V'], ['F', 'R', 'EH1', 'SH'], ['S', 'N', 'OW1'], ['P', 'IY1', 'Z'], ['F', 'AY1', 'V'], ['TH', 'IH1', 'K'], ['S', 'L', 'AE1', 'B', 'Z'], ['AH1', 'V'], ['B', 'L', 'UW1'], ['CH', 'IY1', 'Z'], ['AE1', 'N', 'D'], ['M', 'EY1', 'B', 'IY0'], ['AH0'], ['S', 'N', 'AE1', 'K'], ['F', 'AO1', 'R'], ['HH', 'ER0'], ['B', 'R', 'AH1', 'DH', 'ER0'], ['B', 'AA1', 'B'], ['W', 'IY1'], ['AO1', 'L', 'S', 'OW0'], ['N', 'IY1', 'D'], ['AH0'], ['S', 'M', 'AO1', 'L'], ['P', 'L', 'AE1', 'S', 'T', 'IH0', 'K'], ['S', 'N', 'EY1', 'K'], ['AE1', 'N', 'D'], ['EY1'], ['B', 'IH1', 'G'], ['T', 'OY1'], ['F', 'R', 'AA1', 'G'], ['F', 'AO1', 'R'], ['DH', 'AH0'], ['K', 'IH1', 'D', 'Z'], ['SH', 'IY1'], ['K', 'AE1', 'N'], ['S', 'K', 'UW1', 'P'], ['DH', 'IY1', 'Z'], ['TH', 'IH1', 'NG', 'Z'], ['IH2', 'N', 'T', 'AH0'], ['TH', 'R', 'IY1'], ['R', 'EH1', 'D'], ['B', 'AE1', 'G', 'Z'], ['AE1', 'N', 'D'], ['W', 'IY1'], ['W', 'IH1', 'L'], ['G', 'OW1'], ['M', 'IY1', 'T'], ['HH', 'ER0'], ['W', 'EH1', 'N', 'Z', 'D', 'EY2'], ['AE1', 'T'], ['DH', 'AH0'], ['T', 'R', 'EY1', 'N'], ['S', 'T', 'EY1', 'SH', 'AH0', 'N']], [['S', 'T', 'EY1', 'SH', 'AH0', 'N'], ['P', 'L', 'IY1', 'Z'], ['K', 'AO1', 'L'], ['S', 'T', 'EH1', 'L', 'AH0'], ['AE1', 'S', 'K'], ['HH', 'ER1'], ['T', 'UW1'], ['B', 'R', 'IH1', 'NG'], ['DH', 'IY1', 'Z'], ['TH', 'IH1', 'NG', 'Z'], ['W', 'IH1', 'TH'], ['HH', 'ER0'], ['F', 'R', 'AH1', 'M'], ['DH', 'AH0'], ['S', 'T', 'AO1', 'R'], ['S', 'IH1', 'K', 'S'], ['S', 'P', 'UW1', 'N', 'Z'], ['AH0', 'V'], ['F', 'R', 'EH1', 'SH'], ['S', 'N', 'OW1'], ['P', 'IY1', 'Z'], ['F', 'AY1', 'V'], ['TH', 'IH1', 'K'], ['S', 'L', 'AE1', 'B', 'Z'], ['AH1', 'V'], ['B', 'L', 'UW1'], ['CH', 'IY1', 'Z'], ['AE1', 'N', 'D'], ['M', 'EY1', 'B', 'IY0'], ['AH0'], ['S', 'N', 'AE1', 'K'], ['F', 'AO1', 'R'], ['HH', 'ER1'], ['B', 'R', 'AH1', 'DH', 'ER0'], ['B', 'AA1', 'B'], ['W', 'IY1'], ['AO1', 'L', 'S', 'OW0'], ['N', 'IY1', 'D'], ['AH0'], ['S', 'M', 'AO1', 'L'], ['P', 'L', 'AE1', 'S', 'T', 'IH0', 'K'], ['S', 'N', 'EY1', 'K'], ['AE1', 'N', 'D'], ['EY1'], ['B', 'IH1', 'G'], ['T', 'OY1'], ['F', 'R', 'AA1', 'G'], ['F', 'AO1', 'R'], ['DH', 'IY0'], ['K', 'IH1', 'D', 'Z'], ['SH', 'IY1'], ['K', 'AE1', 'N'], ['S', 'K', 'UW1', 'P'], ['DH', 'IY1', 'Z'], ['TH', 'IH1', 'NG', 'Z'], ['IH2', 'N', 'T', 'UW1'], ['TH', 'R', 'IY1'], ['R', 'EH1', 'D'], ['B', 'AE1', 'G', 'Z'], ['AE1', 'N', 'D'], ['W', 'IY1'], ['W', 'AH0', 'L'], ['G', 'OW1'], ['M', 'IY1', 'T'], ['HH', 'ER0'], ['W', 'EH1', 'N', 'Z', 'D', 'EY2'], ['AE1', 'T'], ['DH', 'IY0'], ['T', 'R', 'EY1', 'N'], ['S', 'T', 'EY1', 'SH', 'AH0', 'N']], [['S', 'T', 'EY1', 'SH', 'AH0', 'N'], ['P', 'L', 'IY1', 'Z'], ['K', 'AO1', 'L'], ['S', 'T', 'EH1', 'L', 'AH0'], ['AE1', 'S', 'K'], ['HH', 'ER0'], ['T', 'AH0'], ['B', 'R', 'IH1', 'NG'], ['DH', 'IY1', 'Z'], ['TH', 'IH1', 'NG', 'Z'], ['W', 'IH1', 'TH'], ['HH', 'ER0'], ['F', 'R', 'AH1', 'M'], ['DH', 'AH0'], ['S', 'T', 'AO1', 'R'], ['S', 'IH1', 'K', 'S'], ['S', 'P', 'UW1', 'N', 'Z'], ['AH1', 'V'], ['F', 'R', 'EH1', 'SH'], ['S', 'N', 'OW1'], ['P', 'IY1', 'Z'], ['F', 'AY1', 'V'], ['TH', 'IH1', 'K'], ['S', 'L', 'AE1', 'B', 'Z'], ['AH1', 'V'], ['B', 'L', 'UW1'], ['CH', 'IY1', 'Z'], ['AH0', 'N', 'D'], ['M', 'EY1', 'B', 'IY0'], ['AH0'], ['S', 'N', 'AE1', 'K'], ['F', 'AO1', 'R'], ['HH', 'ER0'], ['B', 'R', 'AH1', 'DH', 'ER0'], ['B', 'AA1', 'B'], ['W', 'IY1'], ['AO1', 'L', 'S', 'OW0'], ['N', 'IY1', 'D'], ['AH0'], ['S', 'M', 'AO1', 'L'], ['P', 'L', 'AE1', 'S', 'T', 'IH0', 'K'], ['S', 'N', 'EY1', 'K'], ['AE1', 'N', 'D'], ['EY1'], ['B', 'IH1', 'G'], ['T', 'OY1'], ['F', 'R', 'AA1', 'G'], ['F', 'AO1', 'R'], ['DH', 'IY0'], ['K', 'IH1', 'D', 'Z'], ['SH', 'IY1'], ['K', 'AE1', 'N'], ['S', 'K', 'UW1', 'P'], ['DH', 'IY1', 'Z'], ['TH', 'IH1', 'NG', 'Z'], ['IH2', 'N', 'T', 'AH0'], ['TH', 'R', 'IY1'], ['R', 'EH1', 'D'], ['B', 'AE1', 'G', 'Z'], ['AE1', 'N', 'D'], ['W', 'IY1'], ['W', 'AH0', 'L'], ['G', 'OW1'], ['M', 'IY1', 'T'], ['HH', 'ER0'], ['W', 'EH1', 'N', 'Z', 'D', 'EY2'], ['AE1', 'T'], ['DH', 'AH0'], ['T', 'R', 'EY1', 'N'], ['S', 'T', 'EY1', 'SH', 'AH0', 'N']]]\n"
          ],
          "name": "stdout"
        }
      ]
    },
    {
      "cell_type": "code",
      "metadata": {
        "id": "anWbK03Kc8zT"
      },
      "source": [
        "tk_phonemes[0].pop(0)\n",
        "for i in tk_phonemes:\n",
        "    i.pop(0)"
      ],
      "execution_count": null,
      "outputs": []
    },
    {
      "cell_type": "code",
      "metadata": {
        "id": "d4PUm4L7dOVe"
      },
      "source": [],
      "execution_count": null,
      "outputs": []
    },
    {
      "cell_type": "markdown",
      "metadata": {
        "id": "chKQgNOldVJu"
      },
      "source": [
        "TIMEFRAMES"
      ]
    },
    {
      "cell_type": "code",
      "metadata": {
        "id": "4f3IOv0ydV7x"
      },
      "source": [
        "#turkey time frames\n",
        "timeFrame_all = []\n",
        "timeFrame_person = []\n",
        "timeFrame = []\n",
        "counter = 0\n",
        "new_person = True\n",
        "new_word = False\n",
        "word_counter = 0\n",
        "with open(\"turkish_align.mlf\", \"r\") as a_file:\n",
        "    for line in a_file:\n",
        "        stripped_line = line.strip()\n",
        "        words = stripped_line.split( )\n",
        "        if (counter>0 and words[0].find(\".rec\")==-1): #not 1st, not a new person\n",
        "            if (words[0]==\".\"): #indicating the end of a person's record\n",
        "                if word_counter == 69: #last word\n",
        "                    timeFrame_person.append(timeFrame) #add this last word's record to the list of the person\n",
        "                word_counter = 0 #set to 0\n",
        "                new_person = True #new person coming up\n",
        "                timeFrame_all.append(timeFrame_person) #add all. record of the person to the total\n",
        "                timeFrame_person = [] #empty the person's record\n",
        "            else: #can be 1st and a new person\n",
        "                if len(words)==5: #new word\n",
        "                    word_counter = word_counter+1\n",
        "                    timeFrame_person.append(timeFrame) \n",
        "                    timeFrame = []\n",
        "                    new_word = True\n",
        "                    timeFrame.append([words[0], words[1]])\n",
        "                else:\n",
        "                    new_word = False\n",
        "\n",
        "                if new_word == False:\n",
        "                    timeFrame.append([words[0], words[1]])\n",
        "        counter = counter+1\n",
        "        \n",
        "timeFrame_all[0].pop(0)\n",
        "for i in timeFrame_all:\n",
        "    i.pop(0)"
      ],
      "execution_count": null,
      "outputs": []
    },
    {
      "cell_type": "code",
      "metadata": {
        "colab": {
          "base_uri": "https://localhost:8080/"
        },
        "id": "tkaOXZobdYU-",
        "outputId": "323096d4-0860-4dc0-bde7-73b07492f0ac"
      },
      "source": [
        "len(timeFrame_all[0])"
      ],
      "execution_count": null,
      "outputs": [
        {
          "output_type": "execute_result",
          "data": {
            "text/plain": [
              "68"
            ]
          },
          "metadata": {
            "tags": []
          },
          "execution_count": 105
        }
      ]
    },
    {
      "cell_type": "code",
      "metadata": {
        "id": "TGmASwd2dZ5R"
      },
      "source": [
        "#korea time frames\n",
        "kr_timeFrame_all = []\n",
        "kr_timeFrame_person = []\n",
        "kr_timeFrame = []\n",
        "counter = 0\n",
        "new_person = True\n",
        "new_word = False\n",
        "word_counter = 0\n",
        "with open(\"korean_align.mlf\", \"r\") as a_file:\n",
        "    for line in a_file:\n",
        "        stripped_line = line.strip()\n",
        "        words = stripped_line.split( )\n",
        "        if (counter>0 and words[0].find(\".rec\")==-1): #not 1st, not a new person\n",
        "            if (words[0]==\".\"): #indicating the end of a person's record\n",
        "                if word_counter == 69: #last word\n",
        "                    kr_timeFrame_person.append(kr_timeFrame) #add this last word's record to the list of the person\n",
        "                word_counter = 0 #set to 0\n",
        "                new_person = True #new person coming up\n",
        "                kr_timeFrame_all.append(kr_timeFrame_person) #add all. record of the person to the total\n",
        "                kr_timeFrame_person = [] #empty the person's record\n",
        "            else: #can be 1st and a new person\n",
        "                if len(words)==5: #new word\n",
        "                    word_counter = word_counter+1\n",
        "                    kr_timeFrame_person.append(kr_timeFrame) \n",
        "                    kr_timeFrame = []\n",
        "                    new_word = True\n",
        "                    kr_timeFrame.append([words[0], words[1]])\n",
        "                else:\n",
        "                    new_word = False\n",
        "\n",
        "                if new_word == False:\n",
        "                    kr_timeFrame.append([words[0], words[1]])\n",
        "        counter = counter+1\n",
        "        \n",
        "kr_timeFrame_all[0].pop(0)\n",
        "for i in kr_timeFrame_all:\n",
        "    i.pop(0)"
      ],
      "execution_count": null,
      "outputs": []
    },
    {
      "cell_type": "code",
      "metadata": {
        "colab": {
          "base_uri": "https://localhost:8080/"
        },
        "id": "Ord0Ir4Ddcj4",
        "outputId": "5b40d87c-61cf-4c76-dc52-819fd68d373e"
      },
      "source": [
        "len(kr_timeFrame_all[0])"
      ],
      "execution_count": null,
      "outputs": [
        {
          "output_type": "execute_result",
          "data": {
            "text/plain": [
              "68"
            ]
          },
          "metadata": {
            "tags": []
          },
          "execution_count": 107
        }
      ]
    },
    {
      "cell_type": "code",
      "metadata": {
        "id": "jTLhjVvOdfoT"
      },
      "source": [
        "#mandarin time frames\n",
        "md_timeFrame_all = []\n",
        "md_timeFrame_person = []\n",
        "md_timeFrame = []\n",
        "counter = 0\n",
        "new_person = True\n",
        "new_word = False\n",
        "word_counter = 0\n",
        "with open(\"mandarin_align.mlf\", \"r\") as a_file:\n",
        "    for line in a_file:\n",
        "        stripped_line = line.strip()\n",
        "        words = stripped_line.split( )\n",
        "        if (counter>0 and words[0].find(\".rec\")==-1): #not 1st, not a new person\n",
        "            if (words[0]==\".\"): #indicating the end of a person's record\n",
        "                if word_counter == 69: #last word\n",
        "                    md_timeFrame_person.append(md_timeFrame) #add this last word's record to the list of the person\n",
        "                word_counter = 0 #set to 0\n",
        "                new_person = True #new person coming up\n",
        "                md_timeFrame_all.append(md_timeFrame_person) #add all. record of the person to the total\n",
        "                md_timeFrame_person = [] #empty the person's record\n",
        "            else: #can be 1st and a new person\n",
        "                if len(words)==5: #new word\n",
        "                    word_counter = word_counter+1\n",
        "                    md_timeFrame_person.append(md_timeFrame) \n",
        "                    md_timeFrame = []\n",
        "                    new_word = True\n",
        "                    md_timeFrame.append([words[0], words[1]])\n",
        "                else:\n",
        "                    new_word = False\n",
        "\n",
        "                if new_word == False:\n",
        "                    md_timeFrame.append([words[0], words[1]])\n",
        "        counter = counter+1\n",
        "        \n",
        "md_timeFrame_all[0].pop(0)\n",
        "for i in md_timeFrame_all:\n",
        "    i.pop(0)"
      ],
      "execution_count": null,
      "outputs": []
    },
    {
      "cell_type": "code",
      "metadata": {
        "id": "OZK5wYIQdkW3"
      },
      "source": [
        "#hindi time frames\n",
        "hd_timeFrame_all = []\n",
        "hd_timeFrame_person = []\n",
        "hd_timeFrame = []\n",
        "counter = 0\n",
        "new_person = True\n",
        "new_word = False\n",
        "word_counter = 0\n",
        "with open(\"hindi_align.mlf\", \"r\") as a_file:\n",
        "    for line in a_file:\n",
        "        stripped_line = line.strip()\n",
        "        words = stripped_line.split( )\n",
        "        if (counter>0 and words[0].find(\".rec\")==-1): #not 1st, not a new person\n",
        "            if (words[0]==\".\"): #indicating the end of a person's record\n",
        "                if word_counter == 69: #last word\n",
        "                    hd_timeFrame_person.append(hd_timeFrame) #add this last word's record to the list of the person\n",
        "                word_counter = 0 #set to 0\n",
        "                new_person = True #new person coming up\n",
        "                hd_timeFrame_all.append(hd_timeFrame_person) #add all. record of the person to the total\n",
        "                hd_timeFrame_person = [] #empty the person's record\n",
        "            else: #can be 1st and a new person\n",
        "                if len(words)==5: #new word\n",
        "                    word_counter = word_counter+1\n",
        "                    hd_timeFrame_person.append(hd_timeFrame) \n",
        "                    hd_timeFrame = []\n",
        "                    new_word = True\n",
        "                    hd_timeFrame.append([words[0], words[1]])\n",
        "                else:\n",
        "                    new_word = False\n",
        "\n",
        "                if new_word == False:\n",
        "                    hd_timeFrame.append([words[0], words[1]])\n",
        "        counter = counter+1\n",
        "        \n",
        "hd_timeFrame_all[0].pop(0)\n",
        "for i in hd_timeFrame_all:\n",
        "    i.pop(0)"
      ],
      "execution_count": null,
      "outputs": []
    },
    {
      "cell_type": "code",
      "metadata": {
        "colab": {
          "base_uri": "https://localhost:8080/"
        },
        "id": "GWdlAlhudnfo",
        "outputId": "8f517772-c3f0-425a-d7bb-a756028406f7"
      },
      "source": [
        "len(hd_timeFrame_all[0])"
      ],
      "execution_count": null,
      "outputs": [
        {
          "output_type": "execute_result",
          "data": {
            "text/plain": [
              "68"
            ]
          },
          "metadata": {
            "tags": []
          },
          "execution_count": 110
        }
      ]
    },
    {
      "cell_type": "markdown",
      "metadata": {
        "id": "1AYx2e1ydos-"
      },
      "source": [
        "INSERT MISSING VALUES"
      ]
    },
    {
      "cell_type": "code",
      "metadata": {
        "colab": {
          "base_uri": "https://localhost:8080/"
        },
        "id": "3YhVUGgDYEXY",
        "outputId": "ce63163b-db83-4019-985b-6e8d44560db9"
      },
      "source": [
        "!pip install sox\n",
        "import sox"
      ],
      "execution_count": null,
      "outputs": [
        {
          "output_type": "stream",
          "text": [
            "Collecting sox\n",
            "  Downloading sox-1.4.1-py2.py3-none-any.whl (39 kB)\n",
            "Requirement already satisfied: numpy>=1.9.0 in /usr/local/lib/python3.7/dist-packages (from sox) (1.19.5)\n",
            "Installing collected packages: sox\n",
            "Successfully installed sox-1.4.1\n"
          ],
          "name": "stdout"
        },
        {
          "output_type": "stream",
          "text": [
            "SoX could not be found!\n",
            "\n",
            "    If you do not have SoX, proceed here:\n",
            "     - - - http://sox.sourceforge.net/ - - -\n",
            "\n",
            "    If you do (or think that you should) have SoX, double-check your\n",
            "    path variables.\n",
            "    \n"
          ],
          "name": "stderr"
        }
      ]
    },
    {
      "cell_type": "code",
      "metadata": {
        "colab": {
          "base_uri": "https://localhost:8080/"
        },
        "id": "dkZV_UHfWDo0",
        "outputId": "d651271d-9bc8-495d-aaa2-582381a0874f"
      },
      "source": [
        "# split audio files on words using noize\n",
        "!pip install pydub\n",
        "from pydub import AudioSegment\n",
        "from pydub.silence import split_on_silence\n",
        "!apt install -y ffmpeg"
      ],
      "execution_count": null,
      "outputs": [
        {
          "output_type": "stream",
          "text": [
            "Collecting pydub\n",
            "  Downloading pydub-0.25.1-py2.py3-none-any.whl (32 kB)\n",
            "Installing collected packages: pydub\n",
            "Successfully installed pydub-0.25.1\n",
            "Reading package lists... Done\n",
            "Building dependency tree       \n",
            "Reading state information... Done\n",
            "ffmpeg is already the newest version (7:3.4.8-0ubuntu0.2).\n",
            "0 upgraded, 0 newly installed, 0 to remove and 40 not upgraded.\n"
          ],
          "name": "stdout"
        }
      ]
    },
    {
      "cell_type": "code",
      "metadata": {
        "id": "IZop6O2vdqdO"
      },
      "source": [
        "md_timeFrame_all[0].insert(0, [['0','11900001'],['11900001','12200001'],['12200001','14000001'],['14000001','14500001']])\n",
        "hd_timeFrame_all[0].insert(0, [['0','4500000'],['4500000','4800000'],['4800000','5300000'],['5300000','6000000']])\n",
        "#turkey\n",
        "timeFrame_all[0].insert(0, [['0','12400000'],['12400000','12700000'],['12700000','14000000'],['14000000','14500000']])\n",
        "kr_timeFrame_all[0].insert(0, [['0','17300000'],['17300000','17600000'],['17600000','18500000'],['18500000','19500000']])"
      ],
      "execution_count": null,
      "outputs": []
    },
    {
      "cell_type": "code",
      "metadata": {
        "id": "xzdz3Er9dzPx"
      },
      "source": [
        "kr_phonemes[0].insert(0,['P','L','IY1','Z'])\n",
        "tk_phonemes[0].insert(0,['P','L','IY1','Z'])\n",
        "md_phonemes[0].insert(0,['P','L','IY1','Z'])\n",
        "hd_phonemes[0].insert(0,['P','L','IY1','Z'])"
      ],
      "execution_count": null,
      "outputs": []
    },
    {
      "cell_type": "code",
      "metadata": {
        "colab": {
          "base_uri": "https://localhost:8080/"
        },
        "id": "mE4Dr2nLbulk",
        "outputId": "c33d53fd-9ba6-4b4b-c98b-86cf9c39087e"
      },
      "source": [
        "md_timeFrame_all[0]"
      ],
      "execution_count": null,
      "outputs": [
        {
          "output_type": "execute_result",
          "data": {
            "text/plain": [
              "[[['0', '11900001'],\n",
              "  ['11900001', '12200001'],\n",
              "  ['12200001', '14000001'],\n",
              "  ['14000001', '14500001']],\n",
              " [['14500000', '16400000'],\n",
              "  ['16400000', '17900000'],\n",
              "  ['17900000', '18200000']],\n",
              " [['18200000', '20400000'],\n",
              "  ['20400000', '20700000'],\n",
              "  ['20700000', '24200000'],\n",
              "  ['24200000', '26100000'],\n",
              "  ['26100000', '26500000']],\n",
              " [['26500000', '28500000'],\n",
              "  ['28500000', '29200000'],\n",
              "  ['29200000', '30300000']],\n",
              " [['30300000', '31400000'], ['31400000', '33600000']],\n",
              " [['33600000', '34300000'], ['34300000', '34900000']],\n",
              " [['34900000', '36000000'],\n",
              "  ['36000000', '37300000'],\n",
              "  ['37300000', '37600000'],\n",
              "  ['37600000', '39500000']],\n",
              " [['39500000', '40000000'],\n",
              "  ['40000000', '40900000'],\n",
              "  ['40900000', '41400000']],\n",
              " [['41400000', '42500000'],\n",
              "  ['42500000', '43200000'],\n",
              "  ['43200000', '45400000'],\n",
              "  ['45400000', '48400000']],\n",
              " [['48400000', '49500000'],\n",
              "  ['49500000', '50200000'],\n",
              "  ['50200000', '51100000']],\n",
              " [['51100000', '52500000'], ['52500000', '54900000']],\n",
              " [['54900000', '57600000'],\n",
              "  ['57600000', '58500000'],\n",
              "  ['58500000', '59000000'],\n",
              "  ['59000000', '60000000']],\n",
              " [['60000000', '60300000'], ['60300000', '60700000']],\n",
              " [['60700000', '62200000'],\n",
              "  ['62200000', '62700000'],\n",
              "  ['62700000', '64900000'],\n",
              "  ['64900000', '65500000']],\n",
              " [['65500000', '72300000'],\n",
              "  ['72300000', '73200000'],\n",
              "  ['73200000', '74200000'],\n",
              "  ['74200000', '75200000']],\n",
              " [['75200000', '76500000'],\n",
              "  ['76500000', '77300000'],\n",
              "  ['77300000', '78200000'],\n",
              "  ['78200000', '79600000'],\n",
              "  ['79600000', '81500000']],\n",
              " [['81500000', '82300000'], ['82300000', '83200000']],\n",
              " [['83200000', '84400000'],\n",
              "  ['84400000', '85100000'],\n",
              "  ['85100000', '86400000'],\n",
              "  ['86400000', '86900000']],\n",
              " [['86900000', '89100000'],\n",
              "  ['89100000', '89900000'],\n",
              "  ['89900000', '91000000']],\n",
              " [['91000000', '92300000'],\n",
              "  ['92300000', '94300000'],\n",
              "  ['94300000', '94900000']],\n",
              " [['94900000', '103400000'],\n",
              "  ['103400000', '105200000'],\n",
              "  ['105200000', '105600000']],\n",
              " [['105600000', '107900000'],\n",
              "  ['107900000', '109400000'],\n",
              "  ['109400000', '110600000']],\n",
              " [['110600000', '112200000'],\n",
              "  ['112200000', '112600000'],\n",
              "  ['112600000', '114600000'],\n",
              "  ['114600000', '115800000'],\n",
              "  ['115800000', '116600000']],\n",
              " [['116600000', '117700000'], ['117700000', '119400000']],\n",
              " [['119400000', '119800000'],\n",
              "  ['119800000', '120100000'],\n",
              "  ['120100000', '121800000']],\n",
              " [['121800000', '123900000'],\n",
              "  ['123900000', '125600000'],\n",
              "  ['125600000', '129400000']],\n",
              " [['129400000', '131200000'],\n",
              "  ['131200000', '132400000'],\n",
              "  ['132400000', '134100000']],\n",
              " [['134100000', '135200000'],\n",
              "  ['135200000', '136200000'],\n",
              "  ['136200000', '136700000'],\n",
              "  ['136700000', '137700000']],\n",
              " [['137700000', '138400000']],\n",
              " [['138400000', '140000000'],\n",
              "  ['140000000', '140800000'],\n",
              "  ['140800000', '142200000'],\n",
              "  ['142200000', '143700000']],\n",
              " [['143700000', '146300000'],\n",
              "  ['146300000', '147600000'],\n",
              "  ['147600000', '147900000']],\n",
              " [['147900000', '149000000'], ['149000000', '149700000']],\n",
              " [['149700000', '151000000'],\n",
              "  ['151000000', '152000000'],\n",
              "  ['152000000', '153400000'],\n",
              "  ['153400000', '153800000'],\n",
              "  ['153800000', '154100000']],\n",
              " [['154100000', '155500000'],\n",
              "  ['155500000', '157600000'],\n",
              "  ['157600000', '165100000']],\n",
              " [['165100000', '165400000'], ['165400000', '166200000']],\n",
              " [['166200000', '167100000'],\n",
              "  ['167100000', '168300000'],\n",
              "  ['168300000', '169800000'],\n",
              "  ['169800000', '171100000']],\n",
              " [['171100000', '172100000'],\n",
              "  ['172100000', '173400000'],\n",
              "  ['173400000', '174000000']],\n",
              " [['174000000', '174800000']],\n",
              " [['174800000', '176100000'],\n",
              "  ['176100000', '177200000'],\n",
              "  ['177200000', '178200000'],\n",
              "  ['178200000', '178600000']],\n",
              " [['178600000', '179900000'],\n",
              "  ['179900000', '180300000'],\n",
              "  ['180300000', '181300000'],\n",
              "  ['181300000', '182300000'],\n",
              "  ['182300000', '183300000'],\n",
              "  ['183300000', '184400000'],\n",
              "  ['184400000', '186200000']],\n",
              " [['186200000', '186600000'],\n",
              "  ['186600000', '187600000'],\n",
              "  ['187600000', '189100000'],\n",
              "  ['189100000', '192400000']],\n",
              " [['192400000', '193800000'],\n",
              "  ['193800000', '194300000'],\n",
              "  ['194300000', '195300000']],\n",
              " [['195300000', '196400000']],\n",
              " [['196400000', '197100000'],\n",
              "  ['197100000', '197600000'],\n",
              "  ['197600000', '198600000']],\n",
              " [['198600000', '200500000'], ['200500000', '201700000']],\n",
              " [['201700000', '203300000'],\n",
              "  ['203300000', '204100000'],\n",
              "  ['204100000', '205800000'],\n",
              "  ['205800000', '207000000']],\n",
              " [['207000000', '210500000'],\n",
              "  ['210500000', '211300000'],\n",
              "  ['211300000', '211600000']],\n",
              " [['211600000', '212800000'], ['212800000', '213200000']],\n",
              " [['213200000', '214900000'],\n",
              "  ['214900000', '217100000'],\n",
              "  ['217100000', '217700000'],\n",
              "  ['217700000', '225000000']],\n",
              " [['225000000', '226300000'], ['226300000', '227100000']],\n",
              " [['227100000', '228000000'],\n",
              "  ['228000000', '228600000'],\n",
              "  ['228600000', '229000000']],\n",
              " [['229000000', '229800000'],\n",
              "  ['229800000', '230900000'],\n",
              "  ['230900000', '232500000'],\n",
              "  ['232500000', '233500000']],\n",
              " [['233500000', '235300000'],\n",
              "  ['235300000', '236400000'],\n",
              "  ['236400000', '236900000']],\n",
              " [['236900000', '238000000'],\n",
              "  ['238000000', '238800000'],\n",
              "  ['238800000', '240600000'],\n",
              "  ['240600000', '242800000']],\n",
              " [['242800000', '243700000'],\n",
              "  ['243700000', '244900000'],\n",
              "  ['244900000', '245600000'],\n",
              "  ['245600000', '247300000']],\n",
              " [['247300000', '248500000'],\n",
              "  ['248500000', '249500000'],\n",
              "  ['249500000', '251400000']],\n",
              " [['251400000', '252100000'],\n",
              "  ['252100000', '253300000'],\n",
              "  ['253300000', '254600000']],\n",
              " [['254600000', '255100000'],\n",
              "  ['255100000', '257400000'],\n",
              "  ['257400000', '258100000'],\n",
              "  ['258100000', '260300000']],\n",
              " [['260300000', '262200000'],\n",
              "  ['262200000', '263300000'],\n",
              "  ['263300000', '268200000']],\n",
              " [['268200000', '268900000'], ['268900000', '269800000']],\n",
              " [['269800000', '270400000'],\n",
              "  ['270400000', '272200000'],\n",
              "  ['272200000', '273700000']],\n",
              " [['273700000', '275300000'], ['275300000', '276800000']],\n",
              " [['276800000', '277900000'],\n",
              "  ['277900000', '279500000'],\n",
              "  ['279500000', '280500000']],\n",
              " [['280500000', '281500000'], ['281500000', '284600000']],\n",
              " [['284600000', '286000000'],\n",
              "  ['286000000', '286700000'],\n",
              "  ['286700000', '287000000'],\n",
              "  ['287000000', '287700000'],\n",
              "  ['287700000', '288400000'],\n",
              "  ['288400000', '289600000']],\n",
              " [['289600000', '291200000'], ['291200000', '292300000']],\n",
              " [['292300000', '293600000'], ['293600000', '294200000']],\n",
              " [['294200000', '296400000'],\n",
              "  ['296400000', '296700000'],\n",
              "  ['296700000', '297600000'],\n",
              "  ['297600000', '298100000']],\n",
              " [['298100000', '299200000'],\n",
              "  ['299200000', '299900000'],\n",
              "  ['299900000', '300700000'],\n",
              "  ['300700000', '302500000'],\n",
              "  ['302500000', '302800000'],\n",
              "  ['302800000', '321700000']]]"
            ]
          },
          "metadata": {
            "tags": []
          },
          "execution_count": 152
        }
      ]
    },
    {
      "cell_type": "code",
      "metadata": {
        "id": "O-S-QywTd68N",
        "colab": {
          "base_uri": "https://localhost:8080/"
        },
        "outputId": "f22ea2bc-70a9-412a-bae5-f1521c23c5fe"
      },
      "source": [
        "kr_timeFrame_all[0][0]"
      ],
      "execution_count": null,
      "outputs": [
        {
          "output_type": "execute_result",
          "data": {
            "text/plain": [
              "[['0', '17300000'],\n",
              " ['17300000', '17600000'],\n",
              " ['17600000', '18500000'],\n",
              " ['18500000', '19500000']]"
            ]
          },
          "metadata": {
            "tags": []
          },
          "execution_count": 50
        }
      ]
    },
    {
      "cell_type": "code",
      "metadata": {
        "colab": {
          "base_uri": "https://localhost:8080/"
        },
        "id": "GD8QupXel6Nf",
        "outputId": "ad42d43d-9c97-45ab-d92f-dd3c7bcb7ccf"
      },
      "source": [
        "second_kr = (17300000/10000000 + 0.0125)*(11000/11025)\n",
        "second_kr_end = (17600000/10000000 + 0.0125)*(11000/11025)\n",
        "(17300000/10000000 + 0.0125)*(11000/11025)\n",
        "(17600000/10000000 + 0.0125)*(11000/11025)\n",
        "(18500000/10000000 + 0.0125)*(11000/11025)\n",
        "(19500000/10000000 + 0.0125)*(11000/11025)"
      ],
      "execution_count": null,
      "outputs": [
        {
          "output_type": "execute_result",
          "data": {
            "text/plain": [
              "1.958049886621315"
            ]
          },
          "metadata": {
            "tags": []
          },
          "execution_count": 51
        }
      ]
    },
    {
      "cell_type": "markdown",
      "metadata": {
        "id": "CeZbbenid_H8"
      },
      "source": [
        "ONE HOT ENCODING The WoRDS"
      ]
    },
    {
      "cell_type": "code",
      "metadata": {
        "id": "V2VzuUQVgnBF"
      },
      "source": [],
      "execution_count": null,
      "outputs": []
    },
    {
      "cell_type": "markdown",
      "metadata": {
        "id": "UBJm9OT8P43e"
      },
      "source": [
        "Getting Audio Features"
      ]
    },
    {
      "cell_type": "code",
      "metadata": {
        "id": "L3YLV5AiV8Vi"
      },
      "source": [
        "!mkdir wav_file"
      ],
      "execution_count": null,
      "outputs": []
    },
    {
      "cell_type": "code",
      "metadata": {
        "colab": {
          "base_uri": "https://localhost:8080/"
        },
        "id": "rLjhBusOP61j",
        "outputId": "9138d41f-6515-4783-e2a1-14431ea16dc0"
      },
      "source": [
        "# upload wav files converted from mp3 files\n",
        "counter=0\n",
        "for index,filename in enumerate(df_mod.filename):\n",
        "    path = 'recordings/recordings/{0}.mp3'.format(filename) \n",
        "    os.mkdir(\"wav_file/%s\" % filename)\n",
        "    dst = 'wav_file/{0}/{0}.wav'.format(filename)\n",
        "    sound = AudioSegment.from_mp3(path)\n",
        "    sound.export(dst, format=\"wav\")\n",
        "    counter=counter+1   \n",
        "print(counter)\n"
      ],
      "execution_count": null,
      "outputs": [
        {
          "output_type": "stream",
          "text": [
            "172\n"
          ],
          "name": "stdout"
        }
      ]
    },
    {
      "cell_type": "code",
      "metadata": {
        "colab": {
          "base_uri": "https://localhost:8080/",
          "height": 276
        },
        "id": "foZB_lDuZy9y",
        "outputId": "8621b59b-2df1-47f1-8160-c0acbb1a21c4"
      },
      "source": [
        "import matplotlib.pyplot as plt\n",
        "from scipy.io import wavfile as wav\n",
        "from scipy.fftpack import fft\n",
        "import numpy as np\n",
        "rate, data = wav.read('wav_file/hindi1/hindi1.wav')\n",
        "fft_out = fft(data)\n",
        "%matplotlib inline\n",
        "plt.plot(data, np.abs(fft_out))\n",
        "plt.show()"
      ],
      "execution_count": null,
      "outputs": [
        {
          "output_type": "display_data",
          "data": {
            "image/png": "[encoded data removed]",
            "text/plain": [
              "<Figure size 432x288 with 1 Axes>"
            ]
          },
          "metadata": {
            "tags": [],
            "needs_background": "light"
          }
        }
      ]
    },
    {
      "cell_type": "code",
      "metadata": {
        "id": "WLzyaEJ4iIhK"
      },
      "source": [
        "import matplotlib.pyplot as plt\n",
        "import numpy as np\n",
        "from scipy.io import wavfile\n",
        "%matplotlib inline\n",
        "plt.rcParams['figure.dpi'] = 100\n",
        "plt.rcParams['figure.figsize'] = (9, 7)\n",
        "sampFreq, sound = wavfile.read('wav_file/hindi1/hindi1.wav')"
      ],
      "execution_count": null,
      "outputs": []
    },
    {
      "cell_type": "code",
      "metadata": {
        "colab": {
          "base_uri": "https://localhost:8080/"
        },
        "id": "RdSfeDTjjH5j",
        "outputId": "cb8ffd0c-b52b-4773-8d57-c72fbee1fffc"
      },
      "source": [
        "sound.dtype, sampFreq"
      ],
      "execution_count": null,
      "outputs": [
        {
          "output_type": "execute_result",
          "data": {
            "text/plain": [
              "(dtype('int16'), 44100)"
            ]
          },
          "metadata": {
            "tags": []
          },
          "execution_count": 56
        }
      ]
    },
    {
      "cell_type": "code",
      "metadata": {
        "colab": {
          "base_uri": "https://localhost:8080/"
        },
        "id": "WUIWVfoRjJeE",
        "outputId": "a366ee58-7810-4c4b-f3e0-16ce91d75254"
      },
      "source": [
        "sound"
      ],
      "execution_count": null,
      "outputs": [
        {
          "output_type": "execute_result",
          "data": {
            "text/plain": [
              "array([ -83, -106,  -84, ...,  -40,   -8,  -20], dtype=int16)"
            ]
          },
          "metadata": {
            "tags": []
          },
          "execution_count": 57
        }
      ]
    },
    {
      "cell_type": "code",
      "metadata": {
        "colab": {
          "base_uri": "https://localhost:8080/"
        },
        "id": "6ChI-zsQjR6P",
        "outputId": "dbaf0ef4-9d75-4d89-df51-b8389be6aa83"
      },
      "source": [
        "sound = sound / 2.0**15\n",
        "sound"
      ],
      "execution_count": null,
      "outputs": [
        {
          "output_type": "execute_result",
          "data": {
            "text/plain": [
              "array([-0.00253296, -0.00323486, -0.00256348, ..., -0.0012207 ,\n",
              "       -0.00024414, -0.00061035])"
            ]
          },
          "metadata": {
            "tags": []
          },
          "execution_count": 58
        }
      ]
    },
    {
      "cell_type": "code",
      "metadata": {
        "colab": {
          "base_uri": "https://localhost:8080/"
        },
        "id": "TxkUyE_hjXTK",
        "outputId": "31454569-4c0f-4194-d79e-81b2326d1e49"
      },
      "source": [
        "sound.shape"
      ],
      "execution_count": null,
      "outputs": [
        {
          "output_type": "execute_result",
          "data": {
            "text/plain": [
              "(1159168,)"
            ]
          },
          "metadata": {
            "tags": []
          },
          "execution_count": 59
        }
      ]
    },
    {
      "cell_type": "code",
      "metadata": {
        "colab": {
          "base_uri": "https://localhost:8080/",
          "height": 623
        },
        "id": "hcGCoodvkxYo",
        "outputId": "3e1d09e0-581d-4a1d-eb30-fc66427c505a"
      },
      "source": [
        "SAMPLE_RATE = 6000\n",
        "fname_f = 'wav_file/hindi1/hindi1.wav' \n",
        "\n",
        "a = (17300000/10000000 + 0.0125)*(11000/11025)\n",
        "b = (17600000/10000000 + 0.0125)*(11000/11025)\n",
        "c = (18500000/10000000 + 0.0125)*(11000/11025)\n",
        "d = (19500000/10000000 + 0.0125)*(11000/11025)\n",
        "\n",
        "# audio, sr = librosa.load(fname_f, sr=SAMPLE_RATE, duration = 1.8582766439909297-1.7684807256235826, offset=1.7684807256235826)\n",
        "y_1, sr = librosa.load(fname_f, sr=SAMPLE_RATE, duration = a-0.4 ,offset=0.4)\n",
        "y_2, sr = librosa.load(fname_f, sr=SAMPLE_RATE, duration = b-a ,offset=a)\n",
        "y_3, sr = librosa.load(fname_f, sr=SAMPLE_RATE, duration = c-b ,offset=b)\n",
        "y_4, sr = librosa.load(fname_f, sr=SAMPLE_RATE, duration = d-c ,offset=c)\n",
        "# \n",
        "# plt.figure(figsize=(12, 3))\n",
        "plt.figure()\n",
        "librosa.display.waveplot(y_2, sr=sr)\n",
        "xmin, xmax, ymin, ymax = plt.axis()\n",
        "print(ymax)\n",
        "# plt.title('Audio sampled at 6000 hrz')"
      ],
      "execution_count": null,
      "outputs": [
        {
          "output_type": "stream",
          "text": [
            "0.6213915526866913\n"
          ],
          "name": "stdout"
        },
        {
          "output_type": "display_data",
          "data": {
            "image/png": "[encoded data removed]",
            "text/plain": [
              "<Figure size 900x700 with 1 Axes>"
            ]
          },
          "metadata": {
            "tags": [],
            "needs_background": "light"
          }
        }
      ]
    },
    {
      "cell_type": "code",
      "metadata": {
        "colab": {
          "base_uri": "https://localhost:8080/"
        },
        "id": "TsT7EwZ2-xP3",
        "outputId": "e1715cc6-018d-4459-f43a-7c34335d01d9"
      },
      "source": [
        "len(y_2)"
      ],
      "execution_count": null,
      "outputs": [
        {
          "output_type": "execute_result",
          "data": {
            "text/plain": [
              "180"
            ]
          },
          "metadata": {
            "tags": []
          },
          "execution_count": 267
        }
      ]
    },
    {
      "cell_type": "code",
      "metadata": {
        "colab": {
          "base_uri": "https://localhost:8080/"
        },
        "id": "Vi6yW3tGykfB",
        "outputId": "30ec90ee-0560-4bba-f792-3673fe93a62f"
      },
      "source": [
        "print(\"{0},{1},{2},{3}\".format(a,b,c,d))\n"
      ],
      "execution_count": null,
      "outputs": [
        {
          "output_type": "stream",
          "text": [
            "1.738548752834467,1.7684807256235826,1.8582766439909297,1.958049886621315\n"
          ],
          "name": "stdout"
        }
      ]
    },
    {
      "cell_type": "code",
      "metadata": {
        "colab": {
          "base_uri": "https://localhost:8080/"
        },
        "id": "zNRA9IUKytad",
        "outputId": "cccae49d-b61a-444b-a521-6561162fffe7"
      },
      "source": [
        "print(b-a)"
      ],
      "execution_count": null,
      "outputs": [
        {
          "output_type": "stream",
          "text": [
            "0.029931972789115635\n"
          ],
          "name": "stdout"
        }
      ]
    },
    {
      "cell_type": "code",
      "metadata": {
        "colab": {
          "base_uri": "https://localhost:8080/"
        },
        "id": "2L7zIlF2UM9F",
        "outputId": "e40bd3a6-93e9-4e4f-ae38-f26a214deb60"
      },
      "source": [
        "max(y_4)"
      ],
      "execution_count": null,
      "outputs": [
        {
          "output_type": "execute_result",
          "data": {
            "text/plain": [
              "0.073806316"
            ]
          },
          "metadata": {
            "tags": []
          },
          "execution_count": 274
        }
      ]
    },
    {
      "cell_type": "markdown",
      "metadata": {
        "id": "p74J8SbEVBJT"
      },
      "source": [
        "GET PEAKS USinG PROMINENCE"
      ]
    },
    {
      "cell_type": "code",
      "metadata": {
        "colab": {
          "base_uri": "https://localhost:8080/",
          "height": 588
        },
        "id": "Ie5bQ4uMnRse",
        "outputId": "8ccfbf44-9d3d-4eed-ad7f-402a07b88e21"
      },
      "source": [
        "#https://stackoverflow.com/questions/1713335/peak-finding-algorithm-for-python-scipy\n",
        "import numpy as np\n",
        "import matplotlib.pyplot as plt \n",
        "from scipy.signal import find_peaks, peak_prominences\n",
        "\n",
        "peaks, _ = find_peaks(y_1, prominence=0.4)\n",
        "peaks2, _ = find_peaks(y_2, prominence=0.4)      \n",
        "peaks3, _ = find_peaks(y_3, prominence=0.4)\n",
        "peaks4, _ = find_peaks(y_4, prominence=0.4)     \n",
        "plt.subplot(2, 2, 1)\n",
        "plt.plot(peaks, y_1[peaks], \"xr\"); plt.plot(y_1); plt.legend(['distance'])\n",
        "plt.subplot(2, 2, 2)\n",
        "plt.plot(peaks2, y_2[peaks2], \"xr\"); plt.plot(y_2); plt.legend(['distance'])\n",
        "plt.subplot(2, 2, 3)\n",
        "plt.plot(peaks3, y_3[peaks3], \"xr\"); plt.plot(y_3); plt.legend(['distance'])\n",
        "plt.subplot(2, 2, 4)\n",
        "plt.plot(peaks4, y_4[peaks4], \"xr\"); plt.plot(y_4); plt.legend(['distance'])\n",
        "plt.show()"
      ],
      "execution_count": null,
      "outputs": [
        {
          "output_type": "display_data",
          "data": {
            "image/png": "[encoded data removed]",
            "text/plain": [
              "<Figure size 900x700 with 4 Axes>"
            ]
          },
          "metadata": {
            "tags": [],
            "needs_background": "light"
          }
        }
      ]
    },
    {
      "cell_type": "code",
      "metadata": {
        "colab": {
          "base_uri": "https://localhost:8080/"
        },
        "id": "sKv5CnaGooEk",
        "outputId": "a581cc78-b3d8-41bd-aa26-d12ba7ee32b8"
      },
      "source": [
        "#peaks of waves\n",
        "peaks #x val in plot"
      ],
      "execution_count": null,
      "outputs": [
        {
          "output_type": "execute_result",
          "data": {
            "text/plain": [
              "array([ 552,  595,  618,  637,  677,  714,  751,  788,  825, 1844, 1885,\n",
              "       1897, 1931, 1943, 1978, 1989, 2025, 2037, 2073, 2085, 2112, 2135,\n",
              "       2161, 2186, 2270, 3368, 3381, 3418, 3431, 3469, 3481, 3494, 3521,\n",
              "       3533, 3573, 3587, 3631, 3643, 3655, 3700, 3711, 3757, 4042, 4056,\n",
              "       4099, 4113, 4156, 4170, 4227, 4269, 4283, 4338, 7739, 7750, 7759,\n",
              "       7799, 7808, 7850, 7859, 7901, 7910, 7919, 7950, 7959, 7969, 7997,\n",
              "       8008, 8017])"
            ]
          },
          "metadata": {
            "tags": []
          },
          "execution_count": 219
        }
      ]
    },
    {
      "cell_type": "code",
      "metadata": {
        "colab": {
          "base_uri": "https://localhost:8080/"
        },
        "id": "MAHHw-WLtv5M",
        "outputId": "c68c80d6-9327-480c-f443-6bf17182261c"
      },
      "source": [
        "y_1[peaks] #y val of peaks in plot"
      ],
      "execution_count": null,
      "outputs": [
        {
          "output_type": "execute_result",
          "data": {
            "text/plain": [
              "array([0.20454273, 0.24612665, 0.19163428, 0.2850696 , 0.3117335 ,\n",
              "       0.34317696, 0.29367715, 0.27430224, 0.2185795 , 0.1710267 ,\n",
              "       0.2808045 , 0.327683  , 0.1803302 , 0.29740024, 0.20099775,\n",
              "       0.25633895, 0.25637376, 0.27330056, 0.21791065, 0.3862191 ,\n",
              "       0.18137552, 0.23135173, 0.1862267 , 0.17814162, 0.18328711,\n",
              "       0.21264447, 0.21823902, 0.22685473, 0.23389612, 0.29984486,\n",
              "       0.2506994 , 0.22270688, 0.3193329 , 0.28146875, 0.22023956,\n",
              "       0.26302475, 0.25308475, 0.3107183 , 0.23190409, 0.31093323,\n",
              "       0.24819085, 0.22683752, 0.16591877, 0.24695203, 0.2107157 ,\n",
              "       0.3357455 , 0.2136135 , 0.28475603, 0.26431125, 0.21701035,\n",
              "       0.25063112, 0.21241638, 0.18416911, 0.29392657, 0.2116222 ,\n",
              "       0.21110833, 0.29165074, 0.20709144, 0.25201342, 0.22371538,\n",
              "       0.2796546 , 0.20433725, 0.23592333, 0.37454316, 0.23888756,\n",
              "       0.20697851, 0.39656603, 0.23584232], dtype=float32)"
            ]
          },
          "metadata": {
            "tags": []
          },
          "execution_count": 220
        }
      ]
    },
    {
      "cell_type": "code",
      "metadata": {
        "colab": {
          "base_uri": "https://localhost:8080/"
        },
        "id": "2-YDGMOMtzj8",
        "outputId": "4e35253f-39ea-4c8f-9982-605181a282f4"
      },
      "source": [
        "# of peaks\n",
        "len(peaks)"
      ],
      "execution_count": null,
      "outputs": [
        {
          "output_type": "execute_result",
          "data": {
            "text/plain": [
              "68"
            ]
          },
          "metadata": {
            "tags": []
          },
          "execution_count": 221
        }
      ]
    },
    {
      "cell_type": "markdown",
      "metadata": {
        "id": "Xp3RKfFWVEBn"
      },
      "source": [
        "GET CRESTS USING PROMINENCE"
      ]
    },
    {
      "cell_type": "code",
      "metadata": {
        "colab": {
          "base_uri": "https://localhost:8080/",
          "height": 588
        },
        "id": "qQ8eIg0iQTb2",
        "outputId": "372fc1ad-5628-4722-b058-91b72a9ac393"
      },
      "source": [
        "#crests\n",
        "import numpy as np\n",
        "import matplotlib.pyplot as plt \n",
        "from scipy.signal import find_peaks, peak_prominences\n",
        "\n",
        "y_1_inverted = -y_1\n",
        "y_2_inverted = -y_2\n",
        "y_3_inverted = -y_3\n",
        "y_4_inverted = -y_4\n",
        "\n",
        "crest, _ = find_peaks(y_1_inverted, prominence=0.5)\n",
        "crest2, _ = find_peaks(y_2_inverted, prominence=0.5)      \n",
        "crest3, _ = find_peaks(y_3_inverted, prominence=0.5)\n",
        "crest4, _ = find_peaks(y_4_inverted, prominence=0.073806316)     \n",
        "plt.subplot(2, 2, 1)\n",
        "plt.plot(crest, y_1[crest], \"xr\"); plt.plot(y_1); plt.legend(['distance'])\n",
        "plt.subplot(2, 2, 2)\n",
        "plt.plot(crest2, y_2[crest2], \"xr\"); plt.plot(y_2); plt.legend(['distance'])\n",
        "plt.subplot(2, 2, 3)\n",
        "plt.plot(crest3, y_3[crest3], \"xr\"); plt.plot(y_3); plt.legend(['distance'])\n",
        "plt.subplot(2, 2, 4)\n",
        "plt.plot(crest4, y_4[crest4], \"xr\"); plt.plot(y_4); plt.legend(['distance'])\n",
        "plt.show()"
      ],
      "execution_count": null,
      "outputs": [
        {
          "output_type": "display_data",
          "data": {
            "image/png": "[encoded data removed]",
            "text/plain": [
              "<Figure size 900x700 with 4 Axes>"
            ]
          },
          "metadata": {
            "tags": [],
            "needs_background": "light"
          }
        }
      ]
    },
    {
      "cell_type": "code",
      "metadata": {
        "colab": {
          "base_uri": "https://localhost:8080/"
        },
        "id": "FiP5G-khS0vL",
        "outputId": "829d79e1-5525-4a47-8b3d-4ef9e6cdc705"
      },
      "source": [
        "len(crest)"
      ],
      "execution_count": null,
      "outputs": [
        {
          "output_type": "execute_result",
          "data": {
            "text/plain": [
              "45"
            ]
          },
          "metadata": {
            "tags": []
          },
          "execution_count": 223
        }
      ]
    },
    {
      "cell_type": "code",
      "metadata": {
        "colab": {
          "base_uri": "https://localhost:8080/"
        },
        "id": "i56stC0jTdF0",
        "outputId": "ede862ae-c2ad-4937-9d9c-0ae82e2bb307"
      },
      "source": [
        "y_1[crest]"
      ],
      "execution_count": null,
      "outputs": [
        {
          "output_type": "execute_result",
          "data": {
            "text/plain": [
              "array([-0.33159664, -0.3680815 , -0.34521085, -0.319807  , -0.36198235,\n",
              "       -0.34419203, -0.35582834, -0.32838103, -0.42308754, -0.36947966,\n",
              "       -0.33349177, -0.37180746, -0.37578517, -0.31682843, -0.3648739 ,\n",
              "       -0.38961712, -0.46261096, -0.2769766 , -0.4581047 , -0.29202268,\n",
              "       -0.42192844, -0.27017754, -0.47198695, -0.31494847, -0.48756376,\n",
              "       -0.30156726, -0.3895356 , -0.333227  , -0.41425866, -0.4188229 ,\n",
              "       -0.36113206, -0.3704976 , -0.30832478, -0.46628758, -0.34133807,\n",
              "       -0.48868343, -0.36022687, -0.49749678, -0.29229033, -0.5251105 ,\n",
              "       -0.38734695, -0.5929251 , -0.46198335, -0.58402926, -0.41902548],\n",
              "      dtype=float32)"
            ]
          },
          "metadata": {
            "tags": []
          },
          "execution_count": 224
        }
      ]
    },
    {
      "cell_type": "code",
      "metadata": {
        "id": "-PVFimX2TfFB"
      },
      "source": [
        "#frequency\n"
      ],
      "execution_count": null,
      "outputs": []
    },
    {
      "cell_type": "code",
      "metadata": {
        "id": "p1cbMzmxZB6k"
      },
      "source": [
        "def prom_crest_and_troughs(timeFrame, filename):\n",
        "  SAMPLE_RATE = 6000\n",
        "  fname_f = 'wav_file/{0}/{0}.wav'.format(filename)\n",
        "\n",
        "  startTime = timeFrame[0]\n",
        "  endTime = timeFrame[1]\n",
        "  startTime = (startTime/10000000 + 0.0125)*(11000/11025)\n",
        "  endTime = (endTime/10000000 + 0.0125)*(11000/11025)\n",
        "  duration = endTime - startTime\n",
        "\n",
        "  x, sr = librosa.load(fname_f, sr=SAMPLE_RATE, duration = duration, offset=startTime)\n",
        "  ymax = max(x)\n",
        "\n",
        "  peaks, _ = find_peaks(x, prominence=ymax)\n",
        "\n",
        "  x_inverted = -x\n",
        "  crests, _ = find_peaks(x_inverted, prominence=ymax)\n",
        "\n",
        "  x_peaks = peaks\n",
        "  y_peaks = x[peaks]\n",
        "\n",
        "  x_troughs = crests\n",
        "  y_troughs = x[crests]\n",
        "\n",
        "  return x_peaks, y_peaks, x_troughs, y_troughs\n"
      ],
      "execution_count": null,
      "outputs": []
    },
    {
      "cell_type": "code",
      "metadata": {
        "id": "Qz55u9ssaPDx"
      },
      "source": [
        "def all_crest_and_troughs(timeFrame, filename):\n",
        "  SAMPLE_RATE = 6000\n",
        "  fname_f = 'wav_file/{0}/{0}.wav'.format(filename)\n",
        "\n",
        "  startTime = timeFrame[0]\n",
        "  endTime = timeFrame[1]\n",
        "  startTime = (startTime/10000000 + 0.0125)*(11000/11025)\n",
        "  endTime = (endTime/10000000 + 0.0125)*(11000/11025)\n",
        "  duration = endTime - startTime\n",
        "\n",
        "  x, sr = librosa.load(fname_f, sr=SAMPLE_RATE, duration = duration ,offset=startTime)\n",
        "\n",
        "  peaks, _ = find_peaks(x)\n",
        "\n",
        "  x_inverted = -x\n",
        "  crests, _ = find_peaks(x_inverted)\n",
        "\n",
        "  x_peaks = peaks\n",
        "  y_peaks = x[peaks]\n",
        "\n",
        "  x_troughs = crests\n",
        "  y_troughs = x[crests]\n",
        "\n",
        "  return x_peaks, y_peaks, x_troughs, y_troughs\n"
      ],
      "execution_count": null,
      "outputs": []
    },
    {
      "cell_type": "code",
      "metadata": {
        "colab": {
          "base_uri": "https://localhost:8080/"
        },
        "id": "W2iAFbleUkJE",
        "outputId": "048e5715-3123-4338-a121-5d7ac4cb21b8"
      },
      "source": [
        "transcript = \"Please call Stella  Ask her to bring these things with her from the store Six spoons of fresh snow peas five thick slabs of blue cheese and maybe a snack for her brother Bob We also need a small plastic snake and a big toy frog for the kids She can scoop these things into three red bags and we will go meet her Wednesday at the train station\"\n",
        "words = transcript.split()\n",
        "words[:5]"
      ],
      "execution_count": null,
      "outputs": [
        {
          "output_type": "execute_result",
          "data": {
            "text/plain": [
              "['Please', 'call', 'Stella', 'Ask', 'her']"
            ]
          },
          "metadata": {
            "tags": []
          },
          "execution_count": 137
        }
      ]
    },
    {
      "cell_type": "code",
      "metadata": {
        "id": "RtFrbJDaVztE"
      },
      "source": [
        "from sklearn.preprocessing import LabelBinarizer\n",
        "words_encoder = LabelBinarizer()\n",
        "words_encoder.fit(words)\n",
        "transformed = words_encoder.transform([words[2],words[1]])\n",
        "# df_person = pd.concat([df_person, ohe_df], axis=1)"
      ],
      "execution_count": null,
      "outputs": []
    },
    {
      "cell_type": "code",
      "metadata": {
        "colab": {
          "base_uri": "https://localhost:8080/"
        },
        "id": "zjIUD_DkXqzC",
        "outputId": "0a13269e-eab3-470d-bcee-a9d5b6e407f0"
      },
      "source": [
        "transformed"
      ],
      "execution_count": null,
      "outputs": [
        {
          "output_type": "execute_result",
          "data": {
            "text/plain": [
              "array([[0, 0, 0, 0, 0, 1, 0, 0, 0, 0, 0, 0, 0, 0, 0, 0, 0, 0, 0, 0, 0, 0,\n",
              "        0, 0, 0, 0, 0, 0, 0, 0, 0, 0, 0, 0, 0, 0, 0, 0, 0, 0, 0, 0, 0, 0,\n",
              "        0, 0, 0, 0, 0, 0, 0, 0, 0, 0, 0, 0],\n",
              "       [0, 0, 0, 0, 0, 0, 0, 0, 0, 0, 0, 0, 0, 0, 0, 0, 0, 1, 0, 0, 0, 0,\n",
              "        0, 0, 0, 0, 0, 0, 0, 0, 0, 0, 0, 0, 0, 0, 0, 0, 0, 0, 0, 0, 0, 0,\n",
              "        0, 0, 0, 0, 0, 0, 0, 0, 0, 0, 0, 0]])"
            ]
          },
          "metadata": {
            "tags": []
          },
          "execution_count": 76
        }
      ]
    },
    {
      "cell_type": "code",
      "metadata": {
        "colab": {
          "base_uri": "https://localhost:8080/"
        },
        "id": "Kdd3Bf11XzbT",
        "outputId": "8c771946-84ef-4446-ec17-82739536f7e1"
      },
      "source": [
        "timeFrame_all[0][1]"
      ],
      "execution_count": null,
      "outputs": [
        {
          "output_type": "execute_result",
          "data": {
            "text/plain": [
              "[['14500000', '16000000'], ['16000000', '16500000'], ['16500000', '17300000']]"
            ]
          },
          "metadata": {
            "tags": []
          },
          "execution_count": 78
        }
      ]
    },
    {
      "cell_type": "code",
      "metadata": {
        "id": "WwVF27EiX2y6"
      },
      "source": [],
      "execution_count": null,
      "outputs": []
    },
    {
      "cell_type": "markdown",
      "metadata": {
        "id": "LJbeHuliX_nT"
      },
      "source": [
        "CONVERT"
      ]
    },
    {
      "cell_type": "code",
      "metadata": {
        "colab": {
          "base_uri": "https://localhost:8080/",
          "height": 78
        },
        "id": "V1Poh6DZYZ68",
        "outputId": "59b49a1d-0df9-4c61-94d7-7b7cca12d43d"
      },
      "source": [
        "# Read the transcript from csv\n",
        "dataset = pd.read_csv('transcript.csv', dtype=str)\n",
        "dataset = dataset.drop(['Unnamed: 0'], axis = 1)\n",
        "dataset.head()"
      ],
      "execution_count": null,
      "outputs": [
        {
          "output_type": "execute_result",
          "data": {
            "text/html": [
              "<div>\n",
              "<style scoped>\n",
              "    .dataframe tbody tr th:only-of-type {\n",
              "        vertical-align: middle;\n",
              "    }\n",
              "\n",
              "    .dataframe tbody tr th {\n",
              "        vertical-align: top;\n",
              "    }\n",
              "\n",
              "    .dataframe thead th {\n",
              "        text-align: right;\n",
              "    }\n",
              "</style>\n",
              "<table border=\"1\" class=\"dataframe\">\n",
              "  <thead>\n",
              "    <tr style=\"text-align: right;\">\n",
              "      <th></th>\n",
              "      <th>transcript</th>\n",
              "    </tr>\n",
              "  </thead>\n",
              "  <tbody>\n",
              "    <tr>\n",
              "      <th>0</th>\n",
              "      <td>Please call Stella  Ask her to bring these thi...</td>\n",
              "    </tr>\n",
              "  </tbody>\n",
              "</table>\n",
              "</div>"
            ],
            "text/plain": [
              "                                          transcript\n",
              "0  Please call Stella  Ask her to bring these thi..."
            ]
          },
          "metadata": {
            "tags": []
          },
          "execution_count": 81
        }
      ]
    },
    {
      "cell_type": "code",
      "metadata": {
        "id": "aI5rx_qHYfrR"
      },
      "source": [
        "\n",
        "def tokenize_corpus(corpus, num_words=-1):\n",
        "  # Fit a Tokenizer on the corpus\n",
        "  if num_words > -1:\n",
        "    tokenizer = Tokenizer(num_words=num_words)\n",
        "  else:\n",
        "    tokenizer = Tokenizer()\n",
        "  tokenizer.fit_on_texts(corpus)\n",
        "  return tokenizer\n",
        "\n",
        "def create_corpus(dataset, field):\n",
        "  # Remove all other punctuation\n",
        "  dataset[field] = dataset[field].str.replace('[{}]'.format(string.punctuation), '')\n",
        "  # Make it lowercase\n",
        "  dataset[field] = dataset[field].str.upper()\n",
        "  # Make it one long string to split by line\n",
        "  lyrics = dataset[field].str.cat()\n",
        "  corpus = lyrics.split('\\n')\n",
        "  # Remove any trailing whitespace\n",
        "  for l in range(len(corpus)):\n",
        "    corpus[l] = corpus[l].rstrip()\n",
        "  # Remove any empty lines\n",
        "  corpus = [l for l in corpus if l != '']\n",
        "\n",
        "  return corpus\n",
        "\n",
        "def create_corpus_string(string_rc):\n",
        "  # Remove all other punctuation\n",
        "  string_rc = string_rc.replace('[{}]'.format(string.punctuation), '')\n",
        "  # Make it lowercase\n",
        "  string_rc = string_rc.upper()\n",
        "  # Make it one long string to split by line\n",
        "  lyrics = string_rc.cat()\n",
        "  corpus = lyrics.split('\\n')\n",
        "  # Remove any trailing whitespace\n",
        "  for l in range(len(corpus)):\n",
        "    corpus[l] = corpus[l].rstrip()\n",
        "  # Remove any empty lines\n",
        "  corpus = [l for l in corpus if l != '']\n",
        "\n",
        "  return corpus"
      ],
      "execution_count": null,
      "outputs": []
    },
    {
      "cell_type": "code",
      "metadata": {
        "id": "bDaryUSJYwrk"
      },
      "source": [
        "# Create the corpus using the 'transcript' column containing the transcript\n",
        "corpus = create_corpus(dataset, 'transcript')\n",
        "# Tokenize the corpus\n",
        "tokenizer = tokenize_corpus(corpus, num_words=100)\n",
        "total_words = tokenizer.num_words\n",
        "\n",
        "\n",
        "sequences = tokenizer.texts_to_sequences(dataset['transcript'])\n",
        "one_hot_results = tokenizer.texts_to_matrix(dataset['transcript'], mode='binary')\n",
        "word_index = tokenizer.word_index\n"
      ],
      "execution_count": null,
      "outputs": []
    },
    {
      "cell_type": "code",
      "metadata": {
        "colab": {
          "base_uri": "https://localhost:8080/"
        },
        "id": "2hKmdJbvYyDb",
        "outputId": "dfe1de8e-6f03-4117-8580-23021fe52eaa"
      },
      "source": [
        "word_index[\"please\"]"
      ],
      "execution_count": null,
      "outputs": [
        {
          "output_type": "execute_result",
          "data": {
            "text/plain": [
              "10"
            ]
          },
          "metadata": {
            "tags": []
          },
          "execution_count": 133
        }
      ]
    },
    {
      "cell_type": "code",
      "metadata": {
        "id": "Pu7LVQ58c6lx"
      },
      "source": [],
      "execution_count": null,
      "outputs": []
    },
    {
      "cell_type": "code",
      "metadata": {
        "id": "mWMUh0iLZzM5"
      },
      "source": [
        "from sklearn.preprocessing import LabelBinarizer\n",
        "words_encoder = LabelBinarizer()\n",
        "words_encoder.fit(words)\n",
        "transformed = words_encoder.transform(words)"
      ],
      "execution_count": null,
      "outputs": []
    },
    {
      "cell_type": "code",
      "metadata": {
        "colab": {
          "base_uri": "https://localhost:8080/"
        },
        "id": "QDx9biJOadEW",
        "outputId": "8d8a5cae-6d59-455e-b6fb-5bd4e3afbe65"
      },
      "source": [
        "transformed[0]"
      ],
      "execution_count": null,
      "outputs": [
        {
          "output_type": "execute_result",
          "data": {
            "text/plain": [
              "array([0, 0, 1, 0, 0, 0, 0, 0, 0, 0, 0, 0, 0, 0, 0, 0, 0, 0, 0, 0, 0, 0,\n",
              "       0, 0, 0, 0, 0, 0, 0, 0, 0, 0, 0, 0, 0, 0, 0, 0, 0, 0, 0, 0, 0, 0,\n",
              "       0, 0, 0, 0, 0, 0, 0, 0, 0, 0, 0, 0])"
            ]
          },
          "metadata": {
            "tags": []
          },
          "execution_count": 100
        }
      ]
    },
    {
      "cell_type": "code",
      "metadata": {
        "colab": {
          "base_uri": "https://localhost:8080/",
          "height": 200
        },
        "id": "Va0ZJFfIZ42s",
        "outputId": "84afde3e-d8e1-498b-ec61-63738e75ba1f"
      },
      "source": [
        "cnt = 0\n",
        "person = hd_phonemes[0]\n",
        "rows = []\n",
        "for word in words:\n",
        "    word_tf = []\n",
        "    search = word.lower()\n",
        "    timeframes = hd_timeFrame_all[0][cnt]\n",
        "    for i in timeframes:\n",
        "        timeframe = [int(i[0]), int(i[1])]\n",
        "        word_tf.append(timeframe)\n",
        "    rows.append([search, person[cnt], word_tf, word_index[search], transformed[cnt]])\n",
        "    cnt+=1\n",
        "\n",
        "df_person_manual = pd.DataFrame(rows, columns=[\"word\", \"phonemes\",\"word_timeframes\",\"word_index\", \"word_vec\"])\n",
        "df_person_manual.head()"
      ],
      "execution_count": null,
      "outputs": [
        {
          "output_type": "execute_result",
          "data": {
            "text/html": [
              "<div>\n",
              "<style scoped>\n",
              "    .dataframe tbody tr th:only-of-type {\n",
              "        vertical-align: middle;\n",
              "    }\n",
              "\n",
              "    .dataframe tbody tr th {\n",
              "        vertical-align: top;\n",
              "    }\n",
              "\n",
              "    .dataframe thead th {\n",
              "        text-align: right;\n",
              "    }\n",
              "</style>\n",
              "<table border=\"1\" class=\"dataframe\">\n",
              "  <thead>\n",
              "    <tr style=\"text-align: right;\">\n",
              "      <th></th>\n",
              "      <th>word</th>\n",
              "      <th>phonemes</th>\n",
              "      <th>word_timeframes</th>\n",
              "      <th>word_index</th>\n",
              "      <th>word_vec</th>\n",
              "    </tr>\n",
              "  </thead>\n",
              "  <tbody>\n",
              "    <tr>\n",
              "      <th>0</th>\n",
              "      <td>please</td>\n",
              "      <td>[P, L, IY1, Z]</td>\n",
              "      <td>[[0, 4500000], [4500000, 4800000], [4800000, 5...</td>\n",
              "      <td>10</td>\n",
              "      <td>[0, 0, 1, 0, 0, 0, 0, 0, 0, 0, 0, 0, 0, 0, 0, ...</td>\n",
              "    </tr>\n",
              "    <tr>\n",
              "      <th>1</th>\n",
              "      <td>call</td>\n",
              "      <td>[K, AO1, L]</td>\n",
              "      <td>[[6000000, 6500000], [6500000, 7500000], [7500...</td>\n",
              "      <td>11</td>\n",
              "      <td>[0, 0, 0, 0, 0, 0, 0, 0, 0, 0, 0, 0, 0, 0, 0, ...</td>\n",
              "    </tr>\n",
              "    <tr>\n",
              "      <th>2</th>\n",
              "      <td>stella</td>\n",
              "      <td>[S, T, EH1, L, AH0]</td>\n",
              "      <td>[[8000000, 8900000], [8900000, 9600000], [9600...</td>\n",
              "      <td>12</td>\n",
              "      <td>[0, 0, 0, 0, 0, 1, 0, 0, 0, 0, 0, 0, 0, 0, 0, ...</td>\n",
              "    </tr>\n",
              "    <tr>\n",
              "      <th>3</th>\n",
              "      <td>ask</td>\n",
              "      <td>[AE1, S, K]</td>\n",
              "      <td>[[11300000, 11600000], [11600000, 11900000], [...</td>\n",
              "      <td>13</td>\n",
              "      <td>[1, 0, 0, 0, 0, 0, 0, 0, 0, 0, 0, 0, 0, 0, 0, ...</td>\n",
              "    </tr>\n",
              "    <tr>\n",
              "      <th>4</th>\n",
              "      <td>her</td>\n",
              "      <td>[HH, ER0]</td>\n",
              "      <td>[[12200000, 16600000], [16600000, 18000000]]</td>\n",
              "      <td>1</td>\n",
              "      <td>[0, 0, 0, 0, 0, 0, 0, 0, 0, 0, 0, 0, 0, 0, 0, ...</td>\n",
              "    </tr>\n",
              "  </tbody>\n",
              "</table>\n",
              "</div>"
            ],
            "text/plain": [
              "     word  ...                                           word_vec\n",
              "0  please  ...  [0, 0, 1, 0, 0, 0, 0, 0, 0, 0, 0, 0, 0, 0, 0, ...\n",
              "1    call  ...  [0, 0, 0, 0, 0, 0, 0, 0, 0, 0, 0, 0, 0, 0, 0, ...\n",
              "2  stella  ...  [0, 0, 0, 0, 0, 1, 0, 0, 0, 0, 0, 0, 0, 0, 0, ...\n",
              "3     ask  ...  [1, 0, 0, 0, 0, 0, 0, 0, 0, 0, 0, 0, 0, 0, 0, ...\n",
              "4     her  ...  [0, 0, 0, 0, 0, 0, 0, 0, 0, 0, 0, 0, 0, 0, 0, ...\n",
              "\n",
              "[5 rows x 5 columns]"
            ]
          },
          "metadata": {
            "tags": []
          },
          "execution_count": 153
        }
      ]
    },
    {
      "cell_type": "code",
      "metadata": {
        "colab": {
          "base_uri": "https://localhost:8080/"
        },
        "id": "Ykqw9_gsdIxd",
        "outputId": "f65a0fca-09b9-4e34-fbfe-24f09209621b"
      },
      "source": [
        "#finding prominent crest and troughs\n",
        "prom_peak_x = []\n",
        "prom_peak_y = []\n",
        "\n",
        "prom_trough_x = []\n",
        "prom_trough_y =[]\n",
        "\n",
        "counter=0\n",
        "for index,timeframes in enumerate(df_person_manual.word_timeframes):\n",
        "    word_peak_x = []\n",
        "    word_peak_y = []\n",
        "    word_trough_x = []\n",
        "    word_trough_y = []\n",
        "\n",
        "    for timeframe in timeframes:\n",
        "      x_peaks, y_peaks, x_troughs, y_troughs = prom_crest_and_troughs(timeframe, \"hindi1\")\n",
        "      word_peak_x.append(x_peaks)\n",
        "      word_peak_y.append(y_peaks)\n",
        "      word_trough_x.append(x_troughs)\n",
        "      word_trough_y.append(y_troughs)\n",
        "\n",
        "    prom_peak_x.append(word_peak_x)\n",
        "    prom_peak_y.append(word_peak_y)\n",
        "    prom_trough_x.append(word_trough_x)\n",
        "    prom_trough_y.append(word_trough_y)\n",
        "\n",
        "    counter+=1\n",
        "\n",
        "print(counter)"
      ],
      "execution_count": null,
      "outputs": [
        {
          "output_type": "stream",
          "text": [
            "69\n"
          ],
          "name": "stdout"
        }
      ]
    },
    {
      "cell_type": "code",
      "metadata": {
        "colab": {
          "base_uri": "https://localhost:8080/"
        },
        "id": "NsJjFj1DpcK0",
        "outputId": "6a04ea85-cfab-4d55-cddf-a2484e16397d"
      },
      "source": [
        "prom_peak_x[0]"
      ],
      "execution_count": null,
      "outputs": [
        {
          "output_type": "execute_result",
          "data": {
            "text/plain": [
              "[array([2599]),\n",
              " array([145, 164]),\n",
              " array([ 28,  46,  69,  88, 109, 129, 166, 202, 240, 277]),\n",
              " array([13, 36])]"
            ]
          },
          "metadata": {
            "tags": []
          },
          "execution_count": 283
        }
      ]
    },
    {
      "cell_type": "code",
      "metadata": {
        "colab": {
          "base_uri": "https://localhost:8080/"
        },
        "id": "vSDG49taq6nL",
        "outputId": "877952aa-9a1c-4b78-c0b9-fac7e44a7f1f"
      },
      "source": [
        "prom_peak_y[3]"
      ],
      "execution_count": null,
      "outputs": [
        {
          "output_type": "execute_result",
          "data": {
            "text/plain": [
              "[array([0.05156945, 0.03580549, 0.03706294, 0.04860812, 0.02743304,\n",
              "        0.03467818, 0.03362136, 0.0321382 ], dtype=float32),\n",
              " array([0.20102182, 0.20980248, 0.1137529 , 0.21363296], dtype=float32),\n",
              " array([0.23623264, 0.12771782, 0.30872777, 0.2586282 , 0.23256652,\n",
              "        0.30525598, 0.28993315, 0.21586816, 0.21930556, 0.26570663,\n",
              "        0.25321645, 0.31106135, 0.22709715, 0.21561174, 0.30195862,\n",
              "        0.24298914, 0.15965798, 0.21930988], dtype=float32),\n",
              " array([0.16716485, 0.15460221, 0.16672567, 0.24141519, 0.21123727,\n",
              "        0.34006718, 0.18481618], dtype=float32),\n",
              " array([0.28013638, 0.19001786, 0.20788145, 0.25891635, 0.21618734,\n",
              "        0.2544769 , 0.18416892, 0.21290152, 0.17053127, 0.1327893 ],\n",
              "       dtype=float32)]"
            ]
          },
          "metadata": {
            "tags": []
          },
          "execution_count": 286
        }
      ]
    },
    {
      "cell_type": "code",
      "metadata": {
        "colab": {
          "base_uri": "https://localhost:8080/"
        },
        "id": "wbg8PHoIrPod",
        "outputId": "1120e41e-e8ba-46da-c1ab-a3ac999c1e37"
      },
      "source": [
        "#find wavelength\n",
        "\n",
        "#finding all crest and troughs\n",
        "all_peak_x = []\n",
        "all_peak_y = []\n",
        "\n",
        "all_trough_x = []\n",
        "all_trough_y =[]\n",
        "\n",
        "all_wavelength_av = []\n",
        "\n",
        "counter=0\n",
        "for index,timeframes in enumerate(df_person_manual.word_timeframes):\n",
        "    word_peak_x = []\n",
        "    word_peak_y = []\n",
        "    word_trough_x = []\n",
        "    word_trough_y = []\n",
        "\n",
        "    word_wavelength_av = []\n",
        "\n",
        "\n",
        "    for timeframe in timeframes:\n",
        "      x_peaks, y_peaks, x_troughs, y_troughs = all_crest_and_troughs(timeframe, \"hindi1\")\n",
        "      word_peak_x.append(x_peaks)\n",
        "      word_peak_y.append(y_peaks)\n",
        "      word_trough_x.append(x_troughs)\n",
        "      word_trough_y.append(y_troughs)\n",
        "    \n",
        "      phoneme_wl_sum = 0\n",
        "      endval = 0\n",
        "\n",
        "      if(len(x_peaks)>len(x_troughs)):\n",
        "          endval = len(x_troughs)\n",
        "      elif (len(x_peaks)<len(x_troughs)):\n",
        "          endval = len(x_peaks)\n",
        "      else:\n",
        "          endval = len(x_peaks)\n",
        "\n",
        "      #find average of phonemes\n",
        "      for i in range(0, endval-1):\n",
        "        difference = abs(x_peaks[i]-x_troughs[i])\n",
        "        phoneme_wl_sum += difference\n",
        "      \n",
        "      wl_av = phoneme_wl_sum/(endval-1)\n",
        "      word_wavelength_av.append(wl_av)\n",
        "\n",
        "    all_wavelength_av.append(word_wavelength_av)\n",
        "\n",
        "    #---datapoints of peaks and troughs\n",
        "    all_peak_x.append(word_peak_x)\n",
        "    all_peak_y.append(word_peak_y)\n",
        "    all_trough_x.append(word_trough_x)\n",
        "    all_trough_y.append(word_trough_y)\n",
        "\n",
        "    counter+=1\n",
        "\n",
        "\n",
        "print(counter)\n",
        "\n",
        "\n",
        "\n"
      ],
      "execution_count": null,
      "outputs": [
        {
          "output_type": "stream",
          "text": [
            "69\n"
          ],
          "name": "stdout"
        }
      ]
    },
    {
      "cell_type": "code",
      "metadata": {
        "colab": {
          "base_uri": "https://localhost:8080/"
        },
        "id": "1c-u1v5MCTyi",
        "outputId": "de626e08-e452-47b6-d79d-4dadf6b63060"
      },
      "source": [
        "all_wavelength_av[2] #3 word av wavelength of each phonemes"
      ],
      "execution_count": null,
      "outputs": [
        {
          "output_type": "execute_result",
          "data": {
            "text/plain": [
              "[3.1666666666666665,\n",
              " 2.506172839506173,\n",
              " 5.589743589743589,\n",
              " 5.0,\n",
              " 5.538461538461538]"
            ]
          },
          "metadata": {
            "tags": []
          },
          "execution_count": 277
        }
      ]
    },
    {
      "cell_type": "code",
      "metadata": {
        "colab": {
          "base_uri": "https://localhost:8080/"
        },
        "id": "PGVlnryisDrT",
        "outputId": "f2f6f471-ad46-46f6-9839-9939ba601d05"
      },
      "source": [
        "len(all_peak_x)"
      ],
      "execution_count": null,
      "outputs": [
        {
          "output_type": "execute_result",
          "data": {
            "text/plain": [
              "69"
            ]
          },
          "metadata": {
            "tags": []
          },
          "execution_count": 178
        }
      ]
    },
    {
      "cell_type": "code",
      "metadata": {
        "colab": {
          "base_uri": "https://localhost:8080/"
        },
        "id": "mX17gQZvsGmz",
        "outputId": "3f7d8bab-8548-4eba-8af6-3a9df662e618"
      },
      "source": [
        "all_peak_x[2] #3rd word - \"STELLA\" - 5 phonemes"
      ],
      "execution_count": null,
      "outputs": [
        {
          "output_type": "execute_result",
          "data": {
            "text/plain": [
              "[array([  1,  13,  24,  37,  40,  50,  64,  70,  72,  86,  88, 100, 115,\n",
              "        117, 124, 136, 151, 156, 165, 172, 187, 194, 197, 199, 203, 210,\n",
              "        219, 222, 226, 229, 239, 247, 254, 258, 264, 267, 275, 283, 287,\n",
              "        291, 294, 296, 305, 307, 310, 316, 318, 321, 323, 326, 328, 334,\n",
              "        341, 353, 356, 361, 363, 366, 375, 384, 387, 389, 391, 394, 396,\n",
              "        399, 405, 412, 427, 442, 447, 454, 463, 465, 480, 485, 489, 496,\n",
              "        502, 508, 514, 517, 520, 524, 530, 537]),\n",
              " array([  1,   5,  11,  16,  20,  27,  29,  38,  40,  53,  58,  61,  64,\n",
              "         77,  82,  87,  93,  97, 100, 110, 114, 119, 130, 135, 138, 141,\n",
              "        146, 149, 152, 157, 166, 175, 179, 182, 185, 195, 197, 199, 201,\n",
              "        203, 205, 208, 210, 212, 214, 216, 223, 225, 227, 232, 236, 239,\n",
              "        244, 248, 253, 258, 260, 262, 267, 270, 272, 274, 277, 279, 281,\n",
              "        284, 289, 300, 304, 307, 312, 316, 319, 322, 337, 352, 356, 365,\n",
              "        378, 393, 406, 415]),\n",
              " array([  9,  23,  36,  47,  60,  73,  86,  99, 111, 124, 138, 152, 154,\n",
              "        165, 178, 185, 189, 196, 199, 210, 221, 234, 246, 249, 258, 265,\n",
              "        267, 278, 290, 302, 315, 318, 321, 335, 349, 365, 377, 385, 402,\n",
              "        414]),\n",
              " array([  2,   6,   9,  18,  20,  26,  41,  57,  71,  86, 101, 117, 130,\n",
              "        132, 146, 159, 173, 187, 201, 204, 215, 228, 238, 248, 259, 272,\n",
              "        283, 292]),\n",
              " array([  4,  16,  30,  40,  50,  60,  72,  87,  97, 107, 116, 129, 142,\n",
              "        153, 162, 172, 184, 198, 208, 218, 228, 240, 250, 260, 270, 285,\n",
              "        290])]"
            ]
          },
          "metadata": {
            "tags": []
          },
          "execution_count": 195
        }
      ]
    },
    {
      "cell_type": "code",
      "metadata": {
        "colab": {
          "base_uri": "https://localhost:8080/"
        },
        "id": "aSSNgTvnsH7R",
        "outputId": "73169292-c9c2-40db-b39e-53359c0f6236"
      },
      "source": [
        "all_trough_x[2]  #3rd word - \"STELLA\""
      ],
      "execution_count": null,
      "outputs": [
        {
          "output_type": "execute_result",
          "data": {
            "text/plain": [
              "[array([  6,  18,  31,  39,  43,  55,  68,  71,  80,  87,  92, 107, 116,\n",
              "        123, 128, 144, 155, 164, 166, 181, 193, 195, 198, 200, 205, 218,\n",
              "        220, 224, 227, 234, 245, 248, 256, 261, 266, 269, 281, 284, 289,\n",
              "        292, 295, 300, 306, 309, 311, 317, 320, 322, 325, 327, 333, 336,\n",
              "        347, 355, 360, 362, 365, 367, 381, 385, 388, 390, 393, 395, 397,\n",
              "        404, 406, 420, 437, 446, 450, 457, 464, 471, 484, 487, 494, 497,\n",
              "        507, 509, 516, 518, 523, 526, 535]),\n",
              " array([  4,   7,  15,  19,  21,  28,  32,  39,  50,  56,  59,  63,  69,\n",
              "         81,  84,  91,  95,  98, 105, 111, 118, 120, 133, 136, 140, 145,\n",
              "        147, 150, 156, 158, 171, 177, 181, 183, 194, 196, 198, 200, 202,\n",
              "        204, 207, 209, 211, 213, 215, 218, 224, 226, 231, 234, 237, 243,\n",
              "        245, 252, 254, 259, 261, 264, 269, 271, 273, 275, 278, 280, 283,\n",
              "        285, 295, 301, 306, 308, 313, 318, 320, 329, 344, 355, 358, 372,\n",
              "        385, 398, 412, 417]),\n",
              " array([  3,  16,  29,  41,  53,  66,  79,  91, 105, 117, 132, 142, 153,\n",
              "        159, 171, 184, 186, 190, 197, 201, 215, 227, 240, 248, 251, 259,\n",
              "        266, 272, 284, 296, 308, 317, 320, 329, 342, 358, 371, 383, 392,\n",
              "        411, 415]),\n",
              " array([  3,   8,  12,  19,  23,  33,  50,  64,  77,  93, 109, 124, 131,\n",
              "        134, 152, 166, 180, 193, 203, 209, 222, 232, 241, 253, 266, 278,\n",
              "        289, 298]),\n",
              " array([  9,  24,  35,  45,  55,  66,  81,  92, 102, 111, 123, 136, 147,\n",
              "        158, 167, 178, 192, 203, 214, 223, 233, 244, 255, 265, 277, 287,\n",
              "        295])]"
            ]
          },
          "metadata": {
            "tags": []
          },
          "execution_count": 203
        }
      ]
    },
    {
      "cell_type": "code",
      "metadata": {
        "colab": {
          "base_uri": "https://localhost:8080/"
        },
        "id": "7kLslx6Ksedb",
        "outputId": "86b32596-4d1a-44d0-cd45-2dba773b2089"
      },
      "source": [
        "cnt = 0\n",
        "sum = 0\n",
        "peak_points = all_peak_x[2][0]\n",
        "trough_points = all_trough_x[2][0]\n",
        "endval = 0\n",
        "\n",
        "if(len(peak_points)>len(trough_points)):\n",
        "    endval = len(trough_points)\n",
        "elif (len(peak_points)<len(trough_points)):\n",
        "    endval = len(peak_points)\n",
        "else:\n",
        "    endval = len(peak_points)\n",
        "\n",
        "for i in range(0, endval-1):\n",
        "  difference = abs(peak_points[i]-trough_points[i])\n",
        "  sum += difference\n",
        "\n",
        "print(sum/(endval-1))\n"
      ],
      "execution_count": null,
      "outputs": [
        {
          "output_type": "stream",
          "text": [
            "3.1666666666666665\n"
          ],
          "name": "stdout"
        }
      ]
    },
    {
      "cell_type": "code",
      "metadata": {
        "colab": {
          "base_uri": "https://localhost:8080/"
        },
        "id": "X8oFpchNLUyQ",
        "outputId": "64681fad-be05-4533-c44d-d2503c31c811"
      },
      "source": [
        "!mkdir speakers_df_file"
      ],
      "execution_count": null,
      "outputs": [
        {
          "output_type": "stream",
          "text": [
            "mkdir: cannot create directory ‘speakers_df_file’: File exists\n"
          ],
          "name": "stdout"
        }
      ]
    },
    {
      "cell_type": "code",
      "metadata": {
        "id": "frST2yZxBwwR"
      },
      "source": [
        "#hindi first\n",
        "person_cnt = 1\n",
        "for person in hd_phonemes:\n",
        "  filename = \"hindi{0}\".format(person_cnt)\n",
        "  cnt = 0\n",
        "  rows = []\n",
        "  for word in words:\n",
        "      word_tf = []\n",
        "      mfccs = []\n",
        "      search = word.lower()\n",
        "      timeframes = hd_timeFrame_all[person_cnt-1][cnt]\n",
        "      for i in timeframes:\n",
        "          timeframe = [int(i[0]), int(i[1])]\n",
        "          word_tf.append(timeframe)\n",
        "      rows.append([search, person[cnt], word_tf, word_index[search], transformed[cnt]])\n",
        "      cnt+=1\n",
        "        \n",
        "  df_person = pd.DataFrame(rows, columns=[\"word\", \"phonemes\",\"word_timeframes\",\"word_index\", \"word_vec\"])\n",
        "  df_person.head()\n",
        "    \n",
        "  #get average wavelength array for each word\n",
        "  features = pd.DataFrame(columns=['wave_lengths','prom_crests_x', 'prom_crests_y','prom_troughs_x','prom_troughs_y'])\n",
        "  # prom_crest_feature = pd.DataFrame(columns=['prom_crests'])\n",
        "  # prom_trough_feature = pd.DataFrame(columns=['prom_troughs'])\n",
        "\n",
        "  all_wavelength_av = []\n",
        "\n",
        "  all_peak_x = []\n",
        "  all_peak_y = []\n",
        "  all_trough_x = []\n",
        "  all_trough_y =[]\n",
        "\n",
        "  prom_peak_x = []\n",
        "  prom_peak_y = []\n",
        "  prom_trough_x = []\n",
        "  prom_trough_y =[]\n",
        "    \n",
        "  counter=0\n",
        "  for index,timeframes in enumerate(df_person.word_timeframes):\n",
        "\n",
        "    #get prominent crest/trough\n",
        "    prom_word_peak_x = []\n",
        "    prom_word_peak_y = []\n",
        "    prom_word_trough_x = []\n",
        "    prom_word_trough_y = []\n",
        "\n",
        "\n",
        "    #get wavelength\n",
        "    word_wavelength_av = []\n",
        "    word_peak_x = []\n",
        "    word_peak_y = []\n",
        "    word_trough_x = []\n",
        "    word_trough_y = []\n",
        "\n",
        "    for timeframe in timeframes:\n",
        "      #get prom. crest/trough\n",
        "      x_prom_peaks, y_prom_peaks, x_prom_troughs, y_prom_troughs = prom_crest_and_troughs(timeframe, filename)\n",
        "      prom_word_peak_x.append(x_prom_peaks)\n",
        "      prom_word_peak_y.append(y_prom_peaks)\n",
        "      prom_word_trough_x.append(x_prom_troughs)\n",
        "      prom_word_trough_y.append(y_prom_troughs)\n",
        "\n",
        "      #get wavelength\n",
        "      x_peaks, y_peaks, x_troughs, y_troughs = all_crest_and_troughs(timeframe, filename)\n",
        "      word_peak_x.append(x_peaks)\n",
        "      word_peak_y.append(y_peaks)\n",
        "      word_trough_x.append(x_troughs)\n",
        "      word_trough_y.append(y_troughs)\n",
        "        \n",
        "      phoneme_wl_sum = 0\n",
        "      endval = 0\n",
        "\n",
        "      if(len(x_peaks)>len(x_troughs)):\n",
        "          endval = len(x_troughs)\n",
        "      elif (len(x_peaks)<len(x_troughs)):\n",
        "          endval = len(x_peaks)\n",
        "      else:\n",
        "          endval = len(x_peaks)\n",
        "\n",
        "        #find average of phonemes\n",
        "      for i in range(0, endval-1):\n",
        "        difference = abs(x_peaks[i]-x_troughs[i])\n",
        "        phoneme_wl_sum += difference\n",
        "          \n",
        "      wl_av = phoneme_wl_sum/(endval-1)\n",
        "      word_wavelength_av.append(wl_av)\n",
        "\n",
        "    all_wavelength_av.append(word_wavelength_av)\n",
        "    #---datapoints of peaks and troughs\n",
        "    all_peak_x.append(word_peak_x)\n",
        "    all_peak_y.append(word_peak_y)\n",
        "    all_trough_x.append(word_trough_x)\n",
        "    all_trough_y.append(word_trough_y)\n",
        "\n",
        "    prom_peak_x.append(prom_word_peak_x)\n",
        "    prom_peak_y.append(prom_word_peak_y)\n",
        "    prom_trough_x.append(prom_word_trough_x)\n",
        "    prom_trough_y.append(prom_word_trough_y)\n",
        "\n",
        "    features.loc[counter,'wave_lengths'] = all_wavelength_av\n",
        "    features.loc[counter,'prom_crests_x'] = prom_peak_x\n",
        "    features.loc[counter,'prom_crests_y'] = prom_peak_y\n",
        "    features.loc[counter,'prom_troughs_x'] = prom_trough_x\n",
        "    features.loc[counter,'prom_troughs_y'] = prom_trough_y\n",
        "    counter+=1\n",
        "\n",
        "  df_person = pd.concat([df_person,features],axis=1)\n",
        "\n",
        "  export_path = 'speakers_df_file/hindi{0}.csv'.format(person_cnt)\n",
        "  df_person.to_csv(export_path)\n",
        "  person_cnt+=1\n",
        "\n",
        "print(person_cnt)"
      ],
      "execution_count": null,
      "outputs": []
    },
    {
      "cell_type": "code",
      "metadata": {
        "id": "9ANnzJTULZpR"
      },
      "source": [],
      "execution_count": null,
      "outputs": []
    }
  ]
}