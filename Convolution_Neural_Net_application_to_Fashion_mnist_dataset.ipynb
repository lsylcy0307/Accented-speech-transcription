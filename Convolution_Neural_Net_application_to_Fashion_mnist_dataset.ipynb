{
  "nbformat": 4,
  "nbformat_minor": 0,
  "metadata": {
    "accelerator": "GPU",
    "colab": {
      "provenance": [],
      "collapsed_sections": [],
      "include_colab_link": true
    },
    "kernelspec": {
      "display_name": "Python 3",
      "name": "python3"
    },
    "language_info": {
      "name": "python"
    }
  },
  "cells": [
    {
      "cell_type": "markdown",
      "metadata": {
        "id": "view-in-github",
        "colab_type": "text"
      },
      "source": [
        "<a href=\"https://colab.research.google.com/github/lsylcy0307/Accented-speech-transcription/blob/main/Convolution_Neural_Net_application_to_Fashion_mnist_dataset.ipynb\" target=\"_parent\"><img src=\"https://colab.research.google.com/assets/colab-badge.svg\" alt=\"Open In Colab\"/></a>"
      ]
    },
    {
      "cell_type": "code",
      "metadata": {
        "colab": {
          "base_uri": "https://localhost:8080/",
          "height": 380
        },
        "id": "QAoSh5HtZa2d",
        "outputId": "df724dac-c08b-4a6c-9d66-70657875cf33"
      },
      "source": [
        "''' \n",
        "Completed on Friday, 9th July 2021. Code tested and debugged. Accuracy of the model is 90%. Tensorflow is used for creating the Ml model. Working of the Model is explained with the help of comments to some extent. This \n",
        "is an example of a convolutional neural net with fashion mnist. NOTE: This model is created using tensorflow 2.0 and viewers don't need to worry about every tiny details of the code instead are recommended \n",
        "to take a look on the broader picture.\n",
        "'''\n",
        "#importing important libraries\n",
        "\n",
        "import tensorflow as tf\n",
        "import numpy as np \n",
        "import tensorflow_datasets as tfds \n",
        "\n",
        "#loading fashion_mnist dataset from tensorflow_datasets\n",
        "dataset, metadata= tfds.load(name='fashion_mnist',as_supervised=True, with_info=True)# if True as_supervised argument returns the image and label as a tuple and with_info returns the meatdata of the dataset. the .load() method builds, downloads and prepares the dataset passed with the name argument.\n",
        "train_dataset, test_dataset= dataset['train'], dataset['test']#mistakenly assigned the test_dataset variable with the train split. (Debugging Status: Fixed). \n",
        "\n",
        "# normalizes the data by converting 0-225 value to a float ranging between 0 and 1 to ease matrix multiplication and keep it simple and illustratable.\n",
        "def normalize(images,labels):# takes images and labels as inputs\n",
        "    images= tf.cast(images,tf.float32)#.cast() method changes the data type of the tensors to floating point interger.\n",
        "    images /=225 # converts value of tensors ranging from 0-225 to a float between 0 and 1.\n",
        "    return images,labels # returns normalised values of only the images. Labels are untouched. \n",
        "\n",
        "\n",
        "train_dataset = train_dataset.map(normalize)# normalises every elemement of the train_dataset with the help of .map() method. NOTE: the normalised function is not executed instead it's address is left to the map function.\n",
        "test_dataset  = test_dataset.map(normalize)# normalises every elemement of the test_dataset with the help of .map() method. NOTE: the normalised function is not executed instead it's address is left to the map function.\n",
        "train_dataset = train_dataset.cache()# train_dataset is cached(stored in the RAM) for faster execution.\n",
        "test_dataset  = test_dataset.cache()# test_dataset is cached(stored in the RAM) for faster execution.\n",
        "\n",
        "# creates the layers of the models. Layers : 2D convolutions, Maxpooling, Flatten,Dense(hidden layer),Dense(output layer), Activations: ReLU and softmax.\n",
        "model = tf.keras.Sequential([ \n",
        "    tf.keras.layers.Conv2D(32, (3,3), padding='same', activation=tf.nn.relu,\n",
        "                           input_shape=(28, 28, 1)),\n",
        "    tf.keras.layers.MaxPooling2D((2, 2), strides=2),\n",
        "    tf.keras.layers.Conv2D(64, (3,3), padding='same', activation=tf.nn.relu),\n",
        "    tf.keras.layers.MaxPooling2D((2, 2), strides=2),\n",
        "    tf.keras.layers.Conv2D(128, (3,3), padding='same', activation=tf.nn.relu),\n",
        "    tf.keras.layers.MaxPooling2D((2, 2), strides=2),\n",
        "    \n",
        "    tf.keras.layers.Dropout(0.5),\n",
        "    tf.keras.layers.Flatten(), \n",
        "    tf.keras.layers.Dense(512, activation=tf.nn.relu),\n",
        "    tf.keras.layers.Dense(10, activation=tf.nn.softmax)\n",
        "])\n",
        "\n",
        "#compiles the model. Optimiser: Adam, Loss metric: Sparse Categorical Crossentrophy, Evaluation metric: accuracy\n",
        "model.compile(optimizer=tf.keras.optimizers.Adam(0.001),\n",
        "              loss=tf.keras.losses.SparseCategoricalCrossentropy(),\n",
        "              metrics=['accuracy'])\n",
        "\n",
        "train_dataset= train_dataset.cache().repeat().shuffle(60000).batch(32)# train_dataset caches train_dataset applying shuffle and repeat to avoid chances of overfitting\n",
        "test_dataset=  test_dataset.cache().batch(32)## train_dataset caches train_dataset applying shuffle and repeat to avoid chances of overfitting.(Debugging Status: Fixed)\n",
        "model.fit(train_dataset,validation_data=test_dataset,epochs=5,steps_per_epoch=1875)# fits the training data with 5 epochs.\n",
        "a,b=model.evaluate(test_dataset)\n",
        "\n",
        "\n",
        "'''\n",
        "\n",
        "\n",
        "Implementation of the model is done with a low level library (Tensorflow). For faster and easier model creation Keras API is recommended for students in high school that provides high level understanding of DL model.\n",
        "Viewers who are not familiar with Deep Learning, keras Tensorflow2.0 API and numpy are provided with the supplemetary links .\n",
        "\n",
        "Supplements:\n",
        "3Blue1Brown's exceptional playlist on Deep neural networks and it's working. https://www.youtube.com/playlist?list=PLZHQObOWTQDNU6R1_67000Dx_ZCJB-3pi \n",
        "Keith Galli's video on Introduction to Neural Networks in Python with Tensorflow with Keras API. https://www.youtube.com/watch?v=aBIGJeHRZLQ\n",
        "Keith Galli's video on Complete Python NumPy Tutorial (Creating Arrays, Indexing, Math, Statistics, Reshaping) .https://www.youtube.com/watch?v=GB9ByFAIAH4\n",
        "\n",
        "These videos would provide a descent understanding of neural nets, keras and numpy to get started creating simple neural nets.\n",
        "'''"
      ],
      "execution_count": null,
      "outputs": [
        {
          "output_type": "stream",
          "text": [
            "Epoch 1/5\n",
            "1875/1875 [==============================] - 45s 4ms/step - loss: 0.4659 - accuracy: 0.8279 - val_loss: 0.3192 - val_accuracy: 0.8815\n",
            "Epoch 2/5\n",
            "1875/1875 [==============================] - 7s 4ms/step - loss: 0.3050 - accuracy: 0.8881 - val_loss: 0.2684 - val_accuracy: 0.9015\n",
            "Epoch 3/5\n",
            "1875/1875 [==============================] - 7s 4ms/step - loss: 0.2658 - accuracy: 0.9020 - val_loss: 0.2450 - val_accuracy: 0.9086\n",
            "Epoch 4/5\n",
            "1875/1875 [==============================] - 7s 4ms/step - loss: 0.2350 - accuracy: 0.9135 - val_loss: 0.2377 - val_accuracy: 0.9171\n",
            "Epoch 5/5\n",
            "1875/1875 [==============================] - 7s 4ms/step - loss: 0.2182 - accuracy: 0.9182 - val_loss: 0.2408 - val_accuracy: 0.9151\n",
            "313/313 [==============================] - 1s 2ms/step - loss: 0.2408 - accuracy: 0.9151\n"
          ],
          "name": "stdout"
        },
        {
          "output_type": "execute_result",
          "data": {
            "application/vnd.google.colaboratory.intrinsic+json": {
              "type": "string"
            },
            "text/plain": [
              "\"\\n\\n\\nImplementation of the model is done with a low level library (Tensorflow). For faster and easier model creation Keras API is recommended for students in high school that provides high level understanding of DL model.\\nViewers who are not familiar with Deep Learning, keras Tensorflow2.0 API and numpy are provided with the supplemetary links .\\n\\nSupplements:\\n3Blue1Brown's exceptional playlist on Deep neural networks and it's working. https://www.youtube.com/playlist?list=PLZHQObOWTQDNU6R1_67000Dx_ZCJB-3pi \\nKeith Galli's video on Introduction to Neural Networks in Python with Tensorflow with Keras API. https://www.youtube.com/watch?v=aBIGJeHRZLQ\\nKeith Galli's video on Complete Python NumPy Tutorial (Creating Arrays, Indexing, Math, Statistics, Reshaping) .https://www.youtube.com/watch?v=GB9ByFAIAH4\\n\\nThese videos would provide a descent understanding of neural nets, keras and numpy to get started creating simple neural nets.\\n\""
            ]
          },
          "metadata": {
            "tags": []
          },
          "execution_count": 3
        }
      ]
    }
  ]
}